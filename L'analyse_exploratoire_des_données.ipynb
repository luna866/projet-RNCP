{
  "cells": [
    {
      "cell_type": "markdown",
      "metadata": {
        "id": "view-in-github",
        "colab_type": "text"
      },
      "source": [
        "<a href=\"https://colab.research.google.com/github/nitron-alpha-kplr/projet-RNCP/blob/main/L'analyse_exploratoire_des_donn%C3%A9es.ipynb\" target=\"_parent\"><img src=\"https://colab.research.google.com/assets/colab-badge.svg\" alt=\"Open In Colab\"/></a>"
      ]
    },
    {
      "cell_type": "code",
      "execution_count": null,
      "metadata": {
        "id": "0E8PItapP3VM"
      },
      "outputs": [],
      "source": [
        "import pandas as pd\n",
        "import matplotlib.pyplot as plt\n",
        "from sklearn.preprocessing import StandardScaler, LabelEncoder\n",
        "from sklearn.feature_extraction.text import CountVectorizer\n",
        "import numpy as np\n",
        "np.seterr(divide='ignore', invalid='ignore')\n",
        "#np.seterr(divide='print', invalid='print')\n",
        "from scipy.sparse import hstack, csr_matrix\n",
        "from xgboost import XGBClassifier\n",
        "from mpl_toolkits.mplot3d import Axes3D\n",
        "from sklearn.metrics import confusion_matrix, roc_curve\n",
        "import seaborn as sns\n",
        "import IPython\n",
        "from plotly.offline import init_notebook_mode\n",
        "%matplotlib inline\n",
        "import plotly.offline as offline\n",
        "from sklearn.calibration import CalibratedClassifierCV\n",
        "import plotly.graph_objs as go\n",
        "from sklearn.model_selection import train_test_split\n",
        "from sklearn.decomposition import PCA\n",
        "from sklearn.manifold import TSNE\n",
        "from sklearn.linear_model import LogisticRegression\n",
        "from sklearn.ensemble import RandomForestClassifier\n",
        "from sklearn.neighbors import KNeighborsClassifier\n",
        "from sklearn.metrics import log_loss\n",
        "from tqdm import tqdm\n",
        "from sklearn.preprocessing import MinMaxScaler\n",
        "from sklearn.naive_bayes import MultinomialNB\n",
        "from sklearn.feature_selection import SelectKBest, chi2\n",
        "from sklearn.tree import DecisionTreeClassifier\n",
        "from sklearn.model_selection import GridSearchCV\n",
        "from tensorflow.keras.models import Sequential, load_model\n",
        "from tensorflow.keras.layers import Dense, Activation, Dropout\n",
        "from tensorflow.keras.callbacks import ModelCheckpoint, EarlyStopping\n",
        "from prettytable import PrettyTable\n",
        "from sklearn.metrics import accuracy_score\n",
        "from sklearn.metrics import roc_auc_score\n",
        "import pickle\n",
        "import plotly.express as px"
      ]
    },
    {
      "cell_type": "markdown",
      "source": [
        "L’un des principaux défis de recherche dans ce domaine est l’indisponibilité d’un ensemble complet de données réseau pouvant refléter des scénarios de trafic réseau modernes, une grande variété d’intrusions à faible empreinte et des informations structurées en profondeur sur le trafic réseau. En évaluant les efforts de recherche sur les systèmes de détection d'intrusion dans les réseaux, les ensembles de données de référence KDD98, KDDCUP99 et NSLKDD ont été générés il y a dix ans. Cependant, de nombreuses études actuelles ont montré que, dans l’environnement actuel des menaces réseau, ces ensembles de données ne reflètent pas de manière inclusive le trafic réseau et les attaques modernes à faible empreinte. Pour remédier à l'indisponibilité des ensembles de données de référence du réseau, cet article examine la création d'un ensemble de données UNSW-NB15. Cet ensemble de données présente un hybride de la réalité moderne normale et des activités d'attaque synthétisées contemporaines du trafic réseau. Des méthodes existantes et nouvelles sont utilisées pour générer les caractéristiques de l'ensemble de données UNSWNB15."
      ],
      "metadata": {
        "id": "lMDNG6AnkK5p"
      }
    },
    {
      "cell_type": "markdown",
      "metadata": {
        "id": "rTEwaX3pP3VX"
      },
      "source": [
        "référence -https://www.kaggle.com/datasets/mrwellsdavid/unsw-nb15\n",
        "\n",
        "En fonction de la nature des activités d'attaque, l'ensemble de données UNSW‐NB153 contient neuf familles d'attaques :\n",
        "\n",
        "Fuzzers : attaque qui utilise des quantités massives de données aléatoires appelées « Fuzz » pour déclencher une panne d'un réseau ou tenter de faire planter des serveurs importants sur un réseau.\n",
        "\n",
        "Analyse : cette classe contient diverses formes d'attaques basées sur des analyses de ports, des analyses de vulnérabilités, des fichiers spam et des empreintes. On l'appelle également reconnaissance active, où le réseau est analysé d'une manière ou d'une autre mais non exploité.\n",
        "\n",
        "Portes dérobées : cette catégorie utilise une technique par laquelle les attaquants utilisent un portail système légitime pour obtenir un accès illicite. Les portes dérobées utilisent des logiciels malveillants pour s'installer dans un système informatique et pour fournir un accès à distance aux attaquants dans le cadre d'un exploit.\n",
        "\n",
        "Déni de service (DoS) : cyberattaque bien connue dans laquelle l'auteur cherche à compromettre une machine avec plusieurs demandes de connexion illégitimes afin de rendre les ressources réseau indisponibles pour ses utilisateurs prévus, temporairement ou définitivement. Celles-ci peuvent être difficiles à distinguer d’une activité réseau légitime ; cependant, il existe certains indicateurs permettant de détecter de telles activités intrusives en cours.\n",
        "\n",
        "Exploits : les attaques par exploit sont généralement réalisées en ciblant et en compromettant les vulnérabilités connues qui existent dans les systèmes d'exploitation. Un logiciel d'exploitation peut également être utilisé pour automatiser ces attaques une fois qu'une vulnérabilité potentielle est détectée dans un réseau.\n",
        "\n",
        "Générique : Une attaque basée sur des chiffrements, qui est essentiellement une attaque par collision sur la clé secrète générée par les principes cryptographiques. Cette analyse peut être appliquée aux chiffrements de codes d’authentification par blocs, flux et messages. On parle souvent d'attaque par collision, car la plupart de ces familles sont vulnérables à l'attaque d'anniversaire. L'attaque dépend de la probabilité plus élevée de collisions constatées entre les tentatives d'attaque aléatoires.\n",
        "\n",
        "Reconnaissance : elle collecte des informations préliminaires sur tout réseau public ou hôte cible et est ensuite utilisée par des techniques d'exploitation pour pénétrer les hôtes ou réseaux cibles en exploitant les informations recueillies. Cette classe utilise des informations librement accessibles au service public « Whois », aux enregistrements ARIN et Shodan. Les recherches sur les réseaux sociaux facilitent les attaques de reconnaissance. On les appelle également reconnaissance passive.\n",
        "\n",
        "Shellcode : Il s’agit d’un sous-ensemble de l’exploit de classe. Cette attaque utilise un petit morceau de code comme charge utile d'un exploit. Le code malveillant est injecté dans une application active pour compromettre et accéder à distance à l'ordinateur d'une victime. Il démarre généralement un shell de commande à partir duquel l'attaquant peut contrôler la machine compromise.\n",
        "\n",
        "Vers : un ver est une attaque malveillante qui se propage via la propagation du réseau et infecte assez rapidement un réseau beaucoup plus vaste. Un ver peut également infecter des ordinateurs, puis les transformer en zombies ou en robots, dans le but de les utiliser dans des attaques distribuées via la formation de réseaux de zombies."
      ]
    },
    {
      "cell_type": "markdown",
      "metadata": {
        "id": "b-vXJCU5P3VY"
      },
      "source": [
        "Ensemble de données – Chargement et nettoyage##"
      ]
    },
    {
      "cell_type": "code",
      "execution_count": null,
      "metadata": {
        "id": "7j-N-MrtP3VY",
        "outputId": "c0389cbe-8529-456c-8063-872486ce2578",
        "colab": {
          "base_uri": "https://localhost:8080/",
          "height": 1000
        }
      },
      "outputs": [
        {
          "output_type": "execute_result",
          "data": {
            "text/plain": [
              "    No.              Name      Type   \\\n",
              "0     1             srcip    nominal   \n",
              "1     2             sport    integer   \n",
              "2     3             dstip    nominal   \n",
              "3     4            dsport    integer   \n",
              "4     5             proto    nominal   \n",
              "5     6             state    nominal   \n",
              "6     7               dur      Float   \n",
              "7     8            sbytes    Integer   \n",
              "8     9            dbytes    Integer   \n",
              "9    10              sttl    Integer   \n",
              "10   11              dttl    Integer   \n",
              "11   12             sloss    Integer   \n",
              "12   13             dloss    Integer   \n",
              "13   14           service    nominal   \n",
              "14   15             Sload      Float   \n",
              "15   16             Dload      Float   \n",
              "16   17             Spkts    integer   \n",
              "17   18             Dpkts    integer   \n",
              "18   19              swin    integer   \n",
              "19   20              dwin    integer   \n",
              "20   21             stcpb    integer   \n",
              "21   22             dtcpb    integer   \n",
              "22   23           smeansz    integer   \n",
              "23   24           dmeansz    integer   \n",
              "24   25       trans_depth    integer   \n",
              "25   26       res_bdy_len    integer   \n",
              "26   27              Sjit      Float   \n",
              "27   28              Djit      Float   \n",
              "28   29             Stime  Timestamp   \n",
              "29   30             Ltime  Timestamp   \n",
              "30   31           Sintpkt      Float   \n",
              "31   32           Dintpkt      Float   \n",
              "32   33            tcprtt      Float   \n",
              "33   34            synack      Float   \n",
              "34   35            ackdat      Float   \n",
              "35   36   is_sm_ips_ports     Binary   \n",
              "36   37      ct_state_ttl    Integer   \n",
              "37   38  ct_flw_http_mthd    Integer   \n",
              "38   39      is_ftp_login     Binary   \n",
              "39   40        ct_ftp_cmd    integer   \n",
              "40   41        ct_srv_src    integer   \n",
              "41   42        ct_srv_dst    integer   \n",
              "42   43        ct_dst_ltm    integer   \n",
              "43   44       ct_src_ ltm    integer   \n",
              "44   45  ct_src_dport_ltm    integer   \n",
              "45   46  ct_dst_sport_ltm    integer   \n",
              "46   47    ct_dst_src_ltm    integer   \n",
              "47   48        attack_cat    nominal   \n",
              "48   49             Label     binary   \n",
              "\n",
              "                                          Description  \n",
              "0                                   Source IP address  \n",
              "1                                  Source port number  \n",
              "2                              Destination IP address  \n",
              "3                             Destination port number  \n",
              "4                                Transaction protocol  \n",
              "5   Indicates to the state and its dependent proto...  \n",
              "6                               Record total duration  \n",
              "7            Source to destination transaction bytes   \n",
              "8             Destination to source transaction bytes  \n",
              "9           Source to destination time to live value   \n",
              "10           Destination to source time to live value  \n",
              "11           Source packets retransmitted or dropped   \n",
              "12       Destination packets retransmitted or dropped  \n",
              "13  http, ftp, smtp, ssh, dns, ftp-data ,irc  and ...  \n",
              "14                             Source bits per second  \n",
              "15                        Destination bits per second  \n",
              "16                Source to destination packet count   \n",
              "17                 Destination to source packet count  \n",
              "18              Source TCP window advertisement value  \n",
              "19         Destination TCP window advertisement value  \n",
              "20                    Source TCP base sequence number  \n",
              "21               Destination TCP base sequence number  \n",
              "22  Mean of the ?ow packet size transmitted by the...  \n",
              "23  Mean of the ?ow packet size transmitted by the...  \n",
              "24  Represents the pipelined depth into the connec...  \n",
              "25  Actual uncompressed content size of the data t...  \n",
              "26                               Source jitter (mSec)  \n",
              "27                          Destination jitter (mSec)  \n",
              "28                                  record start time  \n",
              "29                                   record last time  \n",
              "30             Source interpacket arrival time (mSec)  \n",
              "31        Destination interpacket arrival time (mSec)  \n",
              "32  TCP connection setup round-trip time, the sum ...  \n",
              "33  TCP connection setup time, the time between th...  \n",
              "34  TCP connection setup time, the time between th...  \n",
              "35  If source (1) and destination (3)IP addresses ...  \n",
              "36  No. for each state (6) according to specific r...  \n",
              "37  No. of flows that has methods such as Get and ...  \n",
              "38  If the ftp session is accessed by user and pas...  \n",
              "39     No of flows that has a command in ftp session.  \n",
              "40  No. of connections that contain the same servi...  \n",
              "41  No. of connections that contain the same servi...  \n",
              "42  No. of connections of the same destination add...  \n",
              "43  No. of connections of the same source address ...  \n",
              "44  No of connections of the same source address (...  \n",
              "45  No of connections of the same destination addr...  \n",
              "46  No of connections of the same source (1) and t...  \n",
              "47  The name of each attack category. In this data...  \n",
              "48              0 for normal and 1 for attack records  "
            ],
            "text/html": [
              "\n",
              "  <div id=\"df-5c060180-e06a-4fe3-bdd9-3ceafba30c1a\" class=\"colab-df-container\">\n",
              "    <div>\n",
              "<style scoped>\n",
              "    .dataframe tbody tr th:only-of-type {\n",
              "        vertical-align: middle;\n",
              "    }\n",
              "\n",
              "    .dataframe tbody tr th {\n",
              "        vertical-align: top;\n",
              "    }\n",
              "\n",
              "    .dataframe thead th {\n",
              "        text-align: right;\n",
              "    }\n",
              "</style>\n",
              "<table border=\"1\" class=\"dataframe\">\n",
              "  <thead>\n",
              "    <tr style=\"text-align: right;\">\n",
              "      <th></th>\n",
              "      <th>No.</th>\n",
              "      <th>Name</th>\n",
              "      <th>Type</th>\n",
              "      <th>Description</th>\n",
              "    </tr>\n",
              "  </thead>\n",
              "  <tbody>\n",
              "    <tr>\n",
              "      <th>0</th>\n",
              "      <td>1</td>\n",
              "      <td>srcip</td>\n",
              "      <td>nominal</td>\n",
              "      <td>Source IP address</td>\n",
              "    </tr>\n",
              "    <tr>\n",
              "      <th>1</th>\n",
              "      <td>2</td>\n",
              "      <td>sport</td>\n",
              "      <td>integer</td>\n",
              "      <td>Source port number</td>\n",
              "    </tr>\n",
              "    <tr>\n",
              "      <th>2</th>\n",
              "      <td>3</td>\n",
              "      <td>dstip</td>\n",
              "      <td>nominal</td>\n",
              "      <td>Destination IP address</td>\n",
              "    </tr>\n",
              "    <tr>\n",
              "      <th>3</th>\n",
              "      <td>4</td>\n",
              "      <td>dsport</td>\n",
              "      <td>integer</td>\n",
              "      <td>Destination port number</td>\n",
              "    </tr>\n",
              "    <tr>\n",
              "      <th>4</th>\n",
              "      <td>5</td>\n",
              "      <td>proto</td>\n",
              "      <td>nominal</td>\n",
              "      <td>Transaction protocol</td>\n",
              "    </tr>\n",
              "    <tr>\n",
              "      <th>5</th>\n",
              "      <td>6</td>\n",
              "      <td>state</td>\n",
              "      <td>nominal</td>\n",
              "      <td>Indicates to the state and its dependent proto...</td>\n",
              "    </tr>\n",
              "    <tr>\n",
              "      <th>6</th>\n",
              "      <td>7</td>\n",
              "      <td>dur</td>\n",
              "      <td>Float</td>\n",
              "      <td>Record total duration</td>\n",
              "    </tr>\n",
              "    <tr>\n",
              "      <th>7</th>\n",
              "      <td>8</td>\n",
              "      <td>sbytes</td>\n",
              "      <td>Integer</td>\n",
              "      <td>Source to destination transaction bytes</td>\n",
              "    </tr>\n",
              "    <tr>\n",
              "      <th>8</th>\n",
              "      <td>9</td>\n",
              "      <td>dbytes</td>\n",
              "      <td>Integer</td>\n",
              "      <td>Destination to source transaction bytes</td>\n",
              "    </tr>\n",
              "    <tr>\n",
              "      <th>9</th>\n",
              "      <td>10</td>\n",
              "      <td>sttl</td>\n",
              "      <td>Integer</td>\n",
              "      <td>Source to destination time to live value</td>\n",
              "    </tr>\n",
              "    <tr>\n",
              "      <th>10</th>\n",
              "      <td>11</td>\n",
              "      <td>dttl</td>\n",
              "      <td>Integer</td>\n",
              "      <td>Destination to source time to live value</td>\n",
              "    </tr>\n",
              "    <tr>\n",
              "      <th>11</th>\n",
              "      <td>12</td>\n",
              "      <td>sloss</td>\n",
              "      <td>Integer</td>\n",
              "      <td>Source packets retransmitted or dropped</td>\n",
              "    </tr>\n",
              "    <tr>\n",
              "      <th>12</th>\n",
              "      <td>13</td>\n",
              "      <td>dloss</td>\n",
              "      <td>Integer</td>\n",
              "      <td>Destination packets retransmitted or dropped</td>\n",
              "    </tr>\n",
              "    <tr>\n",
              "      <th>13</th>\n",
              "      <td>14</td>\n",
              "      <td>service</td>\n",
              "      <td>nominal</td>\n",
              "      <td>http, ftp, smtp, ssh, dns, ftp-data ,irc  and ...</td>\n",
              "    </tr>\n",
              "    <tr>\n",
              "      <th>14</th>\n",
              "      <td>15</td>\n",
              "      <td>Sload</td>\n",
              "      <td>Float</td>\n",
              "      <td>Source bits per second</td>\n",
              "    </tr>\n",
              "    <tr>\n",
              "      <th>15</th>\n",
              "      <td>16</td>\n",
              "      <td>Dload</td>\n",
              "      <td>Float</td>\n",
              "      <td>Destination bits per second</td>\n",
              "    </tr>\n",
              "    <tr>\n",
              "      <th>16</th>\n",
              "      <td>17</td>\n",
              "      <td>Spkts</td>\n",
              "      <td>integer</td>\n",
              "      <td>Source to destination packet count</td>\n",
              "    </tr>\n",
              "    <tr>\n",
              "      <th>17</th>\n",
              "      <td>18</td>\n",
              "      <td>Dpkts</td>\n",
              "      <td>integer</td>\n",
              "      <td>Destination to source packet count</td>\n",
              "    </tr>\n",
              "    <tr>\n",
              "      <th>18</th>\n",
              "      <td>19</td>\n",
              "      <td>swin</td>\n",
              "      <td>integer</td>\n",
              "      <td>Source TCP window advertisement value</td>\n",
              "    </tr>\n",
              "    <tr>\n",
              "      <th>19</th>\n",
              "      <td>20</td>\n",
              "      <td>dwin</td>\n",
              "      <td>integer</td>\n",
              "      <td>Destination TCP window advertisement value</td>\n",
              "    </tr>\n",
              "    <tr>\n",
              "      <th>20</th>\n",
              "      <td>21</td>\n",
              "      <td>stcpb</td>\n",
              "      <td>integer</td>\n",
              "      <td>Source TCP base sequence number</td>\n",
              "    </tr>\n",
              "    <tr>\n",
              "      <th>21</th>\n",
              "      <td>22</td>\n",
              "      <td>dtcpb</td>\n",
              "      <td>integer</td>\n",
              "      <td>Destination TCP base sequence number</td>\n",
              "    </tr>\n",
              "    <tr>\n",
              "      <th>22</th>\n",
              "      <td>23</td>\n",
              "      <td>smeansz</td>\n",
              "      <td>integer</td>\n",
              "      <td>Mean of the ?ow packet size transmitted by the...</td>\n",
              "    </tr>\n",
              "    <tr>\n",
              "      <th>23</th>\n",
              "      <td>24</td>\n",
              "      <td>dmeansz</td>\n",
              "      <td>integer</td>\n",
              "      <td>Mean of the ?ow packet size transmitted by the...</td>\n",
              "    </tr>\n",
              "    <tr>\n",
              "      <th>24</th>\n",
              "      <td>25</td>\n",
              "      <td>trans_depth</td>\n",
              "      <td>integer</td>\n",
              "      <td>Represents the pipelined depth into the connec...</td>\n",
              "    </tr>\n",
              "    <tr>\n",
              "      <th>25</th>\n",
              "      <td>26</td>\n",
              "      <td>res_bdy_len</td>\n",
              "      <td>integer</td>\n",
              "      <td>Actual uncompressed content size of the data t...</td>\n",
              "    </tr>\n",
              "    <tr>\n",
              "      <th>26</th>\n",
              "      <td>27</td>\n",
              "      <td>Sjit</td>\n",
              "      <td>Float</td>\n",
              "      <td>Source jitter (mSec)</td>\n",
              "    </tr>\n",
              "    <tr>\n",
              "      <th>27</th>\n",
              "      <td>28</td>\n",
              "      <td>Djit</td>\n",
              "      <td>Float</td>\n",
              "      <td>Destination jitter (mSec)</td>\n",
              "    </tr>\n",
              "    <tr>\n",
              "      <th>28</th>\n",
              "      <td>29</td>\n",
              "      <td>Stime</td>\n",
              "      <td>Timestamp</td>\n",
              "      <td>record start time</td>\n",
              "    </tr>\n",
              "    <tr>\n",
              "      <th>29</th>\n",
              "      <td>30</td>\n",
              "      <td>Ltime</td>\n",
              "      <td>Timestamp</td>\n",
              "      <td>record last time</td>\n",
              "    </tr>\n",
              "    <tr>\n",
              "      <th>30</th>\n",
              "      <td>31</td>\n",
              "      <td>Sintpkt</td>\n",
              "      <td>Float</td>\n",
              "      <td>Source interpacket arrival time (mSec)</td>\n",
              "    </tr>\n",
              "    <tr>\n",
              "      <th>31</th>\n",
              "      <td>32</td>\n",
              "      <td>Dintpkt</td>\n",
              "      <td>Float</td>\n",
              "      <td>Destination interpacket arrival time (mSec)</td>\n",
              "    </tr>\n",
              "    <tr>\n",
              "      <th>32</th>\n",
              "      <td>33</td>\n",
              "      <td>tcprtt</td>\n",
              "      <td>Float</td>\n",
              "      <td>TCP connection setup round-trip time, the sum ...</td>\n",
              "    </tr>\n",
              "    <tr>\n",
              "      <th>33</th>\n",
              "      <td>34</td>\n",
              "      <td>synack</td>\n",
              "      <td>Float</td>\n",
              "      <td>TCP connection setup time, the time between th...</td>\n",
              "    </tr>\n",
              "    <tr>\n",
              "      <th>34</th>\n",
              "      <td>35</td>\n",
              "      <td>ackdat</td>\n",
              "      <td>Float</td>\n",
              "      <td>TCP connection setup time, the time between th...</td>\n",
              "    </tr>\n",
              "    <tr>\n",
              "      <th>35</th>\n",
              "      <td>36</td>\n",
              "      <td>is_sm_ips_ports</td>\n",
              "      <td>Binary</td>\n",
              "      <td>If source (1) and destination (3)IP addresses ...</td>\n",
              "    </tr>\n",
              "    <tr>\n",
              "      <th>36</th>\n",
              "      <td>37</td>\n",
              "      <td>ct_state_ttl</td>\n",
              "      <td>Integer</td>\n",
              "      <td>No. for each state (6) according to specific r...</td>\n",
              "    </tr>\n",
              "    <tr>\n",
              "      <th>37</th>\n",
              "      <td>38</td>\n",
              "      <td>ct_flw_http_mthd</td>\n",
              "      <td>Integer</td>\n",
              "      <td>No. of flows that has methods such as Get and ...</td>\n",
              "    </tr>\n",
              "    <tr>\n",
              "      <th>38</th>\n",
              "      <td>39</td>\n",
              "      <td>is_ftp_login</td>\n",
              "      <td>Binary</td>\n",
              "      <td>If the ftp session is accessed by user and pas...</td>\n",
              "    </tr>\n",
              "    <tr>\n",
              "      <th>39</th>\n",
              "      <td>40</td>\n",
              "      <td>ct_ftp_cmd</td>\n",
              "      <td>integer</td>\n",
              "      <td>No of flows that has a command in ftp session.</td>\n",
              "    </tr>\n",
              "    <tr>\n",
              "      <th>40</th>\n",
              "      <td>41</td>\n",
              "      <td>ct_srv_src</td>\n",
              "      <td>integer</td>\n",
              "      <td>No. of connections that contain the same servi...</td>\n",
              "    </tr>\n",
              "    <tr>\n",
              "      <th>41</th>\n",
              "      <td>42</td>\n",
              "      <td>ct_srv_dst</td>\n",
              "      <td>integer</td>\n",
              "      <td>No. of connections that contain the same servi...</td>\n",
              "    </tr>\n",
              "    <tr>\n",
              "      <th>42</th>\n",
              "      <td>43</td>\n",
              "      <td>ct_dst_ltm</td>\n",
              "      <td>integer</td>\n",
              "      <td>No. of connections of the same destination add...</td>\n",
              "    </tr>\n",
              "    <tr>\n",
              "      <th>43</th>\n",
              "      <td>44</td>\n",
              "      <td>ct_src_ ltm</td>\n",
              "      <td>integer</td>\n",
              "      <td>No. of connections of the same source address ...</td>\n",
              "    </tr>\n",
              "    <tr>\n",
              "      <th>44</th>\n",
              "      <td>45</td>\n",
              "      <td>ct_src_dport_ltm</td>\n",
              "      <td>integer</td>\n",
              "      <td>No of connections of the same source address (...</td>\n",
              "    </tr>\n",
              "    <tr>\n",
              "      <th>45</th>\n",
              "      <td>46</td>\n",
              "      <td>ct_dst_sport_ltm</td>\n",
              "      <td>integer</td>\n",
              "      <td>No of connections of the same destination addr...</td>\n",
              "    </tr>\n",
              "    <tr>\n",
              "      <th>46</th>\n",
              "      <td>47</td>\n",
              "      <td>ct_dst_src_ltm</td>\n",
              "      <td>integer</td>\n",
              "      <td>No of connections of the same source (1) and t...</td>\n",
              "    </tr>\n",
              "    <tr>\n",
              "      <th>47</th>\n",
              "      <td>48</td>\n",
              "      <td>attack_cat</td>\n",
              "      <td>nominal</td>\n",
              "      <td>The name of each attack category. In this data...</td>\n",
              "    </tr>\n",
              "    <tr>\n",
              "      <th>48</th>\n",
              "      <td>49</td>\n",
              "      <td>Label</td>\n",
              "      <td>binary</td>\n",
              "      <td>0 for normal and 1 for attack records</td>\n",
              "    </tr>\n",
              "  </tbody>\n",
              "</table>\n",
              "</div>\n",
              "    <div class=\"colab-df-buttons\">\n",
              "\n",
              "  <div class=\"colab-df-container\">\n",
              "    <button class=\"colab-df-convert\" onclick=\"convertToInteractive('df-5c060180-e06a-4fe3-bdd9-3ceafba30c1a')\"\n",
              "            title=\"Convert this dataframe to an interactive table.\"\n",
              "            style=\"display:none;\">\n",
              "\n",
              "  <svg xmlns=\"http://www.w3.org/2000/svg\" height=\"24px\" viewBox=\"0 -960 960 960\">\n",
              "    <path d=\"M120-120v-720h720v720H120Zm60-500h600v-160H180v160Zm220 220h160v-160H400v160Zm0 220h160v-160H400v160ZM180-400h160v-160H180v160Zm440 0h160v-160H620v160ZM180-180h160v-160H180v160Zm440 0h160v-160H620v160Z\"/>\n",
              "  </svg>\n",
              "    </button>\n",
              "\n",
              "  <style>\n",
              "    .colab-df-container {\n",
              "      display:flex;\n",
              "      gap: 12px;\n",
              "    }\n",
              "\n",
              "    .colab-df-convert {\n",
              "      background-color: #E8F0FE;\n",
              "      border: none;\n",
              "      border-radius: 50%;\n",
              "      cursor: pointer;\n",
              "      display: none;\n",
              "      fill: #1967D2;\n",
              "      height: 32px;\n",
              "      padding: 0 0 0 0;\n",
              "      width: 32px;\n",
              "    }\n",
              "\n",
              "    .colab-df-convert:hover {\n",
              "      background-color: #E2EBFA;\n",
              "      box-shadow: 0px 1px 2px rgba(60, 64, 67, 0.3), 0px 1px 3px 1px rgba(60, 64, 67, 0.15);\n",
              "      fill: #174EA6;\n",
              "    }\n",
              "\n",
              "    .colab-df-buttons div {\n",
              "      margin-bottom: 4px;\n",
              "    }\n",
              "\n",
              "    [theme=dark] .colab-df-convert {\n",
              "      background-color: #3B4455;\n",
              "      fill: #D2E3FC;\n",
              "    }\n",
              "\n",
              "    [theme=dark] .colab-df-convert:hover {\n",
              "      background-color: #434B5C;\n",
              "      box-shadow: 0px 1px 3px 1px rgba(0, 0, 0, 0.15);\n",
              "      filter: drop-shadow(0px 1px 2px rgba(0, 0, 0, 0.3));\n",
              "      fill: #FFFFFF;\n",
              "    }\n",
              "  </style>\n",
              "\n",
              "    <script>\n",
              "      const buttonEl =\n",
              "        document.querySelector('#df-5c060180-e06a-4fe3-bdd9-3ceafba30c1a button.colab-df-convert');\n",
              "      buttonEl.style.display =\n",
              "        google.colab.kernel.accessAllowed ? 'block' : 'none';\n",
              "\n",
              "      async function convertToInteractive(key) {\n",
              "        const element = document.querySelector('#df-5c060180-e06a-4fe3-bdd9-3ceafba30c1a');\n",
              "        const dataTable =\n",
              "          await google.colab.kernel.invokeFunction('convertToInteractive',\n",
              "                                                    [key], {});\n",
              "        if (!dataTable) return;\n",
              "\n",
              "        const docLinkHtml = 'Like what you see? Visit the ' +\n",
              "          '<a target=\"_blank\" href=https://colab.research.google.com/notebooks/data_table.ipynb>data table notebook</a>'\n",
              "          + ' to learn more about interactive tables.';\n",
              "        element.innerHTML = '';\n",
              "        dataTable['output_type'] = 'display_data';\n",
              "        await google.colab.output.renderOutput(dataTable, element);\n",
              "        const docLink = document.createElement('div');\n",
              "        docLink.innerHTML = docLinkHtml;\n",
              "        element.appendChild(docLink);\n",
              "      }\n",
              "    </script>\n",
              "  </div>\n",
              "\n",
              "\n",
              "<div id=\"df-4288df82-5d19-4bb1-b0c5-4c7f39fb27ff\">\n",
              "  <button class=\"colab-df-quickchart\" onclick=\"quickchart('df-4288df82-5d19-4bb1-b0c5-4c7f39fb27ff')\"\n",
              "            title=\"Suggest charts.\"\n",
              "            style=\"display:none;\">\n",
              "\n",
              "<svg xmlns=\"http://www.w3.org/2000/svg\" height=\"24px\"viewBox=\"0 0 24 24\"\n",
              "     width=\"24px\">\n",
              "    <g>\n",
              "        <path d=\"M19 3H5c-1.1 0-2 .9-2 2v14c0 1.1.9 2 2 2h14c1.1 0 2-.9 2-2V5c0-1.1-.9-2-2-2zM9 17H7v-7h2v7zm4 0h-2V7h2v10zm4 0h-2v-4h2v4z\"/>\n",
              "    </g>\n",
              "</svg>\n",
              "  </button>\n",
              "\n",
              "<style>\n",
              "  .colab-df-quickchart {\n",
              "      --bg-color: #E8F0FE;\n",
              "      --fill-color: #1967D2;\n",
              "      --hover-bg-color: #E2EBFA;\n",
              "      --hover-fill-color: #174EA6;\n",
              "      --disabled-fill-color: #AAA;\n",
              "      --disabled-bg-color: #DDD;\n",
              "  }\n",
              "\n",
              "  [theme=dark] .colab-df-quickchart {\n",
              "      --bg-color: #3B4455;\n",
              "      --fill-color: #D2E3FC;\n",
              "      --hover-bg-color: #434B5C;\n",
              "      --hover-fill-color: #FFFFFF;\n",
              "      --disabled-bg-color: #3B4455;\n",
              "      --disabled-fill-color: #666;\n",
              "  }\n",
              "\n",
              "  .colab-df-quickchart {\n",
              "    background-color: var(--bg-color);\n",
              "    border: none;\n",
              "    border-radius: 50%;\n",
              "    cursor: pointer;\n",
              "    display: none;\n",
              "    fill: var(--fill-color);\n",
              "    height: 32px;\n",
              "    padding: 0;\n",
              "    width: 32px;\n",
              "  }\n",
              "\n",
              "  .colab-df-quickchart:hover {\n",
              "    background-color: var(--hover-bg-color);\n",
              "    box-shadow: 0 1px 2px rgba(60, 64, 67, 0.3), 0 1px 3px 1px rgba(60, 64, 67, 0.15);\n",
              "    fill: var(--button-hover-fill-color);\n",
              "  }\n",
              "\n",
              "  .colab-df-quickchart-complete:disabled,\n",
              "  .colab-df-quickchart-complete:disabled:hover {\n",
              "    background-color: var(--disabled-bg-color);\n",
              "    fill: var(--disabled-fill-color);\n",
              "    box-shadow: none;\n",
              "  }\n",
              "\n",
              "  .colab-df-spinner {\n",
              "    border: 2px solid var(--fill-color);\n",
              "    border-color: transparent;\n",
              "    border-bottom-color: var(--fill-color);\n",
              "    animation:\n",
              "      spin 1s steps(1) infinite;\n",
              "  }\n",
              "\n",
              "  @keyframes spin {\n",
              "    0% {\n",
              "      border-color: transparent;\n",
              "      border-bottom-color: var(--fill-color);\n",
              "      border-left-color: var(--fill-color);\n",
              "    }\n",
              "    20% {\n",
              "      border-color: transparent;\n",
              "      border-left-color: var(--fill-color);\n",
              "      border-top-color: var(--fill-color);\n",
              "    }\n",
              "    30% {\n",
              "      border-color: transparent;\n",
              "      border-left-color: var(--fill-color);\n",
              "      border-top-color: var(--fill-color);\n",
              "      border-right-color: var(--fill-color);\n",
              "    }\n",
              "    40% {\n",
              "      border-color: transparent;\n",
              "      border-right-color: var(--fill-color);\n",
              "      border-top-color: var(--fill-color);\n",
              "    }\n",
              "    60% {\n",
              "      border-color: transparent;\n",
              "      border-right-color: var(--fill-color);\n",
              "    }\n",
              "    80% {\n",
              "      border-color: transparent;\n",
              "      border-right-color: var(--fill-color);\n",
              "      border-bottom-color: var(--fill-color);\n",
              "    }\n",
              "    90% {\n",
              "      border-color: transparent;\n",
              "      border-bottom-color: var(--fill-color);\n",
              "    }\n",
              "  }\n",
              "</style>\n",
              "\n",
              "  <script>\n",
              "    async function quickchart(key) {\n",
              "      const quickchartButtonEl =\n",
              "        document.querySelector('#' + key + ' button');\n",
              "      quickchartButtonEl.disabled = true;  // To prevent multiple clicks.\n",
              "      quickchartButtonEl.classList.add('colab-df-spinner');\n",
              "      try {\n",
              "        const charts = await google.colab.kernel.invokeFunction(\n",
              "            'suggestCharts', [key], {});\n",
              "      } catch (error) {\n",
              "        console.error('Error during call to suggestCharts:', error);\n",
              "      }\n",
              "      quickchartButtonEl.classList.remove('colab-df-spinner');\n",
              "      quickchartButtonEl.classList.add('colab-df-quickchart-complete');\n",
              "    }\n",
              "    (() => {\n",
              "      let quickchartButtonEl =\n",
              "        document.querySelector('#df-4288df82-5d19-4bb1-b0c5-4c7f39fb27ff button');\n",
              "      quickchartButtonEl.style.display =\n",
              "        google.colab.kernel.accessAllowed ? 'block' : 'none';\n",
              "    })();\n",
              "  </script>\n",
              "</div>\n",
              "    </div>\n",
              "  </div>\n"
            ]
          },
          "metadata": {},
          "execution_count": 31
        }
      ],
      "source": [
        "features = pd.read_csv('/NUSW-NB15_features.csv', encoding = \"ISO-8859-1\")\n",
        "features.head(100)"
      ]
    },
    {
      "source": [
        "import numpy as np\n",
        "from google.colab import autoviz\n",
        "\n",
        "def categorical_histogram(df, colname, figscale=1, mpl_palette_name='Dark2'):\n",
        "  from matplotlib import pyplot as plt\n",
        "  import seaborn as sns\n",
        "  df.groupby(colname).size().plot(kind='barh', color=sns.palettes.mpl_palette(mpl_palette_name), figsize=(8*figscale, 4.8*figscale))\n",
        "  plt.gca().spines[['top', 'right',]].set_visible(False)\n",
        "  return autoviz.MplChart.from_current_mpl_state()\n",
        "\n",
        "chart = categorical_histogram(_df_2, *['Type '], **{})\n",
        "chart"
      ],
      "cell_type": "code",
      "metadata": {
        "colab": {
          "base_uri": "https://localhost:8080/",
          "height": 434
        },
        "id": "1M3d2XsMtHsx",
        "outputId": "85dcfca8-6152-42d0-c1de-729922eeff98"
      },
      "execution_count": null,
      "outputs": [
        {
          "output_type": "execute_result",
          "data": {
            "text/html": [
              "<img src=\"data:image/png;base64,iVBORw0KGgoAAAANSUhEUgAAAuoAAAGdCAYAAABEqFZCAAAAOXRFWHRTb2Z0d2FyZQBNYXRwbG90\n",
              "bGliIHZlcnNpb24zLjcuMSwgaHR0cHM6Ly9tYXRwbG90bGliLm9yZy/bCgiHAAAACXBIWXMAAA9h\n",
              "AAAPYQGoP6dpAAA0gUlEQVR4nO3de1xVdb7/8fdSbnLb3gENRQ1RCu9mWp3ITLEyzCmLYxpeK7Vi\n",
              "zJN6UpEaMy0rraaLJtqxvM2oNTVpxKg1aIqpmcWhZFS0AS0vIJZgsH5/dNy/dgKCgfsLvJ6Px348\n",
              "2Gt913d/1uq7N2+/fffCsm3bFgAAAACj1HN3AQAAAAAuRFAHAAAADERQBwAAAAxEUAcAAAAMRFAH\n",
              "AAAADERQBwAAAAxEUAcAAAAMRFAHAAAADERQr2Vs21Z+fr74O1YAAAA1G0G9ljl9+rQcDodOnz7t\n",
              "7lIAAADwOxDUAQAAAAMR1AEAAAADEdQBAAAAAxHUAQAAAAMR1AEAAAADEdQBAAAAAxHUAQAAAAMR\n",
              "1AEAAAADEdQBAAAAAxHUAQAAAAMR1AEAAAADEdQBAAAAA3m4uwBUjw7LE1Wvgbe7ywAuyZGRz7i7\n",
              "BAAA3I4ZdQAAAMBABHUAAADAQAR1AAAAwEAEdQAAAMBABHUAAADAQAR1AAAAwEAEdQAAAMBABPUq\n",
              "ZFmW1q9fX6V9RkdHKyEhoUr7BAAAgPn4g0dVKCcnR40aNXJ3GQAAAKgFCOpVKDg42N0lAAAAoJao\n",
              "lUtfoqOj9cgjj+jxxx9X48aNFRwcrFmzZjn3Z2dnKzY2Vv7+/goMDNTQoUN19OhR5/5Zs2apS5cu\n",
              "WrJkiVq1aiV/f3+NHz9excXFmjdvnoKDg9W8eXPNnj3b5XV/vfTl4MGDsixLa9eu1U033SRfX191\n",
              "7txZ27Ztc7Y/fvy44uLi1LJlS/n6+ioqKkorVqyo1msDAACAmqFWBnVJWrZsmfz8/LR9+3bNmzdP\n",
              "Tz75pFJSUlRSUqLY2FidOHFCW7ZsUUpKiv71r3/pnnvucTk+KytLH374oTZs2KAVK1bozTff1G23\n",
              "3aYjR45oy5Ytmjt3rqZPn67t27eXW8cTTzyhyZMna8+ePWrfvr3i4uL0888/S5LOnj2r7t2764MP\n",
              "PtC+ffs0btw4DR8+XDt27KjweRYWFio/P9/lAQAAgJqv1i596dSpkxITEyVJ4eHhevnll5WamipJ\n",
              "+vLLL3XgwAGFhoZKkt566y1dddVVSk9PV8+ePSVJJSUlWrJkiQICAhQZGambbrpJmZmZ+vvf/656\n",
              "9eopIiJCc+fO1aZNm9SrV68y65g8ebJuu+02SVJSUpKuuuoq7d+/Xx06dFDLli01efJkZ9uHH35Y\n",
              "Gzdu1OrVq3XNNddU6DznzJmjpKSkyl8gAAAAGK3Wzqh36tTJ5XlISIiOHTumjIwMhYaGOkO6JEVG\n",
              "Rqphw4bKyMhwbgsLC1NAQIDzeVBQkCIjI1WvXj2XbceOHatwHSEhIZLkPKa4uFhPPfWUoqKi1Lhx\n",
              "Y/n7+2vjxo3Kzs6u8HlOmzZNeXl5zsfhw4crfCwAAADMVWtn1D09PV2eW5alkpKS33X8pfT562Ms\n",
              "y5Ik5zHPPvusFixYoBdffFFRUVHy8/NTQkKCioqKKlynt7e3vL29K9weAAAANUOtDepl6dixow4f\n",
              "PqzDhw87Z9W//vprnTp1SpGRkZe1lrS0NMXGxuq+++6T9EuA/+abby57HQAAADBPrV36UpZ+/fop\n",
              "KipKw4YN065du7Rjxw6NGDFCN954o3r06HFZawkPD1dKSoq2bt2qjIwMPfDAAy53nwEAAEDdVeeC\n",
              "umVZevfdd9WoUSP9x3/8h/r166e2bdtq1apVl72W6dOnq1u3bhowYICio6MVHByswYMHX/Y6AAAA\n",
              "YB7Ltm3b3UWg6uTn58vhcCjklQTVa8DaddRMR0Y+4+4SAABwuzo3ow4AAADUBAR1AAAAwEAEdQAA\n",
              "AMBABHUAAADAQAR1AAAAwEAEdQAAAMBA3J6xljl/e8a8vDwFBga6uxwAAABcImbUAQAAAAMR1AEA\n",
              "AAADEdQBAAAAAxHUAQAAAAMR1AEAAAADEdQBAAAAAxHUAQAAAAMR1AEAAAADEdQBAAAAAxHUAQAA\n",
              "AAMR1AEAAAADEdQBAAAAAxHUAQAAAAMR1AEAAAADEdQBAAAAAxHUAQAAAAMR1AEAAAADEdQBAAAA\n",
              "AxHUAQAAAAMR1AEAAAADEdQBAAAAAxHUAQAAAAMR1AEAAAADEdQBAAAAAxHUAQAAAAMR1AEAAAAD\n",
              "ebi7AFSP3PUNdcbXcncZAAAARgu5q9jdJZSJGXUAAADAQAR1AAAAwEAEdQAAAMBABHUAAADAQAR1\n",
              "AAAAwEAEdQAAAMBABHUAAADAQHUqqEdHRyshIcHdZQAAAAAXVaf+4NHatWvl6elZobYHDx5UmzZt\n",
              "tHv3bnXp0qV6CwMAAAB+o04F9caNG7u7hEtWVFQkLy8vd5cBAACAy6TOLn0JCwvT008/rVGjRikg\n",
              "IECtWrXSG2+84Wzbpk0bSVLXrl1lWZaio6Od+xYvXqyOHTvKx8dHHTp00J///GeX19m6dau6dOki\n",
              "Hx8f9ejRQ+vXr5dlWdqzZ4+zzb59+zRw4ED5+/srKChIw4cP1w8//OBS68SJE5WQkKCmTZtqwIAB\n",
              "VX9BAAAAYKw6FdR/a/78+erRo4d2796t8ePH66GHHlJmZqYkaceOHZKkjz/+WDk5OVq7dq0k6e23\n",
              "39bMmTM1e/ZsZWRk6Omnn9aMGTO0bNkySVJ+fr4GDRqkqKgo7dq1S0899ZSmTJni8rqnTp1S3759\n",
              "1bVrV+3cuVMbNmzQ0aNHNXToUJd2y5Ytk5eXl9LS0vTaa6+Veg6FhYXKz893eQAAAKDmq1NLX37r\n",
              "1ltv1fjx4yVJU6ZM0QsvvKBNmzYpIiJCzZo1kyQ1adJEwcHBzmMSExM1f/58DRkyRNIvM+9ff/21\n",
              "Xn/9dd1///165513ZFmWFi1aJB8fH0VGRuq7777T2LFjnX28/PLL6tq1q55++mnntiVLlig0NFTf\n",
              "fPON2rdvL0kKDw/XvHnzyj2HOXPmKCkpqWouCAAAAIxRp4N6p06dnD9blqXg4GAdO3aszPZnzpxR\n",
              "VlaWRo8e7RK8f/75ZzkcDklSZmamOnXqJB8fH+f+a665xqWfL774Qps2bZK/v/8Fr5GVleUM6t27\n",
              "d7/oOUybNk2TJk1yPs/Pz1doaOhFjwMAAIDZ6nRQ/+0dYCzLUklJSZntCwoKJEmLFi1Sr169XPbV\n",
              "r1+/wq9bUFCgQYMGae7cuRfsCwkJcf7s5+d30b68vb3l7e1d4dcGAABAzVCng3p5zt9hpbi42Lkt\n",
              "KChILVq00L/+9S8NGzas1OMiIiK0fPlyFRYWOgN0enq6S5tu3brpr3/9q8LCwuThwX8CAAAAXKhO\n",
              "f5m0PM2bN1eDBg2cX/TMy8uTJCUlJWnOnDlauHChvvnmG3355ZdKTk7W888/L0n6z//8T5WUlGjc\n",
              "uHHKyMjQxo0b9dxzz0n6ZcZekiZMmKATJ04oLi5O6enpysrK0saNGzVy5EiXfxgAAACg7iKol8HD\n",
              "w0MLFy7U66+/rhYtWig2NlaSNGbMGC1evFjJycmKiorSjTfeqKVLlzpv5xgYGKi//e1v2rNnj7p0\n",
              "6aInnnhCM2fOlCTnuvUWLVooLS1NxcXF6t+/v6KiopSQkKCGDRuqXj3+kwAAAECybNu23V1Ebff2\n",
              "229r5MiRysvLU4MGDar1tfLz8+VwOJS5zFKAr1WtrwUAAFDThdxl7moGFkhXg7feektt27ZVy5Yt\n",
              "9cUXX2jKlCkaOnRotYd0AAAA1B4E9WqQm5urmTNnKjc3VyEhIbr77rs1e/Zsd5cFAACAGoSlL7UM\n",
              "S18AAAAqzuSlL3xzEQAAADAQQR0AAAAwEEEdAAAAMBBfJq2lggefUmBgoLvLAAAAwCViRh0AAAAw\n",
              "EEEdAAAAMBBBHQAAADAQQR0AAAAwEEEdAAAAMBBBHQAAADAQQR0AAAAwEEEdAAAAMBBBHQAAADAQ\n",
              "QR0AAAAwEEEdAAAAMBBBHQAAADAQQR0AAAAwEEEdAAAAMBBBHQAAADAQQR0AAAAwEEEdAAAAMBBB\n",
              "HQAAADAQQR0AAAAwEEEdAAAAMBBBHQAAADAQQR0AAAAwEEEdAAAAMBBBHQAAADAQQR0AAAAwkIe7\n",
              "C0D1eHTNVfLyvXz/Dns97tBley0AAIC6gBl1AAAAwEAEdQAAAMBABHUAAADAQAR1AAAAwEAEdQAA\n",
              "AMBABHUAAADAQAR1AAAAwEB1PqhHR0crISGhzP1hYWF68cUXL1s9AAAAgMQfPLqo9PR0+fn5ubsM\n",
              "AAAA1DEE9Yto1qxZtb9GUVGRvLy8qv11AAAAUHPU+aUvkvTzzz9r4sSJcjgcatq0qWbMmCHbtiVd\n",
              "uPTFsiwtXrxYd955p3x9fRUeHq733nvPub+4uFijR49WmzZt1KBBA0VERGjBggUurxcfH6/Bgwdr\n",
              "9uzZatGihSIiIvTkk0/q6quvvqC2Ll26aMaMGdVz4gAAADAWQV3SsmXL5OHhoR07dmjBggV6/vnn\n",
              "tXjx4jLbJyUlaejQodq7d69uvfVWDRs2TCdOnJAklZSU6IorrtCaNWv09ddfa+bMmfrv//5vrV69\n",
              "2qWP1NRUZWZmKiUlRe+//75GjRqljIwMpaenO9vs3r1be/fu1ciRI6vnxAEAAGAslr5ICg0N1Qsv\n",
              "vCDLshQREaEvv/xSL7zwgsaOHVtq+/j4eMXFxUmSnn76aS1cuFA7duxQTEyMPD09lZSU5Gzbpk0b\n",
              "bdu2TatXr9bQoUOd2/38/LR48WKXJS8DBgxQcnKyevbsKUlKTk7WjTfeqLZt25ZZe2FhoQoLC53P\n",
              "8/PzL+0iAAAAwCjMqEu69tprZVmW83nv3r317bffqri4uNT2nTp1cv7s5+enwMBAHTt2zLntlVde\n",
              "Uffu3dWsWTP5+/vrjTfeUHZ2tksfUVFRF6xLHzt2rFasWKGzZ8+qqKhI77zzjkaNGlVu7XPmzJHD\n",
              "4XA+QkNDK3zeAAAAMBdB/RJ4enq6PLcsSyUlJZKklStXavLkyRo9erQ++ugj7dmzRyNHjlRRUZHL\n",
              "MaXdSWbQoEHy9vbWunXr9Le//U3nzp3TXXfdVW4t06ZNU15envNx+PDh33l2AAAAMAFLXyRt377d\n",
              "5flnn32m8PBw1a9fv9J9paWlqU+fPho/frxzW1ZWVoWO9fDw0P3336/k5GR5eXnp3nvvVYMGDco9\n",
              "xtvbW97e3pWuEwAAAGYjqEvKzs7WpEmT9MADD2jXrl166aWXNH/+/EvqKzw8XG+99ZY2btyoNm3a\n",
              "6H/+53+Unp6uNm3aVOj4MWPGqGPHjpJ+Cf0AAAComwjqkkaMGKGffvpJ11xzjerXr69HH31U48aN\n",
              "u6S+HnjgAe3evVv33HOPLMtSXFycxo8frw8//LBCx4eHh6tPnz46ceKEevXqdUk1AAAAoOaz7PM3\n",
              "DIcRbNtWeHi4xo8fr0mTJlX6+Pz8fDkcDsUvvkJevpfvKwivxx26bK8FAABQFzCjbpDvv/9eK1eu\n",
              "VG5uLvdOBwAAqOMI6gZp3ry5mjZtqjfeeEONGjVydzkAAABwI4K6QViFBAAAgPO4jzoAAABgIII6\n",
              "AAAAYCCCOgAAAGAggjoAAABgIO6jXsucv496Xl6eAgMD3V0OAAAALhEz6gAAAICBCOoAAACAgQjq\n",
              "AAAAgIEI6gAAAICBCOoAAACAgQjqAAAAgIEI6gAAAICBCOoAAACAgQjqAAAAgIEI6gAAAICBCOoA\n",
              "AACAgQjqAAAAgIEI6gAAAICBCOoAAACAgQjqAAAAgIEI6gAAAICBCOoAAACAgQjqAAAAgIEI6gAA\n",
              "AICBCOoAAACAgQjqAAAAgIEI6gAAAICBCOoAAACAgQjqAAAAgIEI6gAAAICBPNxdAKrH0Z4L9GN9\n",
              "H3eXUe2Cv/4vd5cAAABQLS55Rn3//v3auHGjfvrpJ0mSbdtVVhQAAABQ11U6qB8/flz9+vVT+/bt\n",
              "deuttyonJ0eSNHr0aD322GNVXiAAAABQF1U6qP/xj3+Uh4eHsrOz5evr69x+zz33aMOGDVVaHAAA\n",
              "AFBXVXqN+kcffaSNGzfqiiuucNkeHh6uQ4cOVVlhAAAAQF1W6Rn1M2fOuMykn3fixAl5e3tXSVEA\n",
              "AABAXVfpoH7DDTforbfecj63LEslJSWaN2+ebrrppiotDgAAAKirKr30Zd68ebr55pu1c+dOFRUV\n",
              "6fHHH9dXX32lEydOKC0trTpqBAAAAOqcSs+oX3311frmm290/fXXKzY2VmfOnNGQIUO0e/dutWvX\n",
              "rkqLi4+P1+DBg6u0TwAAAKAmuKQ/eORwOPTEE0/8rhe2LKvc/YmJiVqwYIHb788eHx+vU6dOaf36\n",
              "9W6tAwAAAHXLJQX1kydP6s0331RGRoYkKTIyUiNHjlTjxo0r3Mf5+69L0qpVqzRz5kxlZmY6t/n7\n",
              "+8vf3/9SygMAAABqvEovffnkk08UFhamhQsX6uTJkzp58qQWLlyoNm3a6JNPPqlwP8HBwc6Hw+GQ\n",
              "ZVku2/z9/S9Y+hIdHa2HH35YCQkJatSokYKCgrRo0SKdOXNGI0eOVEBAgK688kp9+OGHLq+1b98+\n",
              "DRw4UP7+/goKCtLw4cP1ww8/OPf/5S9/UVRUlBo0aKAmTZqoX79+OnPmjGbNmqVly5bp3XfflWVZ\n",
              "sixLmzdvliRNmTJF7du3l6+vr9q2basZM2bo3Llzzj5nzZqlLl26aMmSJWrVqpX8/f01fvx4FRcX\n",
              "a968eQoODlbz5s01e/Zsl1oty9Krr76qgQMHqkGDBmrbtq3+8pe/VOK/EAAAAGqDSgf1CRMm6J57\n",
              "7tGBAwe0du1arV27Vv/617907733asKECdVRo4tly5apadOm2rFjhx5++GE99NBDuvvuu9WnTx/t\n",
              "2rVL/fv31/Dhw/Xjjz9Kkk6dOqW+ffuqa9eu2rlzpzZs2KCjR49q6NChkn6Z2Y+Li9OoUaOUkZGh\n",
              "zZs3a8iQIbJtW5MnT9bQoUMVExOjnJwc5eTkqE+fPpKkgIAALV26VF9//bUWLFigRYsW6YUXXnCp\n",
              "NSsrSx9++KE2bNigFStW6M0339Rtt92mI0eOaMuWLZo7d66mT5+u7du3uxw3Y8YM/eEPf9AXX3yh\n",
              "YcOG6d5773X+34vfKiwsVH5+vssDAAAANZ9lV3IReIMGDbRnzx5FRES4bM/MzFSXLl30008/VbqI\n",
              "pUuXKiEhQadOnXLZ/tv14dHR0SouLtann34qSSouLpbD4dCQIUOct4zMzc1VSEiItm3bpmuvvVZ/\n",
              "+tOf9Omnn2rjxo3Ofo8cOaLQ0FBlZmaqoKBA3bt318GDB9W6desLaqvoGvXnnntOK1eu1M6dOyX9\n",
              "MqP+7LPPKjc3VwEBAZKkmJgYZWZmKisrS/Xq/fJvpA4dOig+Pl5Tp06V9MuM+oMPPqhXX33V2fe1\n",
              "116rbt266c9//vMFrztr1iwlJSVdsP2b9k8qoL5PuTXXBsFf/5e7SwAAAKgWlZ5R79atW6mzuxkZ\n",
              "GercuXOVFFWeTp06OX+uX7++mjRpoqioKOe2oKAgSdKxY8ckSV988YU2bdrkXPPu7++vDh06SPpl\n",
              "xrtz5866+eabFRUVpbvvvluLFi3SyZMnL1rHqlWrdN111zmX6UyfPl3Z2dkubcLCwpwh/XxtkZGR\n",
              "zpB+ftv5Ws/r3bv3Bc/LmlGfNm2a8vLynI/Dhw9ftHYAAACYr9JfJn3kkUf06KOPav/+/br22msl\n",
              "SZ999pleeeUVPfPMM9q7d6+z7a9DdVXx9PR0eW5Zlsu283eTKSkpkSQVFBRo0KBBmjt37gV9hYSE\n",
              "qH79+kpJSdHWrVv10Ucf6aWXXtITTzyh7du3q02bNqXWsG3bNg0bNkxJSUkaMGCAHA6HVq5cqfnz\n",
              "51eq1vPbztd6Kby9vfmLsAAAALVQpYN6XFycJOnxxx8vdZ9lWbJtW5Zlqbi4+PdX+Dt169ZNf/3r\n",
              "XxUWFiYPj9JP17IsXXfddbruuus0c+ZMtW7dWuvWrdOkSZPk5eV1wXls3bpVrVu3drlF5aFDh6qs\n",
              "5s8++0wjRoxwed61a9cq6x8AAADmq3RQP3DgQHXUUW0mTJigRYsWKS4uTo8//rgaN26s/fv3a+XK\n",
              "lVq8eLF27typ1NRU9e/fX82bN9f27dv1/fffq2PHjpJ+Wb6yceNGZWZmqkmTJnI4HAoPD1d2drZW\n",
              "rlypnj176oMPPtC6deuqrOY1a9aoR48euv766/X2229rx44devPNN6usfwAAAJiv0kG9adOm8vPz\n",
              "q45aqkWLFi2UlpamKVOmqH///iosLFTr1q0VExOjevXqKTAwUJ988olefPFF5efnq3Xr1po/f74G\n",
              "DhwoSRo7dqw2b96sHj16qKCgQJs2bdIdd9yhP/7xj5o4caIKCwt12223acaMGZo1a1aV1JyUlKSV\n",
              "K1dq/PjxCgkJ0YoVKxQZGVklfQMAAKBmqPRdX/z9/TV06FCNGjVK119/fXXVVWdZlqV169a53D++\n",
              "MvLz8+VwOLjrCwAAQA1X6bu+LF++XCdOnFDfvn3Vvn17PfPMM/r3v/9dHbUBAAAAdValg/rgwYO1\n",
              "fv16fffdd3rwwQf1zjvvqHXr1rr99tu1du1a/fzzz9VRJwAAAFCnVHrpS2leeukl/dd//ZeKiorU\n",
              "tGlTPfjgg5o6dap8fX2rokZUAktfAAAAaodKf5n0vKNHj2rZsmVaunSpDh06pLvuukujR4/WkSNH\n",
              "NHfuXH322Wf66KOPqrJWAAAAoM6ocFB/8sknNXnyZG3YsEHJycnauHGjIiMjNX78eN13331q2LCh\n",
              "s22fPn2ctzcEAAAAUHkVXqOelJSkgoICjRw50nnLwz179mjixIkuIV365ZaIv/5jQAAAAAAqp8Iz\n",
              "6ueXsufk5Fx07XmDBg2UmJj4+yoDAAAA6rBKrVG3LIsviNYQQemPKjAw0N1lAAAA4BJVKqi3b99e\n",
              "lmWV2+bEiRO/qyAAAAAAlQzqSUlJcjgc1VULAAAAgP9T4fuo16tXT7m5uWrevHl114Tf4fx91PPy\n",
              "8lj6AgAAUINV+K4vF1vyAgAAAKDqVDioV8EfMAUAAABQQRVeo15SUlKddQAAAAD4lQrPqAMAAAC4\n",
              "fAjqAAAAgIEI6gAAAICBCOoAAACAgQjqAAAAgIEI6gAAAICBCOoAAACAgQjqAAAAgIEI6gAAAICB\n",
              "COoAAACAgQjqAAAAgIEI6gAAAICBCOoAAACAgQjqAAAAgIEI6gAAAICBCOoAAACAgQjqAAAAgIEI\n",
              "6gAAAICBCOoAAACAgTzcXQCqx4ypG+Tt7evuMgBcxLwXbnd3CQAAQzGjDgAAABiIoA4AAAAYiKAO\n",
              "AAAAGIigDgAAABiIoA4AAAAYiKAOAAAAGIigDgAAABiIoA4AAAAYqE4F9fj4eA0ePLjC7S3L0vr1\n",
              "66utHgAAAKAsdSqo12RFRUXuLgEAAACXUZ0N6tHR0XrkkUf0+OOPq3HjxgoODtasWbOc+8PCwiRJ\n",
              "d955pyzLcj6XpHfffVfdunWTj4+P2rZtq6SkJP3888/O/f/7v/+r66+/Xj4+PoqMjNTHH398wez8\n",
              "4cOHNXToUDVs2FCNGzdWbGysDh486Nx/fvZ/9uzZatGihSIiIqrpSgAAAMBEHu4uwJ2WLVumSZMm\n",
              "afv27dq2bZvi4+N13XXX6ZZbblF6erqaN2+u5ORkxcTEqH79+pKkTz/9VCNGjNDChQt1ww03KCsr\n",
              "S+PGjZMkJSYmqri4WIMHD1arVq20fft2nT59Wo899pjL6547d04DBgxQ79699emnn8rDw0N/+tOf\n",
              "FBMTo71798rLy0uSlJqaqsDAQKWkpJR5DoWFhSosLHQ+z8/Pr+rLBAAAADeo00G9U6dOSkxMlCSF\n",
              "h4fr5ZdfVmpqqm655RY1a9ZMktSwYUMFBwc7j0lKStLUqVN1//33S5Latm2rp556So8//rgSExOV\n",
              "kpKirKwsbd682Xnc7Nmzdcsttzj7WLVqlUpKSrR48WJZliVJSk5OVsOGDbV582b1799fkuTn56fF\n",
              "ixc7g3tp5syZo6SkpCq8KgAAADBBnQ/qvxYSEqJjx46Ve8wXX3yhtLQ0zZ4927mtuLhYZ8+e1Y8/\n",
              "/qjMzEyFhoa6hPtrrrnmgj7279+vgIAAl+1nz55VVlaW83lUVFS5IV2Spk2bpkmTJjmf5+fnKzQ0\n",
              "tNxjAAAAYL46HdQ9PT1dnluWpZKSknKPKSgoUFJSkoYMGXLBPh8fnwq9bkFBgbp376633377gn3n\n",
              "Z/KlX2bUL8bb21ve3t4Vel0AAADUHHU6qF+Mp6eniouLXbZ169ZNmZmZuvLKK0s9JiIiQocPH9bR\n",
              "o0cVFBQkSUpPT7+gj1WrVql58+YKDAysnuIBAABQo9XZu75URFhYmFJTU5Wbm6uTJ09KkmbOnKm3\n",
              "3npLSUlJ+uqrr5SRkaGVK1dq+vTpkqRbbrlF7dq10/3336+9e/cqLS3Nue/8evRhw4apadOmio2N\n",
              "1aeffqoDBw5o8+bNeuSRR3TkyBH3nCwAAACMQlAvx/z585WSkqLQ0FB17dpVkjRgwAC9//77+uij\n",
              "j9SzZ09de+21euGFF9S6dWtJUv369bV+/XoVFBSoZ8+eGjNmjJ544glJ/39pjK+vrz755BO1atVK\n",
              "Q4YMUceOHTV69GidPXuWGXYAAABIkizbtm13F1HbpaWl6frrr9f+/fvVrl27an2t/Px8ORwOPfLQ\n",
              "Knl7+1brawH4/ea9cLu7SwAAGIo16tVg3bp18vf3V3h4uPbv369HH31U1113XbWHdAAAANQeBPVq\n",
              "cPr0aU2ZMkXZ2dlq2rSp+vXrp/nz57u7LAAAANQgBPVqMGLECI0YMcLdZQAAAKAG48ukAAAAgIEI\n",
              "6gAAAICBCOoAAACAgbg9Yy1z/vaMeXl53JMdAACgBmNGHQAAADAQQR0AAAAwEEEdAAAAMBBBHQAA\n",
              "ADAQQR0AAAAwEEEdAAAAMBBBHQAAADAQQR0AAAAwEEEdAAAAMBBBHQAAADAQQR0AAAAwEEEdAAAA\n",
              "MBBBHQAAADAQQR0AAAAwEEEdAAAAMBBBHQAAADAQQR0AAAAwEEEdAAAAMBBBHQAAADAQQR0AAAAw\n",
              "EEEdAAAAMBBBHQAAADAQQR0AAAAwEEEdAAAAMBBBHQAAADAQQR0AAAAwkIe7C0D12P9gQ/l7We4u\n",
              "AwCc2i8tdncJAFCjMKMOAAAAGIigDgAAABiIoA4AAAAYiKAOAAAAGIigDgAAABiIoA4AAAAYiKAO\n",
              "AAAAGIigXgWio6OVkJDg7jIAAABQixDUKyg+Pl6WZV3w2L9/f7W8HuEfAACgbuMvk1ZCTEyMkpOT\n",
              "XbY1a9bMTdUAAACgNmNGvRK8vb0VHBzs8qhfv/4F7U6ePKkRI0aoUaNG8vX11cCBA/Xtt9869x8/\n",
              "flxxcXFq2bKlfH19FRUVpRUrVjj3x8fHa8uWLVqwYIFz5v7gwYOX4xQBAABgCIJ6NYiPj9fOnTv1\n",
              "3nvvadu2bbJtW7feeqvOnTsnSTp79qy6d++uDz74QPv27dO4ceM0fPhw7dixQ5K0YMEC9e7dW2PH\n",
              "jlVOTo5ycnIUGhpa6msVFhYqPz/f5QEAAICaj6BeCe+//778/f2dj7vvvvuCNt9++63ee+89LV68\n",
              "WDfccIM6d+6st99+W999953Wr18vSWrZsqUmT56sLl26qG3btnr44YcVExOj1atXS5IcDoe8vLzk\n",
              "6+tb7sy9JM2ZM0cOh8P5KCvQAwAAoGZhjXol3HTTTXr11Vedz/38/C5ok5GRIQ8PD/Xq1cu5rUmT\n",
              "JoqIiFBGRoYkqbi4WE8//bRWr16t7777TkVFRSosLJSvr2+la5o2bZomTZrkfJ6fn09YBwAAqAUI\n",
              "6pXg5+enK6+88nf38+yzz2rBggV68cUXFRUVJT8/PyUkJKioqKjSfXl7e8vb2/t31wQAAACzsPSl\n",
              "inXs2FE///yztm/f7tx2/PhxZWZmKjIyUpKUlpam2NhY3XfffercubPatm2rb775xqUfLy8vFRcX\n",
              "X9baAQAAYA6CehULDw9XbGysxo4dq3/+85/64osvdN9996lly5aKjY11tklJSdHWrVuVkZGhBx54\n",
              "QEePHnXpJywsTNu3b9fBgwf1ww8/qKSkxB2nAwAAADchqFeD5ORkde/eXbfffrt69+4t27b197//\n",
              "XZ6enpKk6dOnq1u3bhowYICio6MVHByswYMHu/QxefJk1a9fX5GRkWrWrJmys7PdcCYAAABwF8u2\n",
              "bdvdRaDq5Ofny+Fw6PM4S/5elrvLAQCn9ktZzgcAlcGMOgAAAGAggjoAAABgIII6AAAAYCCCOgAA\n",
              "AGAggjoAAABgIII6AAAAYCBuz1jLnL89Y15engIDA91dDgAAAC4RM+oAAACAgQjqAAAAgIEI6gAA\n",
              "AICBCOoAAACAgQjqAAAAgIEI6gAAAICBCOoAAACAgQjqAAAAgIEI6gAAAICBCOoAAACAgQjqAAAA\n",
              "gIEI6gAAAICBCOoAAACAgQjqAAAAgIEI6gAAAICBCOoAAACAgQjqAAAAgIEI6gAAAICBCOoAAACA\n",
              "gQjqAAAAgIEI6gAAAICBCOoAAACAgQjqAAAAgIEI6gAAAICBCOoAAACAgQjqAAAAgIE83F0AqkeH\n",
              "5Ymq18Db3WVUuyMjn3F3CQAAANWCGXUAAADAQAR1AAAAwEAEdQAAAMBABHUAAADAQAR1AAAAwEAE\n",
              "dQAAAMBABHUAAADAQAT1izh48KAsy9KePXvcXQoAAADqkDof1OPj42VZlvPRpEkTxcTEaO/evZKk\n",
              "0NBQ5eTk6Oqrr3ZzpQAAAKhL6nxQl6SYmBjl5OQoJydHqamp8vDw0O233y5Jql+/voKDg+XhUb1/\n",
              "xLWoqKha+wcAAEDNQlCX5O3treDgYAUHB6tLly6aOnWqDh8+rO+///6CpS+bN2+WZVlKTU1Vjx49\n",
              "5Ovrqz59+igzM9PZX1ZWlmJjYxUUFCR/f3/17NlTH3/8sctrhoWF6amnntKIESMUGBiocePGqW/f\n",
              "vpo4caJLu++//15eXl5KTU2t9usAAAAAcxDUf6OgoEDLly/XlVdeqSZNmpTZ7oknntD8+fO1c+dO\n",
              "eXh4aNSoUS593HrrrUpNTdXu3bsVExOjQYMGKTs726WP5557Tp07d9bu3bs1Y8YMjRkzRu+8844K\n",
              "CwudbZYvX66WLVuqb9++pdZRWFio/Px8lwcAAABqPoK6pPfff1/+/v7y9/dXQECA3nvvPa1atUr1\n",
              "6pV9eWbPnq0bb7xRkZGRmjp1qrZu3aqzZ89Kkjp37qwHHnhAV199tcLDw/XUU0+pXbt2eu+991z6\n",
              "6Nu3rx577DG1a9dO7dq105AhQyRJ7777rrPN0qVLnevoSzNnzhw5HA7nIzQ09PdeDgAAABiAoC7p\n",
              "pptu0p49e7Rnzx7t2LFDAwYM0MCBA3Xo0KEyj+nUqZPz55CQEEnSsWPHJP0yoz558mR17NhRDRs2\n",
              "lL+/vzIyMi6YUe/Ro4fLcx8fHw0fPlxLliyRJO3atUv79u1TfHx8mXVMmzZNeXl5zsfhw4crde4A\n",
              "AAAwU/V+Q7KG8PPz05VXXul8vnjxYjkcDi1atEhjxowp9RhPT0/nz+dnu0tKSiRJkydPVkpKip57\n",
              "7jldeeWVatCgge66664LvjDq5+d3Qb9jxoxRly5ddOTIESUnJ6tv375q3bp1mbV7e3vL29u74icL\n",
              "AACAGoGgXgrLslSvXj399NNPl3R8Wlqa4uPjdeedd0r6ZYb94MGDFTo2KipKPXr00KJFi/TOO+/o\n",
              "5ZdfvqQaAAAAULMR1PXLFzJzc3MlSSdPntTLL7+sgoICDRo06JL6Cw8P19q1azVo0CBZlqUZM2Y4\n",
              "Z9srYsyYMZo4caL8/PycYR8AAAB1C2vUJW3YsEEhISEKCQlRr169lJ6erjVr1ig6OvqS+nv++efV\n",
              "qFEj9enTR4MGDdKAAQPUrVu3Ch8fFxcnDw8PxcXFycfH55JqAAAAQM1m2bZtu7sIuDp48KDatWun\n",
              "9PT0SgV8ScrPz5fD4VDIKwmq16D2r10/MvIZd5cAAABQLVj6YpBz587p+PHjmj59uq699tpKh3QA\n",
              "AADUHix9MUhaWppCQkKUnp6u1157zd3lAAAAwI2YUTdIdHS0WIkEAAAAiRl1AAAAwEgEdQAAAMBA\n",
              "BHUAAADAQNyesZY5f3vGvLw8BQYGurscAAAAXCJm1AEAAAADEdQBAAAAAxHUAQAAAAMR1AEAAAAD\n",
              "EdQBAAAAAxHUAQAAAAMR1AEAAAADEdQBAAAAAxHUAQAAAAMR1AEAAAADEdQBAAAAA3m4uwBULdu2\n",
              "JUn5+flurgQAAADlCQgIkGVZZe4nqNcyx48flySFhoa6uRIAAACUJy8vT4GBgWXuJ6jXMo0bN5Yk\n",
              "ZWdny+FwuLkac+Xn5ys0NFSHDx8u9w1S13GdLo5rVDFcp4rhOlUM16liuE4X5+5rFBAQUO5+gnot\n",
              "U6/eL187cDgcvCkrIDAwkOtUAVyni+MaVQzXqWK4ThXDdaoYrtPFmXqN+DIpAAAAYCCCOgAAAGAg\n",
              "gnot4+3trcTERHl7e7u7FKNxnSqG63RxXKOK4TpVDNepYrhOFcN1ujjTr5Fln7+fHwAAAABjMKMO\n",
              "AAAAGIigDgAAABiIoA4AAAAYiKAOAAAAGIigXgO98sorCgsLk4+Pj3r16qUdO3aU237NmjXq0KGD\n",
              "fHx8FBUVpb///e+XqVL3mDNnjnr27KmAgAA1b95cgwcPVmZmZrnHLF26VJZluTx8fHwuU8XuMWvW\n",
              "rAvOuUOHDuUeU9fGkiSFhYVdcJ0sy9KECRNKbV8XxtInn3yiQYMGqUWLFrIsS+vXr3fZb9u2Zs6c\n",
              "qZCQEDVo0ED9+vXTt99+e9F+K/vZZrryrtO5c+c0ZcoURUVFyc/PTy1atNCIESP073//u9w+L+V9\n",
              "a7qLjaf4+PgLzjkmJuai/dal8SSp1M8py7L07LPPltlnbRtPFfn9f/bsWU2YMEFNmjSRv7+//vCH\n",
              "P+jo0aPl9nupn2lVgaBew6xatUqTJk1SYmKidu3apc6dO2vAgAE6duxYqe23bt2quLg4jR49Wrt3\n",
              "79bgwYM1ePBg7du37zJXfvls2bJFEyZM0GeffaaUlBSdO3dO/fv315kzZ8o9LjAwUDk5Oc7HoUOH\n",
              "LlPF7nPVVVe5nPM///nPMtvWxbEkSenp6S7XKCUlRZJ09913l3lMbR9LZ86cUefOnfXKK6+Uun/e\n",
              "vHlauHChXnvtNW3fvl1+fn4aMGCAzp49W2aflf1sqwnKu04//vijdu3apRkzZmjXrl1au3atMjMz\n",
              "dccdd1y038q8b2uCi40nSYqJiXE55xUrVpTbZ10bT5Jcrk9OTo6WLFkiy7L0hz/8odx+a9N4qsjv\n",
              "/z/+8Y/629/+pjVr1mjLli3697//rSFDhpTb76V8plUZGzXKNddcY0+YMMH5vLi42G7RooU9Z86c\n",
              "UtsPHTrUvu2221y29erVy37ggQeqtU6THDt2zJZkb9mypcw2ycnJtsPhuHxFGSAxMdHu3Llzhdsz\n",
              "ln7x6KOP2u3atbNLSkpK3V/XxpIke926dc7nJSUldnBwsP3ss886t506dcr29va2V6xYUWY/lf1s\n",
              "q2l+e51Ks2PHDluSfejQoTLbVPZ9W9OUdp3uv/9+OzY2tlL9MJ5sOzY21u7bt2+5bWr7ePrt7/9T\n",
              "p07Znp6e9po1a5xtMjIybEn2tm3bSu3jUj/Tqgoz6jVIUVGRPv/8c/Xr18+5rV69eurXr5+2bdtW\n",
              "6jHbtm1zaS9JAwYMKLN9bZSXlydJaty4cbntCgoK1Lp1a4WGhio2NlZfffXV5SjPrb799lu1aNFC\n",
              "bdu21bBhw5SdnV1mW8bSL+/B5cuXa9SoUbIsq8x2dXEsnXfgwAHl5ua6jBWHw6FevXqVOVYu5bOt\n",
              "NsrLy5NlWWrYsGG57Srzvq0tNm/erObNmysiIkIPPfSQjh8/XmZbxpN09OhRffDBBxo9evRF29bm\n",
              "8fTb3/+ff/65zp075zI2OnTooFatWpU5Ni7lM60qEdRrkB9++EHFxcUKCgpy2R4UFKTc3NxSj8nN\n",
              "za1U+9qmpKRECQkJuu6663T11VeX2S4iIkJLlizRu+++q+XLl6ukpER9+vTRkSNHLmO1l1evXr20\n",
              "dOlSbdiwQa+++qoOHDigG264QadPny61fV0fS5K0fv16nTp1SvHx8WW2qYtj6dfOj4fKjJVL+Wyr\n",
              "bc6ePaspU6YoLi5OgYGBZbar7Pu2NoiJidFbb72l1NRUzZ07V1u2bNHAgQNVXFxcanvGk7Rs2TIF\n",
              "BARcdElHbR5Ppf3+z83NlZeX1wX/GL5YjjrfpqLHVCWPan8FwI0mTJigffv2XXTNXe/evdW7d2/n\n",
              "8z59+qhjx456/fXX9dRTT1V3mW4xcOBA58+dOnVSr1691Lp1a61evbpCszB10ZtvvqmBAweqRYsW\n",
              "Zbapi2MJv8+5c+c0dOhQ2batV199tdy2dfF9e++99zp/joqKUqdOndSuXTtt3rxZN998sxsrM9eS\n",
              "JUs0bNiwi36RvTaPp4r+/jcdM+o1SNOmTVW/fv0Lvp189OhRBQcHl3pMcHBwpdrXJhMnTtT777+v\n",
              "TZs26YorrqjUsZ6enuratav2799fTdWZp2HDhmrfvn2Z51yXx5IkHTp0SB9//LHGjBlTqePq2lg6\n",
              "Px4qM1Yu5bOttjgf0g8dOqSUlJRyZ9NLc7H3bW3Utm1bNW3atMxzrsvjSZI+/fRTZWZmVvqzSqo9\n",
              "46ms3//BwcEqKirSqVOnXNpfLEedb1PRY6oSQb0G8fLyUvfu3ZWamurcVlJSotTUVJcZvF/r3bu3\n",
              "S3tJSklJKbN9bWDbtiZOnKh169bpH//4h9q0aVPpPoqLi/Xll18qJCSkGio0U0FBgbKysso857o4\n",
              "ln4tOTlZzZs312233Vap4+raWGrTpo2Cg4Ndxkp+fr62b99e5li5lM+22uB8SP/222/18ccfq0mT\n",
              "JpXu42Lv29royJEjOn78eJnnXFfH03lvvvmmunfvrs6dO1f62Jo+ni72+7979+7y9PR0GRuZmZnK\n",
              "zs4uc2xcymdalar2r6uiSq1cudL29va2ly5dan/99df2uHHj7IYNG9q5ubm2bdv28OHD7alTpzrb\n",
              "p6Wl2R4eHvZzzz1nZ2Rk2ImJibanp6f95ZdfuusUqt1DDz1kOxwOe/PmzXZOTo7z8eOPPzrb/PY6\n",
              "JSUl2Rs3brSzsrLszz//3L733nttHx8f+6uvvnLHKVwWjz32mL1582b7wIEDdlpamt2vXz+7adOm\n",
              "9rFjx2zbZiz9WnFxsd2qVSt7ypQpF+yri2Pp9OnT9u7du+3du3fbkuznn3/e3r17t/NuJc8884zd\n",
              "sGFD+91337X37t1rx8bG2m3atLF/+uknZx99+/a1X3rpJefzi3221UTlXaeioiL7jjvusK+44gp7\n",
              "z549Lp9VhYWFzj5+e50u9r6ticq7TqdPn7YnT55sb9u2zT5w4ID98ccf2926dbPDw8Pts2fPOvuo\n",
              "6+PpvLy8PNvX19d+9dVXS+2jto+nivz+f/DBB+1WrVrZ//jHP+ydO3favXv3tnv37u3ST0REhL12\n",
              "7Vrn84p8plUXgnoN9NJLL9mtWrWyvby87Guuucb+7LPPnPtuvPFG+/7773dpv3r1art9+/a2l5eX\n",
              "fdVVV9kffPDBZa748pJU6iM5OdnZ5rfXKSEhwXlNg4KC7FtvvdXetWvX5S/+MrrnnnvskJAQ28vL\n",
              "y27ZsqV9zz332Pv373fuZyz9fxs3brQl2ZmZmRfsq4tjadOmTaW+x85fh5KSEnvGjBl2UFCQ7e3t\n",
              "bd98880XXLvWrVvbiYmJLtvK+2yricq7TgcOHCjzs2rTpk3OPn57nS72vq2JyrtOP/74o92/f3+7\n",
              "WbNmtqenp926dWt77NixFwTuuj6eznv99dftBg0a2KdOnSq1j9o+niry+/+nn36yx48fbzdq1Mj2\n",
              "9fW177zzTjsnJ+eCfn59TEU+06qL9X8FAQAAADAIa9QBAAAAAxHUAQAAAAMR1AEAAAADEdQBAAAA\n",
              "AxHUAQAAAAMR1AEAAAADEdQBAAAAAxHUAQAAAAMR1AEAAAADEdQBAAAAAxHUAQAAAAMR1AEAAAAD\n",
              "/T8kTOcStnpZAQAAAABJRU5ErkJggg==\n",
              "\">\n",
              "        <script></script>"
            ],
            "text/plain": [
              "<google.colab._quickchart_lib.MplChart at 0x7df8035cc760>"
            ]
          },
          "metadata": {},
          "execution_count": 32
        }
      ]
    },
    {
      "cell_type": "markdown",
      "metadata": {
        "id": "5RwLyPTEP3Va"
      },
      "source": [
        "### L'ensemble de données contient 49 fonctionnalités"
      ]
    },
    {
      "cell_type": "code",
      "execution_count": null,
      "metadata": {
        "id": "n60m-HwqP3Va",
        "colab": {
          "base_uri": "https://localhost:8080/",
          "height": 314
        },
        "outputId": "8213b2d3-e7bd-4881-ac86-98990b1cd090"
      },
      "outputs": [
        {
          "output_type": "error",
          "ename": "AttributeError",
          "evalue": "ignored",
          "traceback": [
            "\u001b[0;31m---------------------------------------------------------------------------\u001b[0m",
            "\u001b[0;31mAttributeError\u001b[0m                            Traceback (most recent call last)",
            "\u001b[0;32m<ipython-input-35-0339e83ad82b>\u001b[0m in \u001b[0;36m<cell line: 2>\u001b[0;34m()\u001b[0m\n\u001b[1;32m      1\u001b[0m \u001b[0;31m#Finding out data types of features\u001b[0m\u001b[0;34m\u001b[0m\u001b[0;34m\u001b[0m\u001b[0m\n\u001b[0;32m----> 2\u001b[0;31m \u001b[0mfeatures\u001b[0m\u001b[0;34m.\u001b[0m\u001b[0mcsv\u001b[0m\u001b[0;34m.\u001b[0m\u001b[0mType\u001b[0m\u001b[0;34m.\u001b[0m\u001b[0munique\u001b[0m\u001b[0;34m(\u001b[0m\u001b[0;34m)\u001b[0m\u001b[0;34m\u001b[0m\u001b[0;34m\u001b[0m\u001b[0m\n\u001b[0m",
            "\u001b[0;32m/usr/local/lib/python3.10/dist-packages/pandas/core/generic.py\u001b[0m in \u001b[0;36m__getattr__\u001b[0;34m(self, name)\u001b[0m\n\u001b[1;32m   5900\u001b[0m         ):\n\u001b[1;32m   5901\u001b[0m             \u001b[0;32mreturn\u001b[0m \u001b[0mself\u001b[0m\u001b[0;34m[\u001b[0m\u001b[0mname\u001b[0m\u001b[0;34m]\u001b[0m\u001b[0;34m\u001b[0m\u001b[0;34m\u001b[0m\u001b[0m\n\u001b[0;32m-> 5902\u001b[0;31m         \u001b[0;32mreturn\u001b[0m \u001b[0mobject\u001b[0m\u001b[0;34m.\u001b[0m\u001b[0m__getattribute__\u001b[0m\u001b[0;34m(\u001b[0m\u001b[0mself\u001b[0m\u001b[0;34m,\u001b[0m \u001b[0mname\u001b[0m\u001b[0;34m)\u001b[0m\u001b[0;34m\u001b[0m\u001b[0;34m\u001b[0m\u001b[0m\n\u001b[0m\u001b[1;32m   5903\u001b[0m \u001b[0;34m\u001b[0m\u001b[0m\n\u001b[1;32m   5904\u001b[0m     \u001b[0;32mdef\u001b[0m \u001b[0m__setattr__\u001b[0m\u001b[0;34m(\u001b[0m\u001b[0mself\u001b[0m\u001b[0;34m,\u001b[0m \u001b[0mname\u001b[0m\u001b[0;34m:\u001b[0m \u001b[0mstr\u001b[0m\u001b[0;34m,\u001b[0m \u001b[0mvalue\u001b[0m\u001b[0;34m)\u001b[0m \u001b[0;34m->\u001b[0m \u001b[0;32mNone\u001b[0m\u001b[0;34m:\u001b[0m\u001b[0;34m\u001b[0m\u001b[0;34m\u001b[0m\u001b[0m\n",
            "\u001b[0;31mAttributeError\u001b[0m: 'DataFrame' object has no attribute 'csv'"
          ]
        }
      ],
      "source": [
        "#Finding out data types of features\n",
        "features.csv.Type.unique()"
      ]
    },
    {
      "cell_type": "markdown",
      "metadata": {
        "id": "LzpuAgRqP3Vb"
      },
      "source": [
        "Les fonctionnalités de l'ensemble de données appartiennent à l'un des 5 types de données : 1. Nominal 2. Entier 3. Flottant 4. Horodatage 5. Binaire"
      ]
    },
    {
      "cell_type": "code",
      "execution_count": null,
      "metadata": {
        "id": "v_c1OnmVP3Vc"
      },
      "outputs": [],
      "source": [
        "#converting all values to lower case so that redundancies such as 'integer' and 'Integer' are eliminated\n",
        "features.Type = features.Type.str.lower()\n",
        "features.Type.unique()"
      ]
    },
    {
      "cell_type": "code",
      "execution_count": null,
      "metadata": {
        "id": "Wog8AhbFP3Ve"
      },
      "outputs": [],
      "source": [
        "#performing the same operation on Name\n",
        "features.Name = features.Name.str.lower()"
      ]
    },
    {
      "cell_type": "code",
      "execution_count": null,
      "metadata": {
        "id": "CMjHFKQUP3Vf"
      },
      "outputs": [],
      "source": [
        "train_dataset = pd.read_csv(\"/content/NUSW-NB15_features.csv\", encoding = \"ISO-8859-1\")\n",
        "train_dataset.head()"
      ]
    },
    {
      "cell_type": "code",
      "execution_count": null,
      "metadata": {
        "id": "P8ijKx3ZP3Vf"
      },
      "outputs": [],
      "source": [
        "# 0 - Normal, 1- attack\n",
        "train_dataset.label.value_counts()"
      ]
    },
    {
      "cell_type": "code",
      "execution_count": null,
      "metadata": {
        "id": "yhqRS9QWP3Vg"
      },
      "outputs": [],
      "source": [
        "train_dataset.attack_cat.value_counts()"
      ]
    },
    {
      "cell_type": "code",
      "execution_count": null,
      "metadata": {
        "id": "HgaO__4dP3Vg"
      },
      "outputs": [],
      "source": [
        "train_dataset.shape"
      ]
    },
    {
      "cell_type": "code",
      "execution_count": null,
      "metadata": {
        "id": "99YHInpUP3Vh"
      },
      "outputs": [],
      "source": [
        "test_dataset = pd.read_csv(\"/content/NUSW-NB15_features.csv\", encoding = \"ISO-8859-1\")\n",
        "test_dataset.head()"
      ]
    },
    {
      "cell_type": "code",
      "execution_count": null,
      "metadata": {
        "id": "mcuyMDsLP3Vi"
      },
      "outputs": [],
      "source": [
        "test_dataset.label.value_counts()"
      ]
    },
    {
      "cell_type": "code",
      "execution_count": null,
      "metadata": {
        "id": "3vlO4qiJP3Vj"
      },
      "outputs": [],
      "source": [
        "test_dataset.attack_cat.value_counts()"
      ]
    },
    {
      "cell_type": "code",
      "execution_count": null,
      "metadata": {
        "id": "5arCOkATP3Vj"
      },
      "outputs": [],
      "source": [
        "test_dataset.shape"
      ]
    },
    {
      "cell_type": "markdown",
      "metadata": {
        "id": "UqlY3tW2P3Vk"
      },
      "source": [
        "### Connaître les colonnes dans la table des fonctionnalités mais pas dans l'ensemble de données du train et vice versa"
      ]
    },
    {
      "cell_type": "code",
      "execution_count": null,
      "metadata": {
        "id": "HxX9s8_VP3WO"
      },
      "outputs": [],
      "source": [
        "\"\"\"\n",
        "    columns in feature table but not in train data\n",
        "\"\"\"\n",
        "set(features.Name) - set(train_dataset.columns)"
      ]
    },
    {
      "cell_type": "code",
      "execution_count": null,
      "metadata": {
        "id": "OoJLCSJFP3WO"
      },
      "outputs": [],
      "source": [
        "\"\"\"\n",
        "    columns in train data but not in feature table\n",
        "\"\"\"\n",
        "set(train_dataset.columns) - set(features.Name)"
      ]
    },
    {
      "cell_type": "markdown",
      "metadata": {
        "id": "YjcLMlJOP3WP"
      },
      "source": [
        "__Il semble que les mêmes colonnes aient été orthographiées différemment dans la table des caractéristiques et dans l'ensemble de données de train. Rectifier la même chose ci-dessous.__"
      ]
    },
    {
      "cell_type": "code",
      "execution_count": null,
      "metadata": {
        "id": "HSjdCx0AP3WQ"
      },
      "outputs": [],
      "source": [
        "pd.options.mode.chained_assignment = None\n",
        "features.Name[features.Name == 'ct_src_ ltm'] = 'ct_src_ltm'\n",
        "features.Name[features.Name == 'dintpkt'] = 'dinpkt'\n",
        "features.Name[features.Name == 'dmeansz'] = 'dmean'\n",
        "features.Name[features.Name == 'res_bdy_len'] = 'response_body_len'\n",
        "features.Name[features.Name == 'sintpkt'] = 'sinpkt'\n",
        "features.Name[features.Name == 'smeansz'] = 'smean'"
      ]
    },
    {
      "cell_type": "code",
      "execution_count": null,
      "metadata": {
        "id": "pXtX0EGrP3WQ"
      },
      "outputs": [],
      "source": [
        "#rechecking\n",
        "set(features.Name) - set(train_dataset.columns)"
      ]
    },
    {
      "cell_type": "code",
      "execution_count": null,
      "metadata": {
        "id": "OOj4L0OHP3WQ"
      },
      "outputs": [],
      "source": [
        "set(train_dataset.columns) - set(features.Name)"
      ]
    },
    {
      "cell_type": "code",
      "execution_count": null,
      "metadata": {
        "id": "FC9iV-8yP3WQ"
      },
      "outputs": [],
      "source": [
        "#replacing services ( not much used service ) denoted by '-' with 'nmu' for 'not much used'\n",
        "print(\"Count of 'Not much used services' : \" + str(train_dataset[train_dataset.service=='-'].shape[0]))\n",
        "print('Replacing \"-\" with \"nmu\" in services')\n",
        "train_dataset.service.replace('-', 'nmu', inplace=True)\n",
        "print(\"Count of '-' : \" + str(train_dataset[train_dataset.service=='-'].shape[0]))\n",
        "print(\"Count of 'nmu' : \" + str(train_dataset[train_dataset.service=='nmu'].shape[0]))"
      ]
    },
    {
      "cell_type": "markdown",
      "metadata": {
        "id": "11uWNHYhP3WQ"
      },
      "source": [
        "##L'analyse exploratoire des données"
      ]
    },
    {
      "cell_type": "code",
      "execution_count": null,
      "metadata": {
        "id": "P6dIsB6kP3WQ"
      },
      "outputs": [],
      "source": [
        "\"\"\"\n",
        "    show box plot\n",
        "\"\"\"\n",
        "def show_box_plot(feature, box_plot_data):\n",
        "    print()\n",
        "    sns.set(rc={'figure.figsize':(25, 8)})\n",
        "    print('Attack category wise Violin plots\\n')\n",
        "    sns.violinplot(x='attack_cat', y= feature, data=box_plot_data, order=np.sort(box_plot_data.attack_cat.unique()), fmt='g')\n",
        "    plt.show()\n",
        "    print('\\nAttack category wise Box plots ( Without Outliers ) \\n')\n",
        "    sns.boxplot(x='attack_cat', y= feature, data=box_plot_data, order=np.sort(box_plot_data.attack_cat.unique()), showfliers=False)\n",
        "    plt.show()"
      ]
    },
    {
      "cell_type": "code",
      "execution_count": null,
      "metadata": {
        "id": "YvxMLZdBP3WR"
      },
      "outputs": [],
      "source": [
        "def plot_heatmap(feature):\n",
        "    print() # new line\n",
        "    attack_categories_sorted = np.sort(train_dataset.attack_cat.unique())\n",
        "    attack_category_heatmap = []\n",
        "    # unique values of feature - .sort_values(ascending=False)[:X] to take top X values\n",
        "    feature_unique_values_df = train_dataset[feature].value_counts().sort_values(ascending=False)\n",
        "\n",
        "    if feature_unique_values_df.shape[0] > 10:\n",
        "        print('Showing only top 25 unique values out of ' + str(feature_unique_values_df.shape[0]) + ' values\\n')\n",
        "        feature_unique_values = feature_unique_values_df.index[:10]\n",
        "    else:\n",
        "        feature_unique_values = feature_unique_values_df.index\n",
        "\n",
        "    for attack_category in attack_categories_sorted:\n",
        "\n",
        "        # dataset consisting of only those rows elonging to the attack category\n",
        "        attack_cat_dataset = train_dataset[train_dataset.attack_cat==attack_category]\n",
        "\n",
        "        attack_cat_field_counts = []\n",
        "        for index in feature_unique_values:\n",
        "            attack_cat_field_counts.append(attack_cat_dataset[attack_cat_dataset[feature] == index].shape[0])\n",
        "\n",
        "        attack_category_heatmap.append(attack_cat_field_counts)\n",
        "\n",
        "\n",
        "    attack_category_heatmap = np.array(attack_category_heatmap).transpose().tolist()\n",
        "    plt.figure(figsize = (15, 10))\n",
        "    sns.heatmap(attack_category_heatmap,\n",
        "                xticklabels = attack_categories_sorted,\n",
        "                yticklabels = feature_unique_values,\n",
        "                cmap='RdYlBu_r',\n",
        "                linewidth = 1,\n",
        "                annot=True, fmt='g')\n",
        "    plt.show()\n"
      ]
    },
    {
      "cell_type": "code",
      "execution_count": null,
      "metadata": {
        "id": "mmfroZXwP3WR"
      },
      "outputs": [],
      "source": [
        "binary_features = []\n",
        "\n",
        "#to store all categorical feature names\n",
        "categorical_features = []\n",
        "\n",
        "#to store all numerical feature names\n",
        "numerical_features = []\n",
        "\n",
        "count = 1\n",
        "\n",
        "\"\"\"\n",
        "    iterate through all columns and perform relevant analysis\n",
        "\"\"\"\n",
        "for c in train_dataset.columns:\n",
        "    print('\\n' + str(count) + '.\\n')\n",
        "    print('Feature Name: ' + c)\n",
        "\n",
        "    feature_detail_row = features[features.Name == c]\n",
        "    if feature_detail_row.empty and c!='rate':\n",
        "        print(\"Feature '\" + str(c) + \"' not found\")\n",
        "    elif c=='rate':\n",
        "        display(train_dataset.groupby(\"attack_cat\")[c].describe())\n",
        "        show_box_plot(c, train_dataset)\n",
        "        numerical_features.append(c)\n",
        "    else:\n",
        "        print('Type: ' + feature_detail_row.Type.values[0])\n",
        "        print('Description: ' + feature_detail_row.Description.values[0])\n",
        "        print()\n",
        "\n",
        "        if feature_detail_row.Type.values[0] == 'integer' or feature_detail_row.Type.values[0] == 'float':\n",
        "            display(train_dataset.groupby(\"attack_cat\")[c].describe())\n",
        "            show_box_plot(c, train_dataset)\n",
        "            numerical_features.append(c)\n",
        "        elif feature_detail_row.Type.values[0] == 'nominal' or feature_detail_row.Type.values[0] == 'binary':\n",
        "            #display(train[c].unique())\n",
        "            print('\\nDistribution \\n')\n",
        "            display(train_dataset[c].value_counts())\n",
        "            if c!='attack_cat' and c!='label':\n",
        "                plot_heatmap(c)\n",
        "                \"\"\"\n",
        "                for cat in train_dataset.attack_cat.unique():\n",
        "                    print('\\nAttack Category :' + cat + '\\n')\n",
        "                    train_dataset[train_dataset.attack_cat==cat][c].value_counts().sort_values(ascending=False)[:10].plot(kind='bar', figsize=(15, 5))\n",
        "                    plt.show()\n",
        "                \"\"\"\n",
        "\n",
        "            if feature_detail_row.Type.values[0] == 'nominal':\n",
        "                if c!='attack_cat':\n",
        "                    categorical_features.append(c)\n",
        "            else:\n",
        "                binary_features.append(c)\n",
        "        else:\n",
        "            raise Exception(str(feature_detail_row.Type.values[0]) + ' not found')\n",
        "\n",
        "\n",
        "    print()\n",
        "    print('-'*100)\n",
        "    count+=1\n",
        "\n",
        "\n",
        "with open(\"binary_features\", \"wb\") as fp:   #Pickling\n",
        "    pickle.dump(binary_features, fp)\n",
        "\n",
        "with open(\"categorical_features\", \"wb\") as fp:   #Pickling\n",
        "    pickle.dump(categorical_features, fp)\n",
        "\n",
        "with open(\"numerical_features\", \"wb\") as fp:   #Pickling\n",
        "    pickle.dump(numerical_features, fp)"
      ]
    },
    {
      "cell_type": "code",
      "execution_count": null,
      "metadata": {
        "id": "ecUCi1IOP3WR"
      },
      "outputs": [],
      "source": [
        "print('Number of categorical features is', len(categorical_features))\n",
        "print('Number of binary features is', len(binary_features))\n",
        "print('Number of numerical features is', len(numerical_features))\n",
        "print('Total number of features is', len(categorical_features) + len(numerical_features) + len(binary_features))"
      ]
    },
    {
      "cell_type": "markdown",
      "metadata": {
        "id": "CZKyyvHuP3WR"
      },
      "source": [
        "## Visualiser les données"
      ]
    },
    {
      "cell_type": "code",
      "execution_count": null,
      "metadata": {
        "id": "1HKuWVSnP3WR"
      },
      "outputs": [],
      "source": [
        "import importlib\n",
        "import common_functions #import the module here, so that it can be reloaded.\n",
        "importlib.reload(common_functions)\n",
        "from common_functions import *\n",
        "\n",
        "X_train = train_dataset.drop(['label'], axis=1).drop(['attack_cat'], axis=1)\n",
        "y_train = train_dataset['label']\n",
        "y_train_1 = train_dataset['attack_cat']\n",
        "\n",
        "one_hot_encoders, one_hot_encoders_features = fit_one_hot_encoders(X_train, categorical_features)\n",
        "feature_standardizers = fit_standard_scalars(X_train, numerical_features)\n",
        "minmax_scalers = fit_minmax_scalars(X_train, numerical_features)\n",
        "\n",
        "X_train_encoded, X_train_encoded_features = merge_all(X_train, one_hot_encoders_features,\n",
        "                                                      get_one_hot_encoded_features(X_train, categorical_features, one_hot_encoders),\n",
        "                                                      get_standardized_features(X_train, numerical_features, feature_standardizers),\n",
        "                                                      binary_features)"
      ]
    },
    {
      "cell_type": "code",
      "execution_count": null,
      "metadata": {
        "id": "B4CHDbM4P3WS"
      },
      "outputs": [],
      "source": [
        "from sklearn.preprocessing import OneHotEncoder\n",
        "\n",
        "#label encode attack category\n",
        "y_encoder = OneHotEncoder().fit(y_train_1.to_numpy().reshape(-1, 1))\n",
        "y_train_1 = np.array(y_encoder.transform(y_train_1.to_numpy().reshape(-1, 1)))"
      ]
    },
    {
      "cell_type": "markdown",
      "metadata": {
        "id": "OvFvoXw4P3WS"
      },
      "source": [
        "## Matrice de corrélation"
      ]
    },
    {
      "cell_type": "code",
      "execution_count": null,
      "metadata": {
        "id": "KP3avU20P3WS"
      },
      "outputs": [],
      "source": [
        "correlation_mat = train_dataset.drop(['id'], axis=1).corr(method='pearson')\n",
        "f, ax = plt.subplots(figsize =(25, 15))\n",
        "sns.heatmap(correlation_mat, ax=ax, cmap = 'RdYlBu_r', linewidths = 0.5, center=0.0)"
      ]
    },
    {
      "cell_type": "code",
      "execution_count": null,
      "metadata": {
        "id": "e6t6cZmsP3WS"
      },
      "outputs": [],
      "source": [
        "y_train_1.shape"
      ]
    },
    {
      "cell_type": "code",
      "execution_count": null,
      "metadata": {
        "id": "SYU1OCj0P3WS"
      },
      "outputs": [],
      "source": [
        "train_dataset\n",
        "correlation_mat = train_dataset.drop(['id'], axis=1).corr(method='pearson')\n",
        "f, ax = plt.subplots(figsize =(25, 15))\n",
        "sns.heatmap(correlation_mat, ax=ax, cmap = 'RdYlBu_r', linewidths = 0.5, center=0.0)"
      ]
    },
    {
      "cell_type": "code",
      "execution_count": null,
      "metadata": {
        "id": "z0wokrwbP3WS"
      },
      "outputs": [],
      "source": [
        "for name, group in train_dataset.drop(['id', 'label'], axis=1).groupby('attack_cat'):\n",
        "    print(name)\n",
        "    correlation_mat = group.corr(method='pearson')\n",
        "    f, ax = plt.subplots(figsize =(25, 10))\n",
        "    sns.heatmap(correlation_mat, ax=ax, cmap = 'RdYlBu_r', linewidths = 0.5, center=0.0)\n",
        "    plt.show()"
      ]
    },
    {
      "cell_type": "markdown",
      "metadata": {
        "id": "THo91ec4P3WT"
      },
      "source": [
        "Pour une classe normale, la plupart des fonctionnalités n’ont aucune corrélation entre elles. Cependant, dans certaines autres classes comme \"Shellcode\", toutes les fonctionnalités sont fortement corrélées les unes aux autres."
      ]
    },
    {
      "cell_type": "markdown",
      "metadata": {
        "id": "JnJRXkVYP3WU"
      },
      "source": [
        "### Analyse des composants principaux"
      ]
    },
    {
      "cell_type": "markdown",
      "metadata": {
        "id": "4cfZJAG6P3WU"
      },
      "source": [
        "__Séquence de couleurs pour les points de données basée sur \"l'étiquette\"_"
      ]
    },
    {
      "cell_type": "code",
      "execution_count": null,
      "metadata": {
        "id": "PW-ToCx5P3WU"
      },
      "outputs": [],
      "source": [
        "pca = PCA(n_components = 2, svd_solver='full')\n",
        "X_principal = pca.fit_transform(X_train_encoded.todense())\n",
        "X_principal = pd.DataFrame(X_principal)\n",
        "X_principal.columns = ['P1', 'P2']\n",
        "print(\"\\nVisualizing Data using 'label'\\n\")\n",
        "plt.figure(figsize=(10, 7))\n",
        "plt.title('')\n",
        "plt.scatter(X_principal['P1'],\n",
        "            X_principal['P2'],\n",
        "            c = y_train, cmap ='rainbow')\n",
        "plt.show()"
      ]
    },
    {
      "cell_type": "code",
      "execution_count": null,
      "metadata": {
        "id": "86AJ669TP3WU"
      },
      "outputs": [],
      "source": [
        "pca = PCA(n_components = 3, svd_solver='full')\n",
        "X_principal = pca.fit_transform(X_train_encoded.todense())\n",
        "X_principal = pd.DataFrame(X_principal)\n",
        "X_principal['label'] = y_train\n",
        "X_principal.columns = ['P1', 'P2', 'P3', 'label']\n",
        "print(\"\\nVisualizing Data using 'label'\\n\")\n",
        "\n",
        "fig = px.scatter_3d(X_principal, x='P1', y='P2', z='P3',\n",
        "              color='label')\n",
        "fig.show()"
      ]
    },
    {
      "cell_type": "markdown",
      "metadata": {
        "id": "426UIo26P3WU"
      },
      "source": [
        "__Séquence de couleurs pour les points de données basée sur \"attack_category\"__"
      ]
    },
    {
      "cell_type": "code",
      "execution_count": null,
      "metadata": {
        "id": "Dg0JJlsjP3WV"
      },
      "outputs": [],
      "source": [
        "pca = PCA(n_components = 2)\n",
        "X_principal = pca.fit_transform(X_train_encoded.todense())\n",
        "X_principal = pd.DataFrame(X_principal)\n",
        "X_principal.columns = ['P1', 'P2']\n",
        "\n",
        "y_encoder = LabelEncoder().fit(y_train_1)\n",
        "y_train_1 = np.array(y_encoder.transform(y_train_1))\n",
        "\n",
        "print(\"\\nVisualizing Data using 'attack_category'\\n\")\n",
        "plt.figure(figsize=(10, 7))\n",
        "plt.scatter(X_principal['P1'],\n",
        "            X_principal['P2'],\n",
        "            c = y_train_1, cmap ='rainbow')\n",
        "\n",
        "plt.show()"
      ]
    },
    {
      "cell_type": "code",
      "execution_count": null,
      "metadata": {
        "id": "r-st6uw9P3WV"
      },
      "outputs": [],
      "source": [
        "pca = PCA(n_components = 3)\n",
        "X_principal = pca.fit_transform(X_train_encoded.todense())\n",
        "X_principal = pd.DataFrame(X_principal)\n",
        "X_principal['attack_category'] = y_train\n",
        "X_principal.columns = ['P1', 'P2', 'P3', 'attack_category']\n",
        "print(\"\\nVisualizing Data using 'attack_category'\\n\")\n",
        "\n",
        "fig = px.scatter_3d(X_principal, x='P1', y='P2', z='P3',\n",
        "              color='attack_category')\n",
        "fig.show()"
      ]
    },
    {
      "cell_type": "markdown",
      "metadata": {
        "id": "YkZdMsykP3WV"
      },
      "source": [
        "### Application du TSNE\n",
        "\n",
        "#t-SNE est une technique de réduction de dimension utilisée en exploration de données de grandes dimensions développée en 2008 par Geoffrey Hinton et Laurens van der Maaten. Comme pour l’ACP l’objectif est de déterminer un espace de plus petite dimension tout en préservant les distances entre les points."
      ]
    },
    {
      "cell_type": "markdown",
      "metadata": {
        "id": "UFnKvDMtP3WV"
      },
      "source": [
        "__Séquence de couleurs pour les points de données basée sur \"l'étiquette\"__"
      ]
    },
    {
      "cell_type": "code",
      "execution_count": null,
      "metadata": {
        "id": "-cVlURIjP3WV"
      },
      "outputs": [],
      "source": [
        "sample_train_dataset = train_dataset.groupby('attack_cat').apply(lambda x: x.sample(130, replace=False))\n",
        "\n",
        "X_train = sample_train_dataset.drop(['label'], axis=1).drop(['attack_cat'], axis=1)\n",
        "y_train = sample_train_dataset['label']\n",
        "y_train_1 = sample_train_dataset['attack_cat']\n",
        "\n",
        "one_hot_encoders, one_hot_encoders_features = fit_one_hot_encoders(X_train, categorical_features)\n",
        "feature_standardizers = fit_standard_scalars(X_train, numerical_features)\n",
        "minmax_scalers = fit_minmax_scalars(X_train, numerical_features)\n",
        "\n",
        "X_train_encoded, X_train_encoded_features = merge_all(X_train, one_hot_encoders_features,\n",
        "                                                      get_one_hot_encoded_features(X_train, categorical_features, one_hot_encoders),\n",
        "                                                      get_standardized_features(X_train, numerical_features, feature_standardizers),\n",
        "                                                      binary_features)\n"
      ]
    },
    {
      "cell_type": "code",
      "execution_count": null,
      "metadata": {
        "id": "iAoH5hpZP3WV"
      },
      "outputs": [],
      "source": [
        "xtsne = TSNE(perplexity=30, n_jobs=3)\n",
        "results = xtsne.fit_transform(X_train_encoded)\n",
        "vis_x = results[:, 0]\n",
        "vis_y = results[:, 1]\n",
        "plt.scatter(vis_x, vis_y, c=y_train, cmap=plt.cm.get_cmap(\"jet\", 2))\n",
        "plt.colorbar(ticks=[0, 1])\n",
        "plt.clim(0.5, 1)\n",
        "plt.show()"
      ]
    },
    {
      "cell_type": "code",
      "execution_count": null,
      "metadata": {
        "id": "u2TFmK9fP3WW"
      },
      "outputs": [],
      "source": [
        "#with perplexity 50\n",
        "xtsne = TSNE(perplexity=50, n_jobs=3)\n",
        "results = xtsne.fit_transform(X_train_encoded)\n",
        "vis_x = results[:, 0]\n",
        "vis_y = results[:, 1]\n",
        "plt.scatter(vis_x, vis_y, c=y_train, cmap=plt.cm.get_cmap(\"jet\", 2))\n",
        "plt.colorbar(ticks=[0, 1])\n",
        "plt.clim(0.5, 1)\n",
        "plt.show()"
      ]
    },
    {
      "cell_type": "code",
      "execution_count": null,
      "metadata": {
        "id": "d_jwQUriP3WW"
      },
      "outputs": [],
      "source": [
        "xtsne = TSNE(perplexity=20, n_jobs=3)\n",
        "results = xtsne.fit_transform(X_train_encoded)\n",
        "vis_x = results[:, 0]\n",
        "vis_y = results[:, 1]\n",
        "plt.scatter(vis_x, vis_y, c=y_train, cmap=plt.cm.get_cmap(\"jet\", 2))\n",
        "plt.colorbar(ticks=[0, 1])\n",
        "plt.clim(0.5, 1)\n",
        "plt.show()"
      ]
    },
    {
      "cell_type": "markdown",
      "metadata": {
        "id": "Cu_MarLEP3WW"
      },
      "source": [
        "__Séquence de couleurs pour les points de données basée sur \"attack_category\"__"
      ]
    },
    {
      "cell_type": "code",
      "execution_count": null,
      "metadata": {
        "id": "ZlUSnzuUP3WW"
      },
      "outputs": [],
      "source": [
        "y_encoder = LabelEncoder().fit(y_train_1)\n",
        "y_train_1 = np.array(y_encoder.transform(y_train_1))"
      ]
    },
    {
      "cell_type": "code",
      "execution_count": null,
      "metadata": {
        "id": "dJl2Pio5P3WW"
      },
      "outputs": [],
      "source": [
        "# [\"Analysis\",\"Backdoor\", \"DoS\",\"Exploits\",\"Fuzzers\",\"Generic\",\"Normal\", \"Reconnaissance\",\"Shellcode\", \"Worms\"]\n",
        "xtsne = TSNE(perplexity=30, n_jobs=3)\n",
        "results = xtsne.fit_transform(X_train_encoded)\n",
        "vis_x = results[:, 0]\n",
        "vis_y = results[:, 1]\n",
        "plt.scatter(vis_x, vis_y, c=y_train_1, cmap=plt.cm.get_cmap(\"jet\", 10))\n",
        "plt.colorbar(ticks=range(11))\n",
        "plt.clim(0.5, 10)\n",
        "plt.show()"
      ]
    },
    {
      "cell_type": "code",
      "execution_count": null,
      "metadata": {
        "id": "sRDoaM9sP3WX"
      },
      "outputs": [],
      "source": [
        "#with perplexity 50\n",
        "xtsne = TSNE(perplexity=5, n_jobs=3)\n",
        "results = xtsne.fit_transform(X_train_encoded)\n",
        "vis_x = results[:, 0]\n",
        "vis_y = results[:, 1]\n",
        "plt.scatter(vis_x, vis_y, c=y_train_1, cmap=plt.cm.get_cmap(\"jet\", 10))\n",
        "plt.colorbar(ticks=range(11))\n",
        "plt.clim(0.5, 10)\n",
        "plt.show()"
      ]
    },
    {
      "cell_type": "code",
      "source": [
        "pip install spark"
      ],
      "metadata": {
        "colab": {
          "base_uri": "https://localhost:8080/"
        },
        "id": "ARyIg139tryO",
        "outputId": "96c01a9e-466b-418f-eb5f-713408809b66"
      },
      "execution_count": 1,
      "outputs": [
        {
          "output_type": "stream",
          "name": "stdout",
          "text": [
            "Collecting spark\n",
            "  Downloading spark-0.2.1.tar.gz (41 kB)\n",
            "\u001b[?25l     \u001b[90m━━━━━━━━━━━━━━━━━━━━━━━━━━━━━━━━━━━━━━━━\u001b[0m \u001b[32m0.0/41.0 kB\u001b[0m \u001b[31m?\u001b[0m eta \u001b[36m-:--:--\u001b[0m\r\u001b[2K     \u001b[90m━━━━━━━━━━━━━━━━━━━━━━━━━━━━━━━━━━━━━━━━\u001b[0m \u001b[32m41.0/41.0 kB\u001b[0m \u001b[31m1.1 MB/s\u001b[0m eta \u001b[36m0:00:00\u001b[0m\n",
            "\u001b[?25h  Preparing metadata (setup.py) ... \u001b[?25l\u001b[?25hdone\n",
            "Building wheels for collected packages: spark\n",
            "  Building wheel for spark (setup.py) ... \u001b[?25l\u001b[?25hdone\n",
            "  Created wheel for spark: filename=spark-0.2.1-py3-none-any.whl size=58748 sha256=97d25a24075d674c1994a4628089239ec81352ef0c129a3e00feecfa30af1bc1\n",
            "  Stored in directory: /root/.cache/pip/wheels/63/88/77/b4131110ea4094540f7b47c6d62a649807d7e94800da5eab0b\n",
            "Successfully built spark\n",
            "Installing collected packages: spark\n",
            "Successfully installed spark-0.2.1\n"
          ]
        }
      ]
    },
    {
      "cell_type": "code",
      "source": [
        "!apt-get install openjdk-8-jdk-headless -qq > /dev/null"
      ],
      "metadata": {
        "id": "hPtB35iiyy_R"
      },
      "execution_count": 3,
      "outputs": []
    },
    {
      "cell_type": "code",
      "source": [
        "pip install pyspark"
      ],
      "metadata": {
        "colab": {
          "base_uri": "https://localhost:8080/"
        },
        "id": "DD8SId8Gyzom",
        "outputId": "f1cfb948-9e0a-4d13-80e5-b3718033e591"
      },
      "execution_count": 4,
      "outputs": [
        {
          "output_type": "stream",
          "name": "stdout",
          "text": [
            "Collecting pyspark\n",
            "  Downloading pyspark-3.4.1.tar.gz (310.8 MB)\n",
            "\u001b[2K     \u001b[90m━━━━━━━━━━━━━━━━━━━━━━━━━━━━━━━━━━━━━━━\u001b[0m \u001b[32m310.8/310.8 MB\u001b[0m \u001b[31m2.6 MB/s\u001b[0m eta \u001b[36m0:00:00\u001b[0m\n",
            "\u001b[?25h  Preparing metadata (setup.py) ... \u001b[?25l\u001b[?25hdone\n",
            "Requirement already satisfied: py4j==0.10.9.7 in /usr/local/lib/python3.10/dist-packages (from pyspark) (0.10.9.7)\n",
            "Building wheels for collected packages: pyspark\n",
            "  Building wheel for pyspark (setup.py) ... \u001b[?25l\u001b[?25hdone\n",
            "  Created wheel for pyspark: filename=pyspark-3.4.1-py2.py3-none-any.whl size=311285387 sha256=4222751603be281a3dd9aeb8bf4e79ea186ac276fb34bd8247a96458cfbd4bf7\n",
            "  Stored in directory: /root/.cache/pip/wheels/0d/77/a3/ff2f74cc9ab41f8f594dabf0579c2a7c6de920d584206e0834\n",
            "Successfully built pyspark\n",
            "Installing collected packages: pyspark\n",
            "Successfully installed pyspark-3.4.1\n"
          ]
        }
      ]
    },
    {
      "cell_type": "code",
      "source": [
        "from pyspark.sql import SparkSession\n",
        "\n",
        "# Initialisation de la session Spark\n",
        "spark = SparkSession.builder \\\n",
        "    .appName(\"Data Collection\") \\\n",
        "    .getOrCreate()\n",
        "\n",
        "# Chargement des données à partir d'un fichier CSV\n",
        "data = spark.read.csv(\"/content/New_NUSW-NB15.csv\", header=True, inferSchema=True)\n",
        "\n",
        "# Affichage du schéma des données\n",
        "data.printSchema()\n",
        "\n",
        "# Affichage des premières lignes des données\n",
        "data.show()\n",
        "\n",
        "# Effectuez des opérations de transformation, de filtrage, d'agrégation, etc. selon vos besoins\n",
        "# Par exemple, vous pouvez appliquer un filtre sur les données :\n",
        "#filtered_data = data.filter(data[\"sport\"] > 100)\n",
        "\n",
        "# Enregistrement des données traitées dans un autre format\n",
        "#filtered_data.write.parquet(\"chemin_vers_votre_fichier_parquet\")\n",
        "\n",
        "# Arrêt de la session Spark\n",
        "spark.stop()\n"
      ],
      "metadata": {
        "colab": {
          "base_uri": "https://localhost:8080/"
        },
        "id": "885jGjBuqxvd",
        "outputId": "b9457a88-cacc-4ad3-80fc-8c2b63a94043"
      },
      "execution_count": 7,
      "outputs": [
        {
          "output_type": "stream",
          "name": "stdout",
          "text": [
            "root\n",
            " |-- srcip: string (nullable = true)\n",
            " |-- sport: string (nullable = true)\n",
            " |-- dstip: string (nullable = true)\n",
            " |-- dsport: string (nullable = true)\n",
            " |-- proto: string (nullable = true)\n",
            " |-- state: string (nullable = true)\n",
            " |-- dur: string (nullable = true)\n",
            " |-- sbytes: string (nullable = true)\n",
            " |-- dbytes: string (nullable = true)\n",
            " |-- sttl: string (nullable = true)\n",
            " |-- dttl: string (nullable = true)\n",
            " |-- sloss: string (nullable = true)\n",
            " |-- dloss: string (nullable = true)\n",
            " |-- service: string (nullable = true)\n",
            " |-- Sload: string (nullable = true)\n",
            " |-- Dload: string (nullable = true)\n",
            " |-- Spkts: string (nullable = true)\n",
            " |-- Dpkts: string (nullable = true)\n",
            " |-- swin: string (nullable = true)\n",
            " |-- dwin: string (nullable = true)\n",
            " |-- stcpb: string (nullable = true)\n",
            " |-- dtcpb: string (nullable = true)\n",
            " |-- smeansz: string (nullable = true)\n",
            " |-- dmeansz: string (nullable = true)\n",
            " |-- trans_depth: string (nullable = true)\n",
            " |-- res_bdy_len: string (nullable = true)\n",
            " |-- Sjit: string (nullable = true)\n",
            " |-- Djit: string (nullable = true)\n",
            " |-- Stime: string (nullable = true)\n",
            " |-- Ltime: string (nullable = true)\n",
            " |-- Sintpkt: string (nullable = true)\n",
            " |-- Dintpkt: string (nullable = true)\n",
            " |-- tcprtt: string (nullable = true)\n",
            " |-- synack: string (nullable = true)\n",
            " |-- ackdat: string (nullable = true)\n",
            " |-- is_sm_ips_ports: string (nullable = true)\n",
            " |-- ct_state_ttl: string (nullable = true)\n",
            " |-- ct_flw_http_mthd: string (nullable = true)\n",
            " |-- is_ftp_login: string (nullable = true)\n",
            " |-- ct_ftp_cmd: string (nullable = true)\n",
            " |-- ct_srv_src: string (nullable = true)\n",
            " |-- ct_srv_dst: string (nullable = true)\n",
            " |-- ct_dst_ltm: string (nullable = true)\n",
            " |-- ct_src_ ltm: string (nullable = true)\n",
            " |-- ct_src_dport_ltm: string (nullable = true)\n",
            " |-- ct_dst_sport_ltm: string (nullable = true)\n",
            " |-- ct_dst_src_ltm: string (nullable = true)\n",
            " |-- attack_cat: string (nullable = true)\n",
            " |-- Label: string (nullable = true)\n",
            "\n",
            "+-----------+-----+-------------+------+-----+-----+--------+------+------+----+----+-----+-----+-------+-----------+-----------+-----+-----+----+----+-----+-----+-------+-------+-----------+-----------+---------+---------+----------+----------+--------+--------+------+------+------+---------------+------------+----------------+------------+----------+----------+----------+----------+-----------+----------------+----------------+--------------+----------+-----+\n",
            "|      srcip|sport|        dstip|dsport|proto|state|     dur|sbytes|dbytes|sttl|dttl|sloss|dloss|service|      Sload|      Dload|Spkts|Dpkts|swin|dwin|stcpb|dtcpb|smeansz|dmeansz|trans_depth|res_bdy_len|     Sjit|     Djit|     Stime|     Ltime| Sintpkt| Dintpkt|tcprtt|synack|ackdat|is_sm_ips_ports|ct_state_ttl|ct_flw_http_mthd|is_ftp_login|ct_ftp_cmd|ct_srv_src|ct_srv_dst|ct_dst_ltm|ct_src_ ltm|ct_src_dport_ltm|ct_dst_sport_ltm|ct_dst_src_ltm|attack_cat|Label|\n",
            "+-----------+-----+-------------+------+-----+-----+--------+------+------+----+----+-----+-----+-------+-----------+-----------+-----+-----+----+----+-----+-----+-------+-------+-----------+-----------+---------+---------+----------+----------+--------+--------+------+------+------+---------------+------------+----------------+------------+----------+----------+----------+----------+-----------+----------------+----------------+--------------+----------+-----+\n",
            "| 59.166.0.0| 1390|149.171.126.6|    53|  udp|  CON|0.001055|   132|   164|  31|  29|    0|    0|    dns|500473.9375|621800.9375|    2|    2|   0|   0|    0|    0|     66|     82|          0|          0|        0|        0|1421927414|1421927414|   0.017|   0.013|     0|     0|     0|              0|           0|               0|           0|         0|         3|         7|         1|          3|               1|               1|             1|      null|    0|\n",
            "| 59.166.0.0|33661|149.171.126.9|  1024|  udp|  CON|0.036133|   528|   304|  31|  29|    0|    0|      -|87676.08594|50480.17188|    4|    4|   0|   0|    0|    0|    132|     76|          0|          0|  9.89101|10.682733|1421927414|1421927414|   7.005|7.564333|     0|     0|     0|              0|           0|               0|           0|         0|         2|         4|         2|          3|               1|               1|             2|      null|    0|\n",
            "| 59.166.0.6| 1464|149.171.126.7|    53|  udp|  CON|0.001119|   146|   178|  31|  29|    0|    0|    dns|521894.5313| 636282.375|    2|    2|   0|   0|    0|    0|     73|     89|          0|          0|        0|        0|1421927414|1421927414|   0.017|   0.013|     0|     0|     0|              0|           0|               0|           0|         0|        12|         8|         1|          2|               2|               1|             1|      null|    0|\n",
            "| 59.166.0.5| 3593|149.171.126.5|    53|  udp|  CON|0.001209|   132|   164|  31|  29|    0|    0|    dns|436724.5625|542597.1875|    2|    2|   0|   0|    0|    0|     66|     82|          0|          0|        0|        0|1421927414|1421927414|   0.043|   0.014|     0|     0|     0|              0|           0|               0|           0|         0|         6|         9|         1|          1|               1|               1|             1|      null|    0|\n",
            "| 59.166.0.3|49664|149.171.126.0|    53|  udp|  CON|0.001169|   146|   178|  31|  29|    0|    0|    dns|  499572.25|609067.5625|    2|    2|   0|   0|    0|    0|     73|     89|          0|          0|        0|        0|1421927414|1421927414|   0.005|   0.003|     0|     0|     0|              0|           0|               0|           0|         0|         7|         9|         1|          1|               1|               1|             1|      null|    0|\n",
            "| 59.166.0.0|32119|149.171.126.9|   111|  udp|  CON|0.078339|   568|   312|  31|  29|    0|    0|      -|43503.23438|23896.14258|    4|    4|   0|   0|    0|    0|    142|     78|          0|          0|29.682221| 34.37034|1421927414|1421927414|  21.003|  24.315|     0|     0|     0|              0|           0|               0|           0|         0|         2|         4|         2|          3|               1|               1|             2|      null|    0|\n",
            "| 59.166.0.6| 2142|149.171.126.4|    53|  udp|  CON|0.001134|   132|   164|  31|  29|    0|    0|    dns|465608.4688|  578483.25|    2|    2|   0|   0|    0|    0|     66|     82|          0|          0|        0|        0|1421927414|1421927414|   0.017|   0.013|     0|     0|     0|              0|           0|               0|           0|         0|        12|         7|         1|          2|               2|               1|             1|      null|    0|\n",
            "|10.40.182.3|    0|  10.40.182.3|     0|  arp|  INT|       0|    46|     0|   0|   0|    0|    0|      -|          0|          0|    1|    0|   0|   0|    0|    0|     46|      0|          0|          0|        0|        0|1421927415|1421927415|       0|       0|     0|     0|     0|              1|           2|               0|           0|         0|         2|         2|         2|          2|               2|               2|             2|      null|    0|\n",
            "| 59.166.0.5|40726|149.171.126.6|    53|  udp|  CON|0.001126|   146|   178|  31|  29|    0|    0|    dns|518650.0938|632326.8125|    2|    2|   0|   0|    0|    0|     73|     89|          0|          0|        0|        0|1421927415|1421927415|   0.018|   0.013|     0|     0|     0|              0|           0|               0|           0|         0|         6|         7|         3|          1|               1|               1|             1|      null|    0|\n",
            "| 59.166.0.7|12660|149.171.126.4|    53|  udp|  CON|0.001167|   132|   164|  31|  29|    0|    0|    dns|452442.1563|562125.0625|    2|    2|   0|   0|    0|    0|     66|     82|          0|          0|        0|        0|1421927415|1421927415|   0.018|   0.013|     0|     0|     0|              0|           0|               0|           0|         0|         6|         7|         2|          1|               1|               1|             1|      null|    0|\n",
            "|10.40.170.2|    0|  10.40.170.2|     0|  arp|  INT|       0|    46|     0|   0|   0|    0|    0|      -|          0|          0|    1|    0|   0|   0|    0|    0|     46|      0|          0|          0|        0|        0|1421927415|1421927415|       0|       0|     0|     0|     0|              1|           2|               0|           0|         0|         2|         2|         2|          2|               2|               2|             2|      null|    0|\n",
            "|10.40.170.2|    0|  10.40.170.2|     0|  arp|  INT|       0|    46|     0|   0|   0|    0|    0|      -|          0|          0|    1|    0|   0|   0|    0|    0|     46|      0|          0|          0|        0|        0|1421927415|1421927415|       0|       0|     0|     0|     0|              1|           2|               0|           0|         0|         2|         2|         2|          2|               2|               2|             2|      null|    0|\n",
            "|10.40.182.3|    0|  10.40.182.3|     0|  arp|  INT|       0|    46|     0|   0|   0|    0|    0|      -|          0|          0|    1|    0|   0|   0|    0|    0|     46|      0|          0|          0|        0|        0|1421927415|1421927415|       0|       0|     0|     0|     0|              1|           2|               0|           0|         0|         2|         2|         2|          2|               2|               2|             2|      null|    0|\n",
            "| 59.166.0.1|48847|149.171.126.5|    53|  udp|  CON|0.001093|   132|   164|  31|  29|    0|    0|    dns|483074.0938|600182.9375|    2|    2|   0|   0|    0|    0|     66|     82|          0|          0|        0|        0|1421927415|1421927415|   0.018|   0.013|     0|     0|     0|              0|           0|               0|           0|         0|         6|         9|         2|          5|               1|               1|             1|      null|    0|\n",
            "| 59.166.0.1|24266|149.171.126.9| 41049|  udp|  CON|0.001851|   528|   304|  31|  29|    0|    0|      -| 1711507.25|985413.3125|    4|    4|   0|   0|    0|    0|    132|     76|          0|          0| 0.656903| 0.328339|1421927415|1421927415|   0.471|0.237667|     0|     0|     0|              0|           0|               0|           0|         0|         8|         4|         2|          5|               1|               1|             2|      null|    0|\n",
            "| 59.166.0.1|10393|149.171.126.6| 44307|  udp|  CON|0.001749|   528|   304|  31|  29|    0|    0|      -| 1811320.75|1042881.625|    4|    4|   0|   0|    0|    0|    132|     76|          0|          0| 0.640403| 0.280968|1421927415|1421927415|0.458333|0.203667|     0|     0|     0|              0|           0|               0|           0|         0|         8|         2|         3|          5|               1|               1|             2|      null|    0|\n",
            "| 59.166.0.2|62539|149.171.126.4|    53|  udp|  CON|0.001128|   132|   164|  31|  29|    0|    0|    dns| 468085.125|581560.3125|    2|    2|   0|   0|    0|    0|     66|     82|          0|          0|        0|        0|1421927415|1421927415|   0.017|   0.015|     0|     0|     0|              0|           0|               0|           0|         0|         7|         7|         2|          1|               1|               1|             1|      null|    0|\n",
            "| 59.166.0.1|21270|149.171.126.9|   111|  udp|  CON|0.005153|   568|   312|  31|  29|    0|    0|      -|661362.3125|363283.5313|    4|    4|   0|   0|    0|    0|    142|     78|          0|          0| 1.890104| 1.610554|1421927415|1421927415|   1.348|1.149333|     0|     0|     0|              0|           0|               0|           0|         0|         8|         4|         2|          5|               2|               1|             2|      null|    0|\n",
            "| 59.166.0.1| 8989|149.171.126.6|   111|  udp|  CON|0.004898|   568|   312|  31|  29|    0|    0|      -|695794.1875|382196.8125|    4|    4|   0|   0|    0|    0|    142|     78|          0|          0| 1.780739| 1.549507|1421927415|1421927415|1.269667|1.103667|     0|     0|     0|              0|           0|               0|           0|         0|         8|         2|         3|          5|               2|               1|             2|      null|    0|\n",
            "| 59.166.0.4|49346|149.171.126.5|    53|  udp|  CON|0.001111|   132|   164|  31|  29|    0|    0|    dns|475247.5313|590459.0625|    2|    2|   0|   0|    0|    0|     66|     82|          0|          0|        0|        0|1421927415|1421927415|   0.018|   0.013|     0|     0|     0|              0|           0|               0|           0|         0|         5|         9|         2|          1|               1|               1|             1|      null|    0|\n",
            "+-----------+-----+-------------+------+-----+-----+--------+------+------+----+----+-----+-----+-------+-----------+-----------+-----+-----+----+----+-----+-----+-------+-------+-----------+-----------+---------+---------+----------+----------+--------+--------+------+------+------+---------------+------------+----------------+------------+----------+----------+----------+----------+-----------+----------------+----------------+--------------+----------+-----+\n",
            "only showing top 20 rows\n",
            "\n"
          ]
        }
      ]
    },
    {
      "cell_type": "code",
      "source": [],
      "metadata": {
        "id": "ToLKG-Q30XRJ"
      },
      "execution_count": null,
      "outputs": []
    },
    {
      "cell_type": "code",
      "execution_count": null,
      "metadata": {
        "id": "EkDe8cFSP3WX"
      },
      "outputs": [],
      "source": []
    }
  ],
  "metadata": {
    "kernelspec": {
      "display_name": "Python 3",
      "name": "python3"
    },
    "language_info": {
      "codemirror_mode": {
        "name": "ipython",
        "version": 3
      },
      "file_extension": ".py",
      "mimetype": "text/x-python",
      "name": "python",
      "nbconvert_exporter": "python",
      "pygments_lexer": "ipython3",
      "version": "3.7.4"
    },
    "colab": {
      "provenance": [],
      "gpuType": "T4",
      "include_colab_link": true
    },
    "accelerator": "GPU"
  },
  "nbformat": 4,
  "nbformat_minor": 0
}