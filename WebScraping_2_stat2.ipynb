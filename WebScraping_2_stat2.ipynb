{
  "cells": [
    {
      "cell_type": "code",
      "execution_count": 230,
      "metadata": {
        "id": "bhqgf-dP8ad1"
      },
      "outputs": [],
      "source": [
        "import requests\n",
        "from bs4 import BeautifulSoup as bs\n",
        "\n",
        "# from numpy import nan"
      ]
    },
    {
      "cell_type": "code",
      "execution_count": 231,
      "metadata": {
        "id": "xBcArt1p8sth"
      },
      "outputs": [],
      "source": [
        "# Site de Stat de Cybersecurité :\n",
        "url=\"https://www.kiteworks.com/fr/gestion-des-risques-lies-a-la-cybersecurite/115-chiffres-sur-la-cybersecurite-en-2022/\"\n",
        "\n",
        "# response=requests.get(\"https://www.kiteworks.com/fr/gestion-des-risques-lies-a-la-cybersecurite/115-chiffres-sur-la-cybersecurite-en-2022/\"  , headers={\"Accept-Language\":\"fr-FR\"} )\n",
        "\n",
        "response = requests.get(url)\n",
        "html_text=response.content\n",
        "#soup=bs(html ,\"lxml\")\n",
        "\n",
        "#html_text = requests.get(url).text\n",
        "html_text = bs(html_text, 'html.parser')\n",
        "#print(soup_pg)\n",
        "\n",
        "#    print ( li.text.encode(\"utf-8\") )"
      ]
    },
    {
      "cell_type": "code",
      "execution_count": 232,
      "metadata": {
        "id": "zZMZpwxT8snx",
        "colab": {
          "base_uri": "https://localhost:8080/",
          "height": 35
        },
        "outputId": "7daf29f7-c9c9-4038-ba72-3f26d9d06d4b"
      },
      "outputs": [
        {
          "output_type": "execute_result",
          "data": {
            "text/plain": [
              "'Vulnérabilités des logiciels'"
            ],
            "application/vnd.google.colaboratory.intrinsic+json": {
              "type": "string"
            }
          },
          "metadata": {},
          "execution_count": 232
        }
      ],
      "source": [
        "#print(soup.head(100) )\n",
        "# , class_=\"nitro-offscreen\"\n",
        "# , attrs={'class':'nitro-offscreen'}\n",
        "\n",
        "html_text.find(\"h2\").get_text()\n"
      ]
    },
    {
      "cell_type": "code",
      "source": [
        "#soup.find_all(\"a\")\n",
        "\n",
        "# <main id=\"main\" class=\"site-main\">\n",
        "#html_main2 = bs(html_main, 'html.parser')\n",
        "# html_main2 = bs(html_main, \"lxml\")\n",
        "#html_main2 = html_main.content\n",
        "#print(html_main)\n",
        "\n",
        "html_main=html_text.find(\"main\",class_=\"site-main\")"
      ],
      "metadata": {
        "id": "yq_YEvJfsUc0"
      },
      "execution_count": 233,
      "outputs": []
    },
    {
      "cell_type": "code",
      "source": [
        "import pandas as pd\n",
        "# soup.a[\"href\"]\n",
        "\n",
        "nblink=0\n",
        "\n",
        "for link in html_main.find_all('a', class_=pd.isnull): # , class_=pd.isnull\n",
        " # print(link.get('href'))\n",
        " nblink+=1\n",
        "\n",
        "print(nblink)"
      ],
      "metadata": {
        "colab": {
          "base_uri": "https://localhost:8080/"
        },
        "id": "IM5mSw1m7PmT",
        "outputId": "c6393110-f9a8-4abf-882e-5a8bf7d5ec13"
      },
      "execution_count": 234,
      "outputs": [
        {
          "output_type": "stream",
          "name": "stdout",
          "text": [
            "131\n"
          ]
        }
      ]
    },
    {
      "cell_type": "code",
      "source": [
        "#main > ol:nth-child(13)\n",
        "#attrs = {'name':'nv'}\n",
        "#find('span', attrs = {'name':'nv'})\n",
        "#(\"ol\",attrs={'class':\"nitro-offscreen\"} )\n",
        "# , class_=\"nitro-offscreen\"\n",
        "# name = soup_obj.find('h1', attrs={'class': 'company__name'})\n",
        "\n",
        "for ligne in html_main.find('ol').find_all(\"li\") : # , attrs={'class':'nitro-offscreen'}\n",
        " print(ligne.text )"
      ],
      "metadata": {
        "colab": {
          "base_uri": "https://localhost:8080/"
        },
        "id": "CnwSFUXyzVbt",
        "outputId": "20f8ccf4-d9c0-4824-c302-3b82b6bd6f37"
      },
      "execution_count": 235,
      "outputs": [
        {
          "output_type": "stream",
          "name": "stdout",
          "text": [
            "Selon le Check Point Cyber Security Report 2021, 75 % des attaques en 2020 ont exploité des failles de sécurité qui avaient été identifiées au moins deux ans plus tôt. (Check Point)\n",
            "Le premier trimestre 2022 a été marqué par un nombre d’attaques au niveau de la couche applicative supérieur à celui enregistré sur les 4 trimestres précédents. (Cloudflare)\n",
            "Les vulnérabilités DDoS coûtent en moyenne 218 000 $ aux entreprises américaines avant même de payer les demandes de rançongiciels. (Corero)\n",
            "L’une des plus longues attaques DDoS du début de l’année 2022 a duré 549 heures, une durée record. (Kaspersky)\n",
            "Le secteur des télécommunications a été le plus visé par les attaques de la couche réseau. (Cloudflare) \n",
            "La moitié des vulnérabilités ne sont pas résolues six mois après leur découverte. (Veracode)\n",
            "84 % des entreprises ont des vulnérabilités à haut risque sur leur réseau. (Positive Technologies)\n",
            "Aux États-Unis trois des 10 failles les plus exploitées par les pirates étrangers sont dans Microsoft OLE. (CISA, FBI)\n",
            "Une organisation sur cinq ne teste pas les vulnérabilités de ses logiciels. (Ponemon Institute)\n",
            "69 % des logiciels malveillants exploitent aujourd’hui des vulnérabilités de type «zero-day ». (WatchGuard Technologies)\n",
            "Même un cyberattaquant peu aguerri est capable d’exploiter 10 % des vulnérabilités, en utilisant un programme d’exploitation public. (Positive Technologies)\n",
            "La moitié des vulnérabilités pourraient être corrigées simplement en installant des mises à jour logicielles. (Positive Technologies)\n",
            "26 % des entreprises ont des systèmes toujours vulnérables au logiciel de chiffrement malicieux WannaCry. (Positive Technologies)\n",
            "84 % des entreprises sont encore vulnérables à l’attaque POODLE. (Positive Technologies)\n",
            "20% des vulnérabilités logicielles sont dues à des erreurs d’OpenSSH, qui permettent aux pirates de prendre le contrôle des ressources du périmètre réseau ou de pénétrer dans le réseau local de l’entreprise. (Positive Technologies)\n"
          ]
        }
      ]
    },
    {
      "cell_type": "code",
      "source": [
        "nblgn=0\n",
        "\n",
        "for li in html_main.find_all(\"li\", class_=pd.isnull) :\n",
        " print(li.get_text() )\n",
        " nblgn+=1\n",
        "print (nblgn)"
      ],
      "metadata": {
        "colab": {
          "base_uri": "https://localhost:8080/"
        },
        "id": "Ex86dSgqztvk",
        "outputId": "bd6cd12e-43ef-4ee6-fa74-0588a28d4153"
      },
      "execution_count": 236,
      "outputs": [
        {
          "output_type": "stream",
          "name": "stdout",
          "text": [
            "Selon le Check Point Cyber Security Report 2021, 75 % des attaques en 2020 ont exploité des failles de sécurité qui avaient été identifiées au moins deux ans plus tôt. (Check Point)\n",
            "Le premier trimestre 2022 a été marqué par un nombre d’attaques au niveau de la couche applicative supérieur à celui enregistré sur les 4 trimestres précédents. (Cloudflare)\n",
            "Les vulnérabilités DDoS coûtent en moyenne 218 000 $ aux entreprises américaines avant même de payer les demandes de rançongiciels. (Corero)\n",
            "L’une des plus longues attaques DDoS du début de l’année 2022 a duré 549 heures, une durée record. (Kaspersky)\n",
            "Le secteur des télécommunications a été le plus visé par les attaques de la couche réseau. (Cloudflare) \n",
            "La moitié des vulnérabilités ne sont pas résolues six mois après leur découverte. (Veracode)\n",
            "84 % des entreprises ont des vulnérabilités à haut risque sur leur réseau. (Positive Technologies)\n",
            "Aux États-Unis trois des 10 failles les plus exploitées par les pirates étrangers sont dans Microsoft OLE. (CISA, FBI)\n",
            "Une organisation sur cinq ne teste pas les vulnérabilités de ses logiciels. (Ponemon Institute)\n",
            "69 % des logiciels malveillants exploitent aujourd’hui des vulnérabilités de type «zero-day ». (WatchGuard Technologies)\n",
            "Même un cyberattaquant peu aguerri est capable d’exploiter 10 % des vulnérabilités, en utilisant un programme d’exploitation public. (Positive Technologies)\n",
            "La moitié des vulnérabilités pourraient être corrigées simplement en installant des mises à jour logicielles. (Positive Technologies)\n",
            "26 % des entreprises ont des systèmes toujours vulnérables au logiciel de chiffrement malicieux WannaCry. (Positive Technologies)\n",
            "84 % des entreprises sont encore vulnérables à l’attaque POODLE. (Positive Technologies)\n",
            "20% des vulnérabilités logicielles sont dues à des erreurs d’OpenSSH, qui permettent aux pirates de prendre le contrôle des ressources du périmètre réseau ou de pénétrer dans le réseau local de l’entreprise. (Positive Technologies)\n",
            "62 % des attaques abusent de la confiance des clients envers leurs fournisseurs. (European Union Agency for Cybersecurity)\n",
            "62 % des incidents impliquent des tiers compromettant des partenaires. (Verizon 2022 Data Breach Report)\n",
            "48 % des organisations n’ont pas de liste exhaustive de tous les tiers ayant accès à leur réseau. (SecureLink and Ponemon Institute)\n",
            "Dans une enquête mondiale menée par CrowdStrike, 36 % seulement des personnes interrogées avaient soumis leurs fournisseurs, nouveaux ou existants, à un contrôle de sécurité au cours des 12 derniers mois. (CrowdStrike)\n",
            "45% des organisations indiquent avoir été victimes d’une attaque sur la supply chain au cours des 12 derniers mois. (CrowdStrike)\n",
            "Les attaques sur la supply chain ont augmenté de 100 % par rapport à 2021. (Symantec)\n",
            "Plus de la moitié des organisations subiront une attaque du logiciel de leur supply chain d’ici à 2025. (Gartner)\n",
            "4,4 millions de dollars, c’est le coût du piratage de la supply chain de Colonial Pipeline Co (Bloomberg)\n",
            "Les connexions IoT mondiales ont augmenté de 8 % en 2022, totalisant 12,2 milliards de terminaux actifs. (IoT Analytics)\n",
            "51 % des organisations sont insuffisamment protégées contre les risques de sécurité et de conformité des tiers. (Kiteworks)\n",
            "67 % des entreprises utilisent plus de quatre systèmes différents pour suivre, contrôler et sécuriser les communications de contenu. (Kiteworks)\n",
            "60% des organisations demandent à l’expéditeur d’envoyer un fichier non chiffré via un lien vers un serveur partagé, quand les e-mails ne peuvent pas être déchiffrés. (Kiteworks)\n",
            "Plus de 50 % des entreprises citent HIPAA, PCI DSS, CCPA, le RGPD et le DPA (Accord de traitement de Données, France) parmi les réglementations/normes de conformité qu’elles sont tenues de respecter. (Kiteworks)\n",
            "Plus de la moitié des personnes interrogées indiquent que leurs organisations ne sont pas suffisamment préparées pour faire face aux risques liés au partage et au stockage de données confidentielles par des tiers. (Kiteworks)\n",
            "88 % des organisations ne chiffrent pas toutes les communications avec des tiers. (Kiteworks)\n",
            "62 % des incidents impliquent des tiers compromettant des partenaires. (Verizon 2022 Data Breach Report)\n",
            "48 % des organisations n’ont pas de liste exhaustive de tous les tiers ayant accès à leur réseau. (Ponemon Institute and SecureLink)\n",
            "43 % des entreprises déclarent que les directives et systèmes de gestion des tiers sont régulièrement mis à jour au sein de leur organisation. (Ponemon Institute and RiskRecon)\n",
            "Le 2022 Global Threat Report de CrowdStrike révèle que les fuites de données liées aux ransomwares ont augmenté de 82 % l’année dernière. (CrowdStrike)\n",
            "495 millions d’attaques par ransomware ont eu lieu au cours des neuf premiers mois de 2021, soit une augmentation de 148 % par rapport à 2020. (SonicWall)\n",
            "Plus de 37 700 attaques par ransomware se produisent chaque heure dans le monde. Soit 578 attaques par ransomware chaque minute. (Matthew Woodward)\n",
            "20 % des Américains ont déjà été confrontés à une attaque par ransomware. (The Harris Poll)\n",
            "Le montant moyen versé par ransomware en 2021 était de 570 000 dollars. (GRC World Forums)\n",
            "Les attaques par ransomware aux États-Unis ont eu un coût estimé à 623,7 millions de dollars en 2021. (Emsisoft)\n",
            "Environ 25 % de toutes les attaques par ransomware touchent le secteur industriel, 17 % les prestataires de services et 13 % les organisations gouvernementales. (Security Intelligence)\n",
            "En 2020, les organismes de santé ont payé 21 milliards de dollars aux auteurs d’attaques par ransomware. (Comparitech)\n",
            "3 organisations sur 4 ont été la cible d’attaques par ransomware, 64% ont payé une rançon, et 40% n’ont pas pu récupérer leurs données. (Mimecast)\n",
            "1 900, c’est le nombre de groupes de pirates informatiques actifs aujourd’hui. (FireEye Mandiant)\n",
            "Toutes les 14 secondes, une entreprise est victime d’une attaque par ransomware. (Cybersecurity Ventures)\n",
            "De nombreux services publics, dont des écoles, des services de santé et des collectivités locales américaines, ont été la cible d’attaques par ransomware début 2022. (TechTarget)\n",
            "L’Agence pour la cybersécurité et la sécurité des infrastructures a signalé en février 2022 que des incidents liés aux ransomwares se sont produits dans 14 des 16 départements stratégiques des administrations américaines. (CISA)\n",
            "Selon un rapport de 2022, 88 % des attaques par ransomware ont tenté d’infecter des sauvegardes, et 75 % de ces tentatives ont réussi. (Veeam)\n",
            "Une attaque par ransomware survenue début 2020 contre le gouvernement de La Nouvelle-Orléans a coûté à la ville plus de 7 millions de dollars. (SC Magazine)\n",
            "En février 2020, une attaque par ransomware a coûté à la société ISS, basée au Danemark, plus de 50 millions de dollars. (Asia Insurance Review)\n",
            "Les attaques par ransomware ont coûté 7,8 milliards de dollars en 2021 aux organismes de santé américains. (Comparitech)\n",
            "Les ransomwares sont en hausse de près de 13% en 2022, équivalente à celle des cinq dernières années combinées. (Verizon 2022 Data Breach Report)\n",
            "Les arrêts de production et les pertes d’exploitation sont les plus graves conséquences d’une attaque par ransomware, plus que la rançon en elle-même. (Dark Reading)\n",
            "On estime que 5,2 milliards de dollars de transactions en bitcoins sont liées à des paiements de ransomware en 2021. (Financial Crimes Enforcement Network)\n",
            "Avec un seul mot de passe, des pirates ont infiltré la Colonial Pipeline Company en 2021 avec une attaque par ransomware qui a provoqué des pénuries de carburant à travers tous les États-Unis. (Bloomberg)\n",
            "55. JBS, entreprise de transformation de viande, a été victime d’une attaque par ransomware qui a mis hors service des usines de transformation de bœuf et de volaille sur quatre continents différents. (Wall Street Journal)\n",
            "En 2021, au moins 50 % des consommateurs ont été touchés par la cybercriminalité, et environ 33 % d’entre eux en ont été victimes. (Norton)\n",
            "68 % des dirigeants d’entreprise estiment que les risques liés à la cybersécurité augmentent. (Accenture)\n",
            "212 jours, c’est le temps moyen pour détecter une cyberattaque en 2021. (IBM)\n",
            "Le coût mondial de la cybercriminalité est estimé à 6,1 trillions de dollars en 2021 et devrait augmenter de 15 % d’année en année pour atteindre 10,5 trillions de dollars en 2025. (Cybersecurity Ventures)\n",
            "Environ 20 % des e-mails d’hameçonnage atteignent les boîtes de réception des salariés. Cela prouve que les attaquants sont de plus en plus performants, malgré les formations et les processus de sécurité mis en place. (Dark Reading)\n",
            "Les services de sécurité représenteront environ 50 % du budget de la cybersécurité en 2020. (Gartner)\n",
            "Moins de 50 % des organisations appliquent des principes de sécurité zero-trust pour le transfert et l’automatisation de fichiers, les formulaires Web et les API. (Kiteworks)\n",
            "50 % des grandes entreprises (de plus de 10 000 employés) dépensent au moins 1 million de dollars par an en sécurité, 43 % entre 250 000 et 999 999 dollars et seulement 7 % moins de 250 000 dollars. (OEM Magazine)\n",
            "18 % des PDG ont déclaré que le risque de cybersécurité serait la plus grande menace pour la croissance de leur entreprise d’ici 2024. (KPMG)\n",
            "Google a annoncé qu’il investirait 10 milliards de dollars au cours des cinq prochaines années pour développer les programmes zero-trust et aider 100 000 Américains à acquérir des compétences liées au numérique dans l’industrie. (White House)\n",
            "IBM a annoncé son intention de former 150 000 personnes à la cybersécurité au cours des trois prochaines années. (White House)\n",
            "D’ici 2023, il y aura trois fois plus de machines en réseau sur Terre que d’êtres humains. (Cisco)\n",
            "D’ici fin 2022, 1 trillion de capteurs en réseau seront présents dans le monde qui nous entoure, et jusqu’à 45 trilliards dans 15 ans. (Cisco)\n",
            "Un véhicule autonome moderne contiendra 100 millions de lignes de code et 100 boîtiers de commande électronique, et ces chiffres devraient tripler d’ici 2030. À titre de comparaison, un avion de ligne moderne compte 15 millions de lignes de code. (McKinsey & Company)\n",
            "66 % des petites et moyennes entreprises ont connu au moins un incident informatique au cours des deux dernières années. (Forbes)\n",
            "39% des systèmes de sécurité utilisés par les entreprises sont obsolètes. (Cisco)\n",
            "Le minage de cryptomonnaies, l’hameçonnage, les ransomwares et les chevaux de Troie représentent 10 fois l’activité d’Internet de tous les autres types de menaces. (Cisco)\n",
            "Les périmètres de réseau sont en danger 93 % du temps. (Positive Technologies)\n",
            "Plus d’un tiers des organisations ont constaté une hausse des cyberattaques par rapport à 2021. (ISACA)\n",
            "Le secteur de la grande distribution perd 38 052 dollars par minute à cause de la cybercriminalité, tandis que les organismes de santé dépensent 13 dollars par minute pour des violations de données. (Cloud Security Alliance)\n",
            "9 % des employés mettent plus d’une heure à signaler un e-mail d’hameçonnage. (Cofense)\n",
            "26 % des spécialistes de la sécurité n’ont pas d’outil automatisé pour repérer et arrêter les attaques des périphériques. (Check Point)\n",
            "Les attaques au niveau mondial ont augmenté de 28 % au troisième trimestre 2022 par rapport à la même période en 2021. (Check Point)\n",
            "Les vecteurs d’attaque les plus courants sont le vol d’identifiants (19 %) l’hameçonnage (16 %), la mauvaise configuration du cloud (15 %) et les vulnérabilités des logiciels tiers (13 %). (IBM and Ponemon Institute)\n",
            "Le nombre moyen d’attaques par organisation et par semaine dans le monde est de 1 130. (Check Point)\n",
            "Augmentation de 31 % du nombre moyen d’attaques par entreprise depuis 2020. (Accenture)\n",
            "32 % des organisations admettent que la sécurité ne fait pas partie des préoccupations liées au cloud et qu’elles sont en train de rattraper leur retard. (Accenture)\n",
            "Le coût mondial de la cybercriminalité atteindra 10,5 trillions de dollars par an d’ici 2025. (Cybersecurity Ventures)\n",
            "Les entreprises ont subi 50 % de tentatives de cyberattaques en plus par semaine en 2021. (Dark Reading)\n",
            "Les cybercriminels peuvent pénétrer 93 % des réseaux d’entreprise. (Positive Technologies)\n",
            "40 % des petites entreprises victimes d’une cyberattaque grave ont subi au moins 8 heures d’interruption de service. (Cisco)\n",
            "83 % des petites et moyennes entreprises ne sont pas préparées financièrement à se remettre d’une cyberattaque. (Insurance Bee)\n",
            "95 % des failles de cybersécurité sont liées à une erreur humaine. (World Economic Forum)\n",
            "Environ 90 % des violations de données sont motivées par des raisons financières. L’espionnage arrive en deuxième position, avec une proportion nettement moindre. (Verizon 2022 Data Breach Report)\n",
            "4,35 millions de dollars, c’est le coût moyen d’une violation de données aux États-Unis en 2022. (IBM and Ponemon Institute)\n",
            "20% des violations de données impliquent un utilisateur interne. (Verizon 2022 Data Breach Report)\n",
            "700 000 offres d’emploi étaient à pourvoir en cybersécurité aux États-Unis en avril 2022, et les postes non pourvus pourraient atteindre 3,5 millions d’ici 2025. (CyberSeek)\n",
            "Environ 40 % de la population mondiale est déconnectée, et s’expose à des cyberattaques au moment de la reconnexion. (DataReportal)\n",
            "42% des entreprises souffrent de cyber fatigue/apathie, qui affecte leur capacité à se défendre contre les cyberattaques. (Cisco)\n",
            "40 % des attaques par ransomware impliquent des logiciels de partage de bureau et 35 % l’utilisation de la messagerie électronique. (Verizon 2022 Data Breach Report)\n",
            "En 2021, près de 40 % des violations sont dues à l’hameçonnage, environ 11 % aux logiciels malveillants et environ 22 % au piratage. (Verizon 2021 Data Breach Report)\n",
            "82 % des violations de données impliquent un facteur humain et consistent en un vol d’identifiants, un hameçonnage, une mauvaise utilisation ou une simple erreur. (Verizon 2022 Data Breach Report)\n",
            "On estime à 300 milliards le nombre de mots de passe utilisés par les humains et les machines dans le monde. (Cybersecurity Ventures)\n",
            "50 % des violations sont attribuées à des accès à distance et à des applications Web non sécurisées. (Verizon 2022 Data Breach Report)\n",
            "Depuis le début de la pandémie, 20 % des chefs d’entreprise ont subi les effets d’une violation de données causée par un salarié en télétravail. (Malwarebytes Labs)\n",
            "Le coût moyen d’un incident informatique pour une petite entreprise est de 120 000 dollars. (Insurance Bee)\n",
            "44 % des personnes interrogées estiment que les incidents informatiques et les violations de données sont les principales préoccupations des entreprises en 2022, devant les arrêts de production et les catastrophes naturelles. (Allianz Risk Barometer)\n",
            "25% des personnes les plus fortunées, dont le patrimoine moyen est de 1 milliard de dollars, ont été ciblées par des cybercriminels pour leurs données. (Barclays Private Bank)\n",
            "Il y a eu 153 millions de nouveaux échantillons de logiciels malveillants entre mars 2021 et février 2022. (AV-TEST Institute)\n",
            "Les attaques par hameçonnage sont liées à 36 % des violations. (Verizon 2022 Data Breach Report)\n",
            "Selon le gouvernement américain, le nombre de violations dans le secteur de la Santé au cours des cinq premiers mois de 2022 a presque doublé par rapport à la même période en 2021. (TechTarget)\n",
            "Les violations de données ont exposé 22 milliards de dossiers en 2021, chiffre qui augmentera de 5 % cette année. (Risk Based Security)\n",
            "Près de 48 millions de personnes se sont fait voler leurs informations personnelles dans une violation de données de T-Mobile en 2021. (T-Mobile)\n",
            "Les données personnelles de 100 millions d’utilisateurs d’Android ont été exposées dans une fuite de données de 2021 en raison de services cloud mal configurés. (Check Point)\n",
            "Les amendes relatives au RGPD ont totalisé 1,2 milliard de dollars en 2021. (CNBC)\n",
            "Les organisations ayant adopté une approche zero-trust ont constaté un coût moyen de violation de données de 1,76 million de dollars de moins que les autres organisations. (IBM and Ponemon Institute)\n",
            "Le coût moyen par incident est 1,07 million de dollars plus élevé lorsque la violation est liée au télétravail. (IBM and Ponemon Institute)\n",
            "Près de la moitié des violations de données se produisent dans le Cloud. (IBM and Ponemon Institute)\n",
            "Le coût des violations de données aux États-Unis est plus de deux fois supérieur à la moyenne mondiale. (IBM and Ponemon Institute)\n",
            "L’éducation a été le secteur le plus ciblé par les cyberattaques au cours du troisième trimestre de 2022 (18 %). (Check Point)\n",
            "Rapport Benchmark Your Sensitive Content Communications Privacy and Compliance \n",
            "Article de blog Key Takeaways from the IBM and Ponemon Institute Cost of a Data Breach Report\n",
            "Article de blog Key Findings from the Verizon Data Breach Investigations Report\n",
            "118\n"
          ]
        }
      ]
    },
    {
      "cell_type": "code",
      "source": [
        "#Series([], dtype: int64)\n",
        "#(\"ol\",attrs={'class':\"nitro-offscreen\"} )\n",
        "# , class_=\"nitro-offscreen\"\n",
        "\n",
        "categories = html_main.find_all('ol' , attrs={'class':'nitro-offscreen'}  )\n",
        "categories_series = pd.Series(categories)\n",
        "#categories_series = categories.find_all(\"li\")\n",
        "categories_series.value_counts()\n",
        "\n",
        "\n",
        "'''\n",
        "import pandas as pd\n",
        "categories = soup.find_all(\"h6\", class_=\"category text-info\")\n",
        "categories_series = pd.Series(categories)\n",
        "categories_series.value_counts()\n",
        "'''"
      ],
      "metadata": {
        "colab": {
          "base_uri": "https://localhost:8080/",
          "height": 70
        },
        "id": "H35qdIV7xext",
        "outputId": "5ca2136b-8306-4bb3-c7ec-872f9c522121"
      },
      "execution_count": 237,
      "outputs": [
        {
          "output_type": "stream",
          "name": "stderr",
          "text": [
            "<ipython-input-237-8deb0ed916f0>:6: FutureWarning: The default dtype for empty Series will be 'object' instead of 'float64' in a future version. Specify a dtype explicitly to silence this warning.\n",
            "  categories_series = pd.Series(categories)\n"
          ]
        },
        {
          "output_type": "execute_result",
          "data": {
            "text/plain": [
              "'\\nimport pandas as pd\\ncategories = soup.find_all(\"h6\", class_=\"category text-info\")\\ncategories_series = pd.Series(categories)\\ncategories_series.value_counts()\\n'"
            ],
            "application/vnd.google.colaboratory.intrinsic+json": {
              "type": "string"
            }
          },
          "metadata": {},
          "execution_count": 237
        }
      ]
    },
    {
      "cell_type": "code",
      "source": [
        "\n",
        "for titre in html_main.findAll(\"h2\" ,class_=pd.isnull ) : # ,class_=pd.isnull , class_=\"nitro-offscreen\"\n",
        "    print(titre.get_text(strip=True))"
      ],
      "metadata": {
        "id": "anrvg8W-tFwM",
        "colab": {
          "base_uri": "https://localhost:8080/"
        },
        "outputId": "8839e0e5-f9e0-452f-a1c5-048e5b891c67"
      },
      "execution_count": 238,
      "outputs": [
        {
          "output_type": "stream",
          "name": "stdout",
          "text": [
            "Vulnérabilités des logiciels\n",
            "Supply Chain\n",
            "Risques tiers\n",
            "Ransomware\n",
            "Cyberattaques\n",
            "Violations de données\n",
            "Gérer la confidentialité et le risque de non-conformité des communications de contenu sensible\n"
          ]
        }
      ]
    },
    {
      "cell_type": "code",
      "source": [
        "nblgn=0\n",
        "for ol in html_main.find_all('ol') :\n",
        "\n",
        " for li in ol.find_all('li'):\n",
        "  #print(li.get_text() )\n",
        "  nblgn+=1\n",
        " print('CATEGORIE : ' , nblgn )"
      ],
      "metadata": {
        "colab": {
          "base_uri": "https://localhost:8080/"
        },
        "id": "APcwTjz6TT80",
        "outputId": "6c9cb277-e308-49eb-f14e-c5d6a5a1f36d"
      },
      "execution_count": 239,
      "outputs": [
        {
          "output_type": "stream",
          "name": "stdout",
          "text": [
            "CATEGORIE :  15\n",
            "CATEGORIE :  24\n",
            "CATEGORIE :  33\n",
            "CATEGORIE :  55\n",
            "CATEGORIE :  87\n",
            "CATEGORIE :  115\n"
          ]
        }
      ]
    },
    {
      "cell_type": "code",
      "execution_count": 240,
      "metadata": {
        "id": "rADsXpne8sey"
      },
      "outputs": [],
      "source": [
        "for paraph in html_main.find_all(\"main\", id_=\"main\"):\n",
        " #print(paraph.find_all(\"ol\" ).string ) #.find_all(\"li\").get_text() ) # , class_=\"nitro-offscreen\"\n",
        " print(paraph.find(\"main\" , id_=\"main\").find(\"ol\" ).find(\"li\").find.a[\"href\"] ) # , class_=\"nitro-offscreen\""
      ]
    },
    {
      "cell_type": "code",
      "source": [
        "titres_p = html_main.find_all(\"h2\") # , class_=\"nitro-offscreen\"\n",
        "for titre in titres_p:\n",
        "    print(titre.get_text(strip=True))"
      ],
      "metadata": {
        "id": "8GXkanoraUn7",
        "colab": {
          "base_uri": "https://localhost:8080/"
        },
        "outputId": "ca1362f4-4b1e-4575-c48a-c650fa4e41d3"
      },
      "execution_count": 241,
      "outputs": [
        {
          "output_type": "stream",
          "name": "stdout",
          "text": [
            "Vulnérabilités des logiciels\n",
            "Supply Chain\n",
            "Risques tiers\n",
            "Ransomware\n",
            "Cyberattaques\n",
            "Violations de données\n",
            "Gérer la confidentialité et le risque de non-conformité des communications de contenu sensible\n"
          ]
        }
      ]
    },
    {
      "cell_type": "code",
      "source": [],
      "metadata": {
        "id": "ge8fKLUetQK6"
      },
      "execution_count": 241,
      "outputs": []
    },
    {
      "cell_type": "code",
      "source": [
        "# page = pageList.find(\"li\", {\"class\": \"active\"})\n",
        "# sibling = page.find_next_sibling()\n",
        "#html_main.find(\"h2\").find_next_siblings\n",
        "#next_li_element = page.find_next_sibling(\"li\")\n",
        "\n",
        "titre22=html_main.find_next_sibling(\"h2\")\n",
        "print(titre22)\n",
        "#titre22=titre22.find_next_sibling(\"h2\")\n",
        "print(titre22)\n",
        "\n",
        "titre22=html_main.find(\"h2\" ) # , attrs={\"class\": \"nitro-offscreen\"}\n",
        "print(titre22.text)\n",
        "titre22=titre22.find_next_sibling(\"h2\")\n",
        "print(titre22.text)\n",
        "titre22=titre22.find_next_sibling(\"h2\")\n",
        "print(titre22.text)"
      ],
      "metadata": {
        "colab": {
          "base_uri": "https://localhost:8080/"
        },
        "id": "bjOnaU1V5kXy",
        "outputId": "6d28beda-e93e-475c-88eb-47c2dae8d1ed"
      },
      "execution_count": 242,
      "outputs": [
        {
          "output_type": "stream",
          "name": "stdout",
          "text": [
            "None\n",
            "None\n",
            "Vulnérabilités des logiciels\n",
            "Supply Chain\n",
            "Risques tiers\n"
          ]
        }
      ]
    },
    {
      "cell_type": "code",
      "source": [
        "pos=0\n",
        "id=[]\n",
        "categorie=[]\n",
        "ligne=[]\n",
        "nom_src=[]\n",
        "lien_src=[]\n",
        "\n",
        "titr_h2= html_main.find(\"h2\")\n",
        "next_oliste = html_main.find(\"ol\")\n",
        "#  Get the \"Next ligne de Liste ordonnée\" HTML element\n",
        "#next_li_element = html_main.find('li', class_=pd.isnull)\n",
        "\n",
        "for i in range (4) :\n",
        " while (next_oliste is not None) and (pos<=112 ):\n",
        "  next_li_element = next_oliste.find(\"li\")\n",
        "  print (next_li_element)\n",
        "  # if there is a next li_element to scrape\n",
        "  while next_li_element is not None:\n",
        "    id.append(pos)\n",
        "    #print(id)\n",
        "    categorie.append(titr_h2.get_text(strip=True) )\n",
        "    nom_src.append(next_li_element.find('a') )\n",
        "    lien_src.append(next_li_element.find('a').get('href') )\n",
        "    ligne.append(next_li_element.text)\n",
        "\n",
        "    next_li_element=next_li_element.find_next_sibling(\"li\")\n",
        "\n",
        "    pos+=1\n",
        "  print(pos)\n",
        "\n",
        "  titr_h2=titr_h2.find_next_sibling(\"h2\")\n",
        "  next_oliste=next_oliste.find_next_sibling(\"ol\")\n",
        "  i+=1\n",
        "print (next_li_element)"
      ],
      "metadata": {
        "id": "1TerpfjbdILS",
        "colab": {
          "base_uri": "https://localhost:8080/"
        },
        "outputId": "9bca9bd4-52ee-457c-8253-97a8a73e318b"
      },
      "execution_count": 243,
      "outputs": [
        {
          "output_type": "stream",
          "name": "stdout",
          "text": [
            "<li>Selon le Check Point Cyber Security Report 2021, 75 % des attaques en 2020 ont exploité des failles de sécurité qui avaient été identifiées au moins deux ans plus tôt. (<a href=\"https://www.checkpoint.com/downloads/resources/cyber-security-report-2021.pdf\" rel=\"nofollow noopener\" target=\"_blank\">Check Point</a>)</li>\n",
            "15\n",
            "<li>62 % des attaques abusent de la confiance des clients envers leurs fournisseurs. (<a href=\"https://www.enisa.europa.eu/news/enisa-news/understanding-the-increase-in-supply-chain-security-attacks\" rel=\"nofollow noopener\" target=\"_blank\">European Union Agency for Cybersecurity</a>)</li>\n",
            "24\n",
            "<li>51 % des organisations sont insuffisamment protégées contre les risques de sécurité et de conformité des tiers. (<a href=\"/benchmark-your-security-and-compliance-risk/\">Kiteworks</a>)</li>\n",
            "33\n",
            "<li>Le 2022 Global Threat Report de CrowdStrike révèle que les fuites de données liées aux ransomwares ont augmenté de 82 % l’année dernière. (<a href=\"https://www.crowdstrike.com/resources/reports/global-security-attitude-survey-2021/\" rel=\"nofollow noopener\" target=\"_blank\">CrowdStrike</a>)</li>\n",
            "55\n",
            "<li>En 2021, au moins 50 % des consommateurs ont été touchés par la cybercriminalité, et environ 33 % d’entre eux en ont été victimes. (<a href=\"https://now.symassets.com/content/dam/norton/campaign/NortonReport/2021/2021_NortonLifeLock_Cyber_Safety_Insights_Report_Global_Results.pdf\" rel=\"nofollow noopener\" target=\"_blank\">Norton</a>)</li>\n",
            "87\n",
            "<li>95 % des failles de cybersécurité sont liées à une erreur humaine. (<a href=\"https://www.weforum.org/agenda/2020/12/cyber-risk-cyber-security-education\">World Economic Forum</a>)</li>\n",
            "115\n",
            "None\n"
          ]
        }
      ]
    },
    {
      "cell_type": "code",
      "source": [
        "#i=5\n",
        "#i=6\n",
        "i=20\n",
        "lgne_stat=ligne[i]\n",
        "#print(ligne[i])\n",
        "ligne[i]"
      ],
      "metadata": {
        "colab": {
          "base_uri": "https://localhost:8080/",
          "height": 35
        },
        "id": "sUIAAVGrlLvV",
        "outputId": "4d29492d-8f08-4ada-a128-99a87306bb1d"
      },
      "execution_count": 244,
      "outputs": [
        {
          "output_type": "execute_result",
          "data": {
            "text/plain": [
              "'Les attaques sur la supply chain ont augmenté de 100 % par rapport à 2021. (Symantec)'"
            ],
            "application/vnd.google.colaboratory.intrinsic+json": {
              "type": "string"
            }
          },
          "metadata": {},
          "execution_count": 244
        }
      ]
    },
    {
      "cell_type": "code",
      "source": [
        "temp_string = \"Hi my age is 32 years and 250 days12\"\n",
        "#temp_string=\"lmkhvmkvmvm\"\n",
        "print(temp_string)\n",
        "\n",
        "numbers = [int(temp)for temp in temp_string.split() if temp.isdigit()]\n",
        "print(numbers)"
      ],
      "metadata": {
        "colab": {
          "base_uri": "https://localhost:8080/"
        },
        "id": "UGFa00l240p2",
        "outputId": "c6d80f77-7ac9-4208-cce6-a3960b249d5e"
      },
      "execution_count": 245,
      "outputs": [
        {
          "output_type": "stream",
          "name": "stdout",
          "text": [
            "Hi my age is 32 years and 250 days12\n",
            "[32, 250]\n"
          ]
        }
      ]
    },
    {
      "cell_type": "code",
      "source": [
        "year_=2022\n",
        "#numbers = [int(temp)for temp in ligne[i].split() if temp.isdigit()]\n",
        "numbers = [int(temp)for temp in lgne_stat.split() if temp.isdigit()]\n",
        "print(numbers)\n"
      ],
      "metadata": {
        "colab": {
          "base_uri": "https://localhost:8080/"
        },
        "id": "m_bI3nfsCwHI",
        "outputId": "e7c89082-2811-49b7-96a6-b4e314dcdaf7"
      },
      "execution_count": 246,
      "outputs": [
        {
          "output_type": "stream",
          "name": "stdout",
          "text": [
            "[100]\n"
          ]
        }
      ]
    },
    {
      "cell_type": "code",
      "source": [
        "string = \"Hey! What's up?\"\n",
        "\n",
        "characters = \".'!?%\"\n",
        "\n",
        "for x in range(len(characters)):\n",
        "    lgne_stat = ligne[i].replace(characters[x],\"\")\n",
        "\n",
        "lgne_stat = \"Les attaques sur la supply chain ont augmenté de 100 % par rapport à 2021. (Symantec)\"\n",
        "\n",
        "print(lgne_stat)\n",
        "numbers = [int(temp)for temp in lgne_stat.split() if temp.isdigit()]\n",
        "print(numbers)\n",
        "\n",
        "print(ligne[20])\n",
        "lgne_stat=ligne[20]\n",
        "for x in range(len(characters)):\n",
        "  lgne_stat = lgne_stat.replace(characters[x],\" \")\n",
        "numbers = [int(temp)for temp in lgne_stat.split() if temp.isdigit()]\n",
        "print(numbers)"
      ],
      "metadata": {
        "id": "XRe8sXFe5hjN"
      },
      "execution_count": 246,
      "outputs": []
    },
    {
      "cell_type": "code",
      "source": [
        "print(lgne_stat.split() )"
      ],
      "metadata": {
        "colab": {
          "base_uri": "https://localhost:8080/"
        },
        "id": "CEHtbE9y2sUi",
        "outputId": "1ef93a65-b3b4-4db8-e4df-6a76d25d5925"
      },
      "execution_count": 247,
      "outputs": [
        {
          "output_type": "stream",
          "name": "stdout",
          "text": [
            "['Les', 'attaques', 'sur', 'la', 'supply', 'chain', 'ont', 'augmenté', 'de', '100', '%', 'par', 'rapport', 'à', '2021.', '(Symantec)']\n"
          ]
        }
      ]
    },
    {
      "cell_type": "code",
      "source": [
        "\n",
        "\n",
        "for val in numbers:\n",
        "  #print(val)\n",
        "  if val>2000: year_=val\n",
        "year"
      ],
      "metadata": {
        "colab": {
          "base_uri": "https://localhost:8080/"
        },
        "id": "OLrndqnpfP46",
        "outputId": "db51e1f9-fb25-4df1-c9d2-964e68464aa1"
      },
      "execution_count": 248,
      "outputs": [
        {
          "output_type": "execute_result",
          "data": {
            "text/plain": [
              "[2020,\n",
              " 4,\n",
              " 218,\n",
              " 549,\n",
              " 2022,\n",
              " 2022,\n",
              " 84,\n",
              " 10,\n",
              " 2022,\n",
              " 69,\n",
              " 10,\n",
              " 2022,\n",
              " 26,\n",
              " 84,\n",
              " 20,\n",
              " 62,\n",
              " 2022,\n",
              " 48,\n",
              " 12,\n",
              " 12,\n",
              " 100,\n",
              " 2022,\n",
              " 2022,\n",
              " 8,\n",
              " 51,\n",
              " 67,\n",
              " 60,\n",
              " 50,\n",
              " 2022,\n",
              " 88,\n",
              " 2022,\n",
              " 48,\n",
              " 43,\n",
              " 82,\n",
              " 148,\n",
              " 578,\n",
              " 20,\n",
              " 570,\n",
              " 2022,\n",
              " 13,\n",
              " 21,\n",
              " 40,\n",
              " 1,\n",
              " 14,\n",
              " 2022,\n",
              " 14,\n",
              " 75,\n",
              " 7,\n",
              " 50,\n",
              " 2021,\n",
              " 2022,\n",
              " 2022,\n",
              " 2022,\n",
              " 2021,\n",
              " 2022,\n",
              " 33,\n",
              " 68,\n",
              " 212,\n",
              " 15,\n",
              " 20,\n",
              " 50,\n",
              " 50,\n",
              " 250,\n",
              " 18,\n",
              " 100,\n",
              " 150,\n",
              " 2022,\n",
              " 15,\n",
              " 15,\n",
              " 66,\n",
              " 39,\n",
              " 10,\n",
              " 93,\n",
              " 2022,\n",
              " 13,\n",
              " 9,\n",
              " 26,\n",
              " 2022,\n",
              " 2022,\n",
              " 1,\n",
              " 31,\n",
              " 32,\n",
              " 2022,\n",
              " 50,\n",
              " 93,\n",
              " 8,\n",
              " 83,\n",
              " 95,\n",
              " 2022,\n",
              " 2022,\n",
              " 2022,\n",
              " 700,\n",
              " 40,\n",
              " 42,\n",
              " 2022,\n",
              " 2021,\n",
              " 2022,\n",
              " 300,\n",
              " 2022,\n",
              " 20,\n",
              " 120,\n",
              " 44,\n",
              " 1,\n",
              " 2021,\n",
              " 2022,\n",
              " 2022,\n",
              " 5,\n",
              " 48,\n",
              " 2021,\n",
              " 2022,\n",
              " 2022,\n",
              " 2022,\n",
              " 2022,\n",
              " 2022,\n",
              " 2022]"
            ]
          },
          "metadata": {},
          "execution_count": 248
        }
      ]
    },
    {
      "cell_type": "code",
      "source": [
        "#import re\n",
        "\n",
        "# [0-9]\" %\" une chaîne de caractères qui a un chiffre de 0 à 9 avant le signe %"
      ],
      "metadata": {
        "id": "hQfIjsU0ksWB"
      },
      "execution_count": 249,
      "outputs": []
    },
    {
      "cell_type": "code",
      "source": [
        "from numpy import NAN\n",
        "year=[]\n",
        "numbers=[]\n",
        "pourcent=[]\n",
        "\n",
        "for i in range(115) :\n",
        "  annee=2022\n",
        "  ch ='%'\n",
        "  pourcent.append(ligne[i].find(ch))\n",
        "  '''\n",
        "  if index != -1:\n",
        "    pourcent[i]=index-3,-1\n",
        "  else:\n",
        "    pourcent[i]=NAN\n",
        "  '''\n",
        "  characters = \"!'.?%\"\n",
        "  for x in range(len(characters)):\n",
        "    lgne_stat = ligne[i].replace(characters[x],\"\")\n",
        "  nombres=[int(temp)for temp in lgne_stat.split() if temp.isdigit()]\n",
        "  for val in nombres:\n",
        "     #print(val)\n",
        "     if (val>2000 & val!=2022) : annee=val\n",
        "  year.append(annee)\n",
        "\n",
        "  numbers.append(nombres)\n",
        "\n"
      ],
      "metadata": {
        "id": "Wb_gJ77z_yjG"
      },
      "execution_count": 250,
      "outputs": []
    },
    {
      "cell_type": "code",
      "source": [],
      "metadata": {
        "id": "MyDIS0PwmXaS"
      },
      "execution_count": 250,
      "outputs": []
    },
    {
      "cell_type": "code",
      "source": [
        "Cybersec_df = pd.DataFrame({\n",
        "    'id : ' : id,\n",
        "    'categorie':categorie,\n",
        "    'ligne:':ligne,\n",
        "    'nom_source':nom_src,\n",
        "    'liensrc:' : lien_src,\n",
        "    'Annee :' : year,\n",
        "    'pourcent':pourcent,\n",
        "    'Nombres':numbers\n",
        "    })"
      ],
      "metadata": {
        "id": "pX13EQemLBV-"
      },
      "execution_count": 251,
      "outputs": []
    },
    {
      "cell_type": "code",
      "source": [
        "data2_df=pd.DataFrame({\n",
        "    'Annee :' : year,\n",
        "    'pourcent':pourcent,\n",
        "    'Nombres':numbers\n",
        "})"
      ],
      "metadata": {
        "id": "KMfWpPjlpySi"
      },
      "execution_count": 252,
      "outputs": []
    },
    {
      "cell_type": "code",
      "source": [
        "data2_df"
      ],
      "metadata": {
        "colab": {
          "base_uri": "https://localhost:8080/",
          "height": 424
        },
        "id": "x6KpTiv2qBBn",
        "outputId": "80f9f940-df56-47b3-ca19-794b31105cc9"
      },
      "execution_count": 253,
      "outputs": [
        {
          "output_type": "execute_result",
          "data": {
            "text/plain": [
              "     Annee :  pourcent      Nombres\n",
              "0       2020        52   [75, 2020]\n",
              "1          4        -1    [2022, 4]\n",
              "2        218        -1     [218, 0]\n",
              "3        549        -1  [2022, 549]\n",
              "4       2022        -1           []\n",
              "..       ...       ...          ...\n",
              "110     2022        -1           []\n",
              "111     2022        -1           []\n",
              "112     2022        -1           []\n",
              "113     2022        -1           []\n",
              "114     2022       109       [2022]\n",
              "\n",
              "[115 rows x 3 columns]"
            ],
            "text/html": [
              "\n",
              "  <div id=\"df-b73a54ea-a084-4f01-86b0-a112db45b668\" class=\"colab-df-container\">\n",
              "    <div>\n",
              "<style scoped>\n",
              "    .dataframe tbody tr th:only-of-type {\n",
              "        vertical-align: middle;\n",
              "    }\n",
              "\n",
              "    .dataframe tbody tr th {\n",
              "        vertical-align: top;\n",
              "    }\n",
              "\n",
              "    .dataframe thead th {\n",
              "        text-align: right;\n",
              "    }\n",
              "</style>\n",
              "<table border=\"1\" class=\"dataframe\">\n",
              "  <thead>\n",
              "    <tr style=\"text-align: right;\">\n",
              "      <th></th>\n",
              "      <th>Annee :</th>\n",
              "      <th>pourcent</th>\n",
              "      <th>Nombres</th>\n",
              "    </tr>\n",
              "  </thead>\n",
              "  <tbody>\n",
              "    <tr>\n",
              "      <th>0</th>\n",
              "      <td>2020</td>\n",
              "      <td>52</td>\n",
              "      <td>[75, 2020]</td>\n",
              "    </tr>\n",
              "    <tr>\n",
              "      <th>1</th>\n",
              "      <td>4</td>\n",
              "      <td>-1</td>\n",
              "      <td>[2022, 4]</td>\n",
              "    </tr>\n",
              "    <tr>\n",
              "      <th>2</th>\n",
              "      <td>218</td>\n",
              "      <td>-1</td>\n",
              "      <td>[218, 0]</td>\n",
              "    </tr>\n",
              "    <tr>\n",
              "      <th>3</th>\n",
              "      <td>549</td>\n",
              "      <td>-1</td>\n",
              "      <td>[2022, 549]</td>\n",
              "    </tr>\n",
              "    <tr>\n",
              "      <th>4</th>\n",
              "      <td>2022</td>\n",
              "      <td>-1</td>\n",
              "      <td>[]</td>\n",
              "    </tr>\n",
              "    <tr>\n",
              "      <th>...</th>\n",
              "      <td>...</td>\n",
              "      <td>...</td>\n",
              "      <td>...</td>\n",
              "    </tr>\n",
              "    <tr>\n",
              "      <th>110</th>\n",
              "      <td>2022</td>\n",
              "      <td>-1</td>\n",
              "      <td>[]</td>\n",
              "    </tr>\n",
              "    <tr>\n",
              "      <th>111</th>\n",
              "      <td>2022</td>\n",
              "      <td>-1</td>\n",
              "      <td>[]</td>\n",
              "    </tr>\n",
              "    <tr>\n",
              "      <th>112</th>\n",
              "      <td>2022</td>\n",
              "      <td>-1</td>\n",
              "      <td>[]</td>\n",
              "    </tr>\n",
              "    <tr>\n",
              "      <th>113</th>\n",
              "      <td>2022</td>\n",
              "      <td>-1</td>\n",
              "      <td>[]</td>\n",
              "    </tr>\n",
              "    <tr>\n",
              "      <th>114</th>\n",
              "      <td>2022</td>\n",
              "      <td>109</td>\n",
              "      <td>[2022]</td>\n",
              "    </tr>\n",
              "  </tbody>\n",
              "</table>\n",
              "<p>115 rows × 3 columns</p>\n",
              "</div>\n",
              "    <div class=\"colab-df-buttons\">\n",
              "\n",
              "  <div class=\"colab-df-container\">\n",
              "    <button class=\"colab-df-convert\" onclick=\"convertToInteractive('df-b73a54ea-a084-4f01-86b0-a112db45b668')\"\n",
              "            title=\"Convert this dataframe to an interactive table.\"\n",
              "            style=\"display:none;\">\n",
              "\n",
              "  <svg xmlns=\"http://www.w3.org/2000/svg\" height=\"24px\" viewBox=\"0 -960 960 960\">\n",
              "    <path d=\"M120-120v-720h720v720H120Zm60-500h600v-160H180v160Zm220 220h160v-160H400v160Zm0 220h160v-160H400v160ZM180-400h160v-160H180v160Zm440 0h160v-160H620v160ZM180-180h160v-160H180v160Zm440 0h160v-160H620v160Z\"/>\n",
              "  </svg>\n",
              "    </button>\n",
              "\n",
              "  <style>\n",
              "    .colab-df-container {\n",
              "      display:flex;\n",
              "      gap: 12px;\n",
              "    }\n",
              "\n",
              "    .colab-df-convert {\n",
              "      background-color: #E8F0FE;\n",
              "      border: none;\n",
              "      border-radius: 50%;\n",
              "      cursor: pointer;\n",
              "      display: none;\n",
              "      fill: #1967D2;\n",
              "      height: 32px;\n",
              "      padding: 0 0 0 0;\n",
              "      width: 32px;\n",
              "    }\n",
              "\n",
              "    .colab-df-convert:hover {\n",
              "      background-color: #E2EBFA;\n",
              "      box-shadow: 0px 1px 2px rgba(60, 64, 67, 0.3), 0px 1px 3px 1px rgba(60, 64, 67, 0.15);\n",
              "      fill: #174EA6;\n",
              "    }\n",
              "\n",
              "    .colab-df-buttons div {\n",
              "      margin-bottom: 4px;\n",
              "    }\n",
              "\n",
              "    [theme=dark] .colab-df-convert {\n",
              "      background-color: #3B4455;\n",
              "      fill: #D2E3FC;\n",
              "    }\n",
              "\n",
              "    [theme=dark] .colab-df-convert:hover {\n",
              "      background-color: #434B5C;\n",
              "      box-shadow: 0px 1px 3px 1px rgba(0, 0, 0, 0.15);\n",
              "      filter: drop-shadow(0px 1px 2px rgba(0, 0, 0, 0.3));\n",
              "      fill: #FFFFFF;\n",
              "    }\n",
              "  </style>\n",
              "\n",
              "    <script>\n",
              "      const buttonEl =\n",
              "        document.querySelector('#df-b73a54ea-a084-4f01-86b0-a112db45b668 button.colab-df-convert');\n",
              "      buttonEl.style.display =\n",
              "        google.colab.kernel.accessAllowed ? 'block' : 'none';\n",
              "\n",
              "      async function convertToInteractive(key) {\n",
              "        const element = document.querySelector('#df-b73a54ea-a084-4f01-86b0-a112db45b668');\n",
              "        const dataTable =\n",
              "          await google.colab.kernel.invokeFunction('convertToInteractive',\n",
              "                                                    [key], {});\n",
              "        if (!dataTable) return;\n",
              "\n",
              "        const docLinkHtml = 'Like what you see? Visit the ' +\n",
              "          '<a target=\"_blank\" href=https://colab.research.google.com/notebooks/data_table.ipynb>data table notebook</a>'\n",
              "          + ' to learn more about interactive tables.';\n",
              "        element.innerHTML = '';\n",
              "        dataTable['output_type'] = 'display_data';\n",
              "        await google.colab.output.renderOutput(dataTable, element);\n",
              "        const docLink = document.createElement('div');\n",
              "        docLink.innerHTML = docLinkHtml;\n",
              "        element.appendChild(docLink);\n",
              "      }\n",
              "    </script>\n",
              "  </div>\n",
              "\n",
              "\n",
              "<div id=\"df-b2ff3d30-1e13-4db1-8002-eb2735b93080\">\n",
              "  <button class=\"colab-df-quickchart\" onclick=\"quickchart('df-b2ff3d30-1e13-4db1-8002-eb2735b93080')\"\n",
              "            title=\"Suggest charts.\"\n",
              "            style=\"display:none;\">\n",
              "\n",
              "<svg xmlns=\"http://www.w3.org/2000/svg\" height=\"24px\"viewBox=\"0 0 24 24\"\n",
              "     width=\"24px\">\n",
              "    <g>\n",
              "        <path d=\"M19 3H5c-1.1 0-2 .9-2 2v14c0 1.1.9 2 2 2h14c1.1 0 2-.9 2-2V5c0-1.1-.9-2-2-2zM9 17H7v-7h2v7zm4 0h-2V7h2v10zm4 0h-2v-4h2v4z\"/>\n",
              "    </g>\n",
              "</svg>\n",
              "  </button>\n",
              "\n",
              "<style>\n",
              "  .colab-df-quickchart {\n",
              "    background-color: #E8F0FE;\n",
              "    border: none;\n",
              "    border-radius: 50%;\n",
              "    cursor: pointer;\n",
              "    display: none;\n",
              "    fill: #1967D2;\n",
              "    height: 32px;\n",
              "    padding: 0 0 0 0;\n",
              "    width: 32px;\n",
              "  }\n",
              "\n",
              "  .colab-df-quickchart:hover {\n",
              "    background-color: #E2EBFA;\n",
              "    box-shadow: 0px 1px 2px rgba(60, 64, 67, 0.3), 0px 1px 3px 1px rgba(60, 64, 67, 0.15);\n",
              "    fill: #174EA6;\n",
              "  }\n",
              "\n",
              "  [theme=dark] .colab-df-quickchart {\n",
              "    background-color: #3B4455;\n",
              "    fill: #D2E3FC;\n",
              "  }\n",
              "\n",
              "  [theme=dark] .colab-df-quickchart:hover {\n",
              "    background-color: #434B5C;\n",
              "    box-shadow: 0px 1px 3px 1px rgba(0, 0, 0, 0.15);\n",
              "    filter: drop-shadow(0px 1px 2px rgba(0, 0, 0, 0.3));\n",
              "    fill: #FFFFFF;\n",
              "  }\n",
              "</style>\n",
              "\n",
              "  <script>\n",
              "    async function quickchart(key) {\n",
              "      const charts = await google.colab.kernel.invokeFunction(\n",
              "          'suggestCharts', [key], {});\n",
              "    }\n",
              "    (() => {\n",
              "      let quickchartButtonEl =\n",
              "        document.querySelector('#df-b2ff3d30-1e13-4db1-8002-eb2735b93080 button');\n",
              "      quickchartButtonEl.style.display =\n",
              "        google.colab.kernel.accessAllowed ? 'block' : 'none';\n",
              "    })();\n",
              "  </script>\n",
              "</div>\n",
              "    </div>\n",
              "  </div>\n"
            ]
          },
          "metadata": {},
          "execution_count": 253
        }
      ]
    },
    {
      "cell_type": "code",
      "source": [
        "#Cybersec_df.head()\n",
        "len(Cybersec_df)"
      ],
      "metadata": {
        "colab": {
          "base_uri": "https://localhost:8080/"
        },
        "id": "Ak1WJ_DJnV9S",
        "outputId": "f5bb2081-a27f-4b0d-93a4-b3e7537da966"
      },
      "execution_count": 254,
      "outputs": [
        {
          "output_type": "execute_result",
          "data": {
            "text/plain": [
              "115"
            ]
          },
          "metadata": {},
          "execution_count": 254
        }
      ]
    },
    {
      "cell_type": "code",
      "source": [
        "\n",
        "Cybersec_df.tail()"
      ],
      "metadata": {
        "colab": {
          "base_uri": "https://localhost:8080/",
          "height": 206
        },
        "id": "z_obBddFmaa7",
        "outputId": "88118257-fe6e-4d7e-f7ed-750fcaaa084c"
      },
      "execution_count": 255,
      "outputs": [
        {
          "output_type": "execute_result",
          "data": {
            "text/plain": [
              "     id :               categorie  \\\n",
              "110    110  Violations de données   \n",
              "111    111  Violations de données   \n",
              "112    112  Violations de données   \n",
              "113    113  Violations de données   \n",
              "114    114  Violations de données   \n",
              "\n",
              "                                                ligne:  \\\n",
              "110  Les organisations ayant adopté une approche ze...   \n",
              "111  Le coût moyen par incident est 1,07 million de...   \n",
              "112  Près de la moitié des violations de données se...   \n",
              "113  Le coût des violations de données aux États-Un...   \n",
              "114  L’éducation a été le secteur le plus ciblé par...   \n",
              "\n",
              "                      nom_source  \\\n",
              "110  [IBM and Ponemon Institute]   \n",
              "111  [IBM and Ponemon Institute]   \n",
              "112  [IBM and Ponemon Institute]   \n",
              "113  [IBM and Ponemon Institute]   \n",
              "114                [Check Point]   \n",
              "\n",
              "                                              liensrc:  Annee :  pourcent  \\\n",
              "110            https://www.ibm.com/reports/data-breach     2022        -1   \n",
              "111            https://www.ibm.com/reports/data-breach     2022        -1   \n",
              "112            https://www.ibm.com/reports/data-breach     2022        -1   \n",
              "113            https://www.ibm.com/reports/data-breach     2022        -1   \n",
              "114  https://blog.checkpoint.com/2022/10/26/third-q...     2022       109   \n",
              "\n",
              "    Nombres  \n",
              "110      []  \n",
              "111      []  \n",
              "112      []  \n",
              "113      []  \n",
              "114  [2022]  "
            ],
            "text/html": [
              "\n",
              "  <div id=\"df-9d390306-4e26-475e-8305-97a151fa8fb5\" class=\"colab-df-container\">\n",
              "    <div>\n",
              "<style scoped>\n",
              "    .dataframe tbody tr th:only-of-type {\n",
              "        vertical-align: middle;\n",
              "    }\n",
              "\n",
              "    .dataframe tbody tr th {\n",
              "        vertical-align: top;\n",
              "    }\n",
              "\n",
              "    .dataframe thead th {\n",
              "        text-align: right;\n",
              "    }\n",
              "</style>\n",
              "<table border=\"1\" class=\"dataframe\">\n",
              "  <thead>\n",
              "    <tr style=\"text-align: right;\">\n",
              "      <th></th>\n",
              "      <th>id :</th>\n",
              "      <th>categorie</th>\n",
              "      <th>ligne:</th>\n",
              "      <th>nom_source</th>\n",
              "      <th>liensrc:</th>\n",
              "      <th>Annee :</th>\n",
              "      <th>pourcent</th>\n",
              "      <th>Nombres</th>\n",
              "    </tr>\n",
              "  </thead>\n",
              "  <tbody>\n",
              "    <tr>\n",
              "      <th>110</th>\n",
              "      <td>110</td>\n",
              "      <td>Violations de données</td>\n",
              "      <td>Les organisations ayant adopté une approche ze...</td>\n",
              "      <td>[IBM and Ponemon Institute]</td>\n",
              "      <td>https://www.ibm.com/reports/data-breach</td>\n",
              "      <td>2022</td>\n",
              "      <td>-1</td>\n",
              "      <td>[]</td>\n",
              "    </tr>\n",
              "    <tr>\n",
              "      <th>111</th>\n",
              "      <td>111</td>\n",
              "      <td>Violations de données</td>\n",
              "      <td>Le coût moyen par incident est 1,07 million de...</td>\n",
              "      <td>[IBM and Ponemon Institute]</td>\n",
              "      <td>https://www.ibm.com/reports/data-breach</td>\n",
              "      <td>2022</td>\n",
              "      <td>-1</td>\n",
              "      <td>[]</td>\n",
              "    </tr>\n",
              "    <tr>\n",
              "      <th>112</th>\n",
              "      <td>112</td>\n",
              "      <td>Violations de données</td>\n",
              "      <td>Près de la moitié des violations de données se...</td>\n",
              "      <td>[IBM and Ponemon Institute]</td>\n",
              "      <td>https://www.ibm.com/reports/data-breach</td>\n",
              "      <td>2022</td>\n",
              "      <td>-1</td>\n",
              "      <td>[]</td>\n",
              "    </tr>\n",
              "    <tr>\n",
              "      <th>113</th>\n",
              "      <td>113</td>\n",
              "      <td>Violations de données</td>\n",
              "      <td>Le coût des violations de données aux États-Un...</td>\n",
              "      <td>[IBM and Ponemon Institute]</td>\n",
              "      <td>https://www.ibm.com/reports/data-breach</td>\n",
              "      <td>2022</td>\n",
              "      <td>-1</td>\n",
              "      <td>[]</td>\n",
              "    </tr>\n",
              "    <tr>\n",
              "      <th>114</th>\n",
              "      <td>114</td>\n",
              "      <td>Violations de données</td>\n",
              "      <td>L’éducation a été le secteur le plus ciblé par...</td>\n",
              "      <td>[Check Point]</td>\n",
              "      <td>https://blog.checkpoint.com/2022/10/26/third-q...</td>\n",
              "      <td>2022</td>\n",
              "      <td>109</td>\n",
              "      <td>[2022]</td>\n",
              "    </tr>\n",
              "  </tbody>\n",
              "</table>\n",
              "</div>\n",
              "    <div class=\"colab-df-buttons\">\n",
              "\n",
              "  <div class=\"colab-df-container\">\n",
              "    <button class=\"colab-df-convert\" onclick=\"convertToInteractive('df-9d390306-4e26-475e-8305-97a151fa8fb5')\"\n",
              "            title=\"Convert this dataframe to an interactive table.\"\n",
              "            style=\"display:none;\">\n",
              "\n",
              "  <svg xmlns=\"http://www.w3.org/2000/svg\" height=\"24px\" viewBox=\"0 -960 960 960\">\n",
              "    <path d=\"M120-120v-720h720v720H120Zm60-500h600v-160H180v160Zm220 220h160v-160H400v160Zm0 220h160v-160H400v160ZM180-400h160v-160H180v160Zm440 0h160v-160H620v160ZM180-180h160v-160H180v160Zm440 0h160v-160H620v160Z\"/>\n",
              "  </svg>\n",
              "    </button>\n",
              "\n",
              "  <style>\n",
              "    .colab-df-container {\n",
              "      display:flex;\n",
              "      gap: 12px;\n",
              "    }\n",
              "\n",
              "    .colab-df-convert {\n",
              "      background-color: #E8F0FE;\n",
              "      border: none;\n",
              "      border-radius: 50%;\n",
              "      cursor: pointer;\n",
              "      display: none;\n",
              "      fill: #1967D2;\n",
              "      height: 32px;\n",
              "      padding: 0 0 0 0;\n",
              "      width: 32px;\n",
              "    }\n",
              "\n",
              "    .colab-df-convert:hover {\n",
              "      background-color: #E2EBFA;\n",
              "      box-shadow: 0px 1px 2px rgba(60, 64, 67, 0.3), 0px 1px 3px 1px rgba(60, 64, 67, 0.15);\n",
              "      fill: #174EA6;\n",
              "    }\n",
              "\n",
              "    .colab-df-buttons div {\n",
              "      margin-bottom: 4px;\n",
              "    }\n",
              "\n",
              "    [theme=dark] .colab-df-convert {\n",
              "      background-color: #3B4455;\n",
              "      fill: #D2E3FC;\n",
              "    }\n",
              "\n",
              "    [theme=dark] .colab-df-convert:hover {\n",
              "      background-color: #434B5C;\n",
              "      box-shadow: 0px 1px 3px 1px rgba(0, 0, 0, 0.15);\n",
              "      filter: drop-shadow(0px 1px 2px rgba(0, 0, 0, 0.3));\n",
              "      fill: #FFFFFF;\n",
              "    }\n",
              "  </style>\n",
              "\n",
              "    <script>\n",
              "      const buttonEl =\n",
              "        document.querySelector('#df-9d390306-4e26-475e-8305-97a151fa8fb5 button.colab-df-convert');\n",
              "      buttonEl.style.display =\n",
              "        google.colab.kernel.accessAllowed ? 'block' : 'none';\n",
              "\n",
              "      async function convertToInteractive(key) {\n",
              "        const element = document.querySelector('#df-9d390306-4e26-475e-8305-97a151fa8fb5');\n",
              "        const dataTable =\n",
              "          await google.colab.kernel.invokeFunction('convertToInteractive',\n",
              "                                                    [key], {});\n",
              "        if (!dataTable) return;\n",
              "\n",
              "        const docLinkHtml = 'Like what you see? Visit the ' +\n",
              "          '<a target=\"_blank\" href=https://colab.research.google.com/notebooks/data_table.ipynb>data table notebook</a>'\n",
              "          + ' to learn more about interactive tables.';\n",
              "        element.innerHTML = '';\n",
              "        dataTable['output_type'] = 'display_data';\n",
              "        await google.colab.output.renderOutput(dataTable, element);\n",
              "        const docLink = document.createElement('div');\n",
              "        docLink.innerHTML = docLinkHtml;\n",
              "        element.appendChild(docLink);\n",
              "      }\n",
              "    </script>\n",
              "  </div>\n",
              "\n",
              "\n",
              "<div id=\"df-e50e0dac-aadd-4eb3-975c-c85ceaf5821a\">\n",
              "  <button class=\"colab-df-quickchart\" onclick=\"quickchart('df-e50e0dac-aadd-4eb3-975c-c85ceaf5821a')\"\n",
              "            title=\"Suggest charts.\"\n",
              "            style=\"display:none;\">\n",
              "\n",
              "<svg xmlns=\"http://www.w3.org/2000/svg\" height=\"24px\"viewBox=\"0 0 24 24\"\n",
              "     width=\"24px\">\n",
              "    <g>\n",
              "        <path d=\"M19 3H5c-1.1 0-2 .9-2 2v14c0 1.1.9 2 2 2h14c1.1 0 2-.9 2-2V5c0-1.1-.9-2-2-2zM9 17H7v-7h2v7zm4 0h-2V7h2v10zm4 0h-2v-4h2v4z\"/>\n",
              "    </g>\n",
              "</svg>\n",
              "  </button>\n",
              "\n",
              "<style>\n",
              "  .colab-df-quickchart {\n",
              "    background-color: #E8F0FE;\n",
              "    border: none;\n",
              "    border-radius: 50%;\n",
              "    cursor: pointer;\n",
              "    display: none;\n",
              "    fill: #1967D2;\n",
              "    height: 32px;\n",
              "    padding: 0 0 0 0;\n",
              "    width: 32px;\n",
              "  }\n",
              "\n",
              "  .colab-df-quickchart:hover {\n",
              "    background-color: #E2EBFA;\n",
              "    box-shadow: 0px 1px 2px rgba(60, 64, 67, 0.3), 0px 1px 3px 1px rgba(60, 64, 67, 0.15);\n",
              "    fill: #174EA6;\n",
              "  }\n",
              "\n",
              "  [theme=dark] .colab-df-quickchart {\n",
              "    background-color: #3B4455;\n",
              "    fill: #D2E3FC;\n",
              "  }\n",
              "\n",
              "  [theme=dark] .colab-df-quickchart:hover {\n",
              "    background-color: #434B5C;\n",
              "    box-shadow: 0px 1px 3px 1px rgba(0, 0, 0, 0.15);\n",
              "    filter: drop-shadow(0px 1px 2px rgba(0, 0, 0, 0.3));\n",
              "    fill: #FFFFFF;\n",
              "  }\n",
              "</style>\n",
              "\n",
              "  <script>\n",
              "    async function quickchart(key) {\n",
              "      const charts = await google.colab.kernel.invokeFunction(\n",
              "          'suggestCharts', [key], {});\n",
              "    }\n",
              "    (() => {\n",
              "      let quickchartButtonEl =\n",
              "        document.querySelector('#df-e50e0dac-aadd-4eb3-975c-c85ceaf5821a button');\n",
              "      quickchartButtonEl.style.display =\n",
              "        google.colab.kernel.accessAllowed ? 'block' : 'none';\n",
              "    })();\n",
              "  </script>\n",
              "</div>\n",
              "    </div>\n",
              "  </div>\n"
            ]
          },
          "metadata": {},
          "execution_count": 255
        }
      ]
    },
    {
      "cell_type": "code",
      "source": [
        "Cybersec_df"
      ],
      "metadata": {
        "id": "UXaONHhbD6s0",
        "colab": {
          "base_uri": "https://localhost:8080/",
          "height": 424
        },
        "outputId": "ead0c0c7-5fd4-4728-e9fe-1b5a636d9245"
      },
      "execution_count": 256,
      "outputs": [
        {
          "output_type": "execute_result",
          "data": {
            "text/plain": [
              "     id :                      categorie  \\\n",
              "0        0  Vulnérabilités des logiciels   \n",
              "1        1  Vulnérabilités des logiciels   \n",
              "2        2  Vulnérabilités des logiciels   \n",
              "3        3  Vulnérabilités des logiciels   \n",
              "4        4  Vulnérabilités des logiciels   \n",
              "..     ...                           ...   \n",
              "110    110         Violations de données   \n",
              "111    111         Violations de données   \n",
              "112    112         Violations de données   \n",
              "113    113         Violations de données   \n",
              "114    114         Violations de données   \n",
              "\n",
              "                                                ligne:  \\\n",
              "0    Selon le Check Point Cyber Security Report 202...   \n",
              "1    Le premier trimestre 2022 a été marqué par un ...   \n",
              "2    Les vulnérabilités DDoS coûtent en moyenne 218...   \n",
              "3    L’une des plus longues attaques DDoS du début ...   \n",
              "4    Le secteur des télécommunications a été le plu...   \n",
              "..                                                 ...   \n",
              "110  Les organisations ayant adopté une approche ze...   \n",
              "111  Le coût moyen par incident est 1,07 million de...   \n",
              "112  Près de la moitié des violations de données se...   \n",
              "113  Le coût des violations de données aux États-Un...   \n",
              "114  L’éducation a été le secteur le plus ciblé par...   \n",
              "\n",
              "                      nom_source  \\\n",
              "0                  [Check Point]   \n",
              "1                   [Cloudflare]   \n",
              "2                       [Corero]   \n",
              "3                    [Kaspersky]   \n",
              "4                   [Cloudflare]   \n",
              "..                           ...   \n",
              "110  [IBM and Ponemon Institute]   \n",
              "111  [IBM and Ponemon Institute]   \n",
              "112  [IBM and Ponemon Institute]   \n",
              "113  [IBM and Ponemon Institute]   \n",
              "114                [Check Point]   \n",
              "\n",
              "                                              liensrc:  Annee :  pourcent  \\\n",
              "0    https://www.checkpoint.com/downloads/resources...     2020        52   \n",
              "1    https://blog.cloudflare.com/ddos-attack-trends...        4        -1   \n",
              "2    https://go.corero.com/wp-always-on-real-time-d...      218        -1   \n",
              "3    https://securelist.com/ddos-attacks-in-q1-2022...      549        -1   \n",
              "4    https://blog.cloudflare.com/ddos-attack-trends...     2022        -1   \n",
              "..                                                 ...      ...       ...   \n",
              "110            https://www.ibm.com/reports/data-breach     2022        -1   \n",
              "111            https://www.ibm.com/reports/data-breach     2022        -1   \n",
              "112            https://www.ibm.com/reports/data-breach     2022        -1   \n",
              "113            https://www.ibm.com/reports/data-breach     2022        -1   \n",
              "114  https://blog.checkpoint.com/2022/10/26/third-q...     2022       109   \n",
              "\n",
              "         Nombres  \n",
              "0     [75, 2020]  \n",
              "1      [2022, 4]  \n",
              "2       [218, 0]  \n",
              "3    [2022, 549]  \n",
              "4             []  \n",
              "..           ...  \n",
              "110           []  \n",
              "111           []  \n",
              "112           []  \n",
              "113           []  \n",
              "114       [2022]  \n",
              "\n",
              "[115 rows x 8 columns]"
            ],
            "text/html": [
              "\n",
              "  <div id=\"df-6a55278c-bf84-4a6a-8dd9-5f9c9b98a528\" class=\"colab-df-container\">\n",
              "    <div>\n",
              "<style scoped>\n",
              "    .dataframe tbody tr th:only-of-type {\n",
              "        vertical-align: middle;\n",
              "    }\n",
              "\n",
              "    .dataframe tbody tr th {\n",
              "        vertical-align: top;\n",
              "    }\n",
              "\n",
              "    .dataframe thead th {\n",
              "        text-align: right;\n",
              "    }\n",
              "</style>\n",
              "<table border=\"1\" class=\"dataframe\">\n",
              "  <thead>\n",
              "    <tr style=\"text-align: right;\">\n",
              "      <th></th>\n",
              "      <th>id :</th>\n",
              "      <th>categorie</th>\n",
              "      <th>ligne:</th>\n",
              "      <th>nom_source</th>\n",
              "      <th>liensrc:</th>\n",
              "      <th>Annee :</th>\n",
              "      <th>pourcent</th>\n",
              "      <th>Nombres</th>\n",
              "    </tr>\n",
              "  </thead>\n",
              "  <tbody>\n",
              "    <tr>\n",
              "      <th>0</th>\n",
              "      <td>0</td>\n",
              "      <td>Vulnérabilités des logiciels</td>\n",
              "      <td>Selon le Check Point Cyber Security Report 202...</td>\n",
              "      <td>[Check Point]</td>\n",
              "      <td>https://www.checkpoint.com/downloads/resources...</td>\n",
              "      <td>2020</td>\n",
              "      <td>52</td>\n",
              "      <td>[75, 2020]</td>\n",
              "    </tr>\n",
              "    <tr>\n",
              "      <th>1</th>\n",
              "      <td>1</td>\n",
              "      <td>Vulnérabilités des logiciels</td>\n",
              "      <td>Le premier trimestre 2022 a été marqué par un ...</td>\n",
              "      <td>[Cloudflare]</td>\n",
              "      <td>https://blog.cloudflare.com/ddos-attack-trends...</td>\n",
              "      <td>4</td>\n",
              "      <td>-1</td>\n",
              "      <td>[2022, 4]</td>\n",
              "    </tr>\n",
              "    <tr>\n",
              "      <th>2</th>\n",
              "      <td>2</td>\n",
              "      <td>Vulnérabilités des logiciels</td>\n",
              "      <td>Les vulnérabilités DDoS coûtent en moyenne 218...</td>\n",
              "      <td>[Corero]</td>\n",
              "      <td>https://go.corero.com/wp-always-on-real-time-d...</td>\n",
              "      <td>218</td>\n",
              "      <td>-1</td>\n",
              "      <td>[218, 0]</td>\n",
              "    </tr>\n",
              "    <tr>\n",
              "      <th>3</th>\n",
              "      <td>3</td>\n",
              "      <td>Vulnérabilités des logiciels</td>\n",
              "      <td>L’une des plus longues attaques DDoS du début ...</td>\n",
              "      <td>[Kaspersky]</td>\n",
              "      <td>https://securelist.com/ddos-attacks-in-q1-2022...</td>\n",
              "      <td>549</td>\n",
              "      <td>-1</td>\n",
              "      <td>[2022, 549]</td>\n",
              "    </tr>\n",
              "    <tr>\n",
              "      <th>4</th>\n",
              "      <td>4</td>\n",
              "      <td>Vulnérabilités des logiciels</td>\n",
              "      <td>Le secteur des télécommunications a été le plu...</td>\n",
              "      <td>[Cloudflare]</td>\n",
              "      <td>https://blog.cloudflare.com/ddos-attack-trends...</td>\n",
              "      <td>2022</td>\n",
              "      <td>-1</td>\n",
              "      <td>[]</td>\n",
              "    </tr>\n",
              "    <tr>\n",
              "      <th>...</th>\n",
              "      <td>...</td>\n",
              "      <td>...</td>\n",
              "      <td>...</td>\n",
              "      <td>...</td>\n",
              "      <td>...</td>\n",
              "      <td>...</td>\n",
              "      <td>...</td>\n",
              "      <td>...</td>\n",
              "    </tr>\n",
              "    <tr>\n",
              "      <th>110</th>\n",
              "      <td>110</td>\n",
              "      <td>Violations de données</td>\n",
              "      <td>Les organisations ayant adopté une approche ze...</td>\n",
              "      <td>[IBM and Ponemon Institute]</td>\n",
              "      <td>https://www.ibm.com/reports/data-breach</td>\n",
              "      <td>2022</td>\n",
              "      <td>-1</td>\n",
              "      <td>[]</td>\n",
              "    </tr>\n",
              "    <tr>\n",
              "      <th>111</th>\n",
              "      <td>111</td>\n",
              "      <td>Violations de données</td>\n",
              "      <td>Le coût moyen par incident est 1,07 million de...</td>\n",
              "      <td>[IBM and Ponemon Institute]</td>\n",
              "      <td>https://www.ibm.com/reports/data-breach</td>\n",
              "      <td>2022</td>\n",
              "      <td>-1</td>\n",
              "      <td>[]</td>\n",
              "    </tr>\n",
              "    <tr>\n",
              "      <th>112</th>\n",
              "      <td>112</td>\n",
              "      <td>Violations de données</td>\n",
              "      <td>Près de la moitié des violations de données se...</td>\n",
              "      <td>[IBM and Ponemon Institute]</td>\n",
              "      <td>https://www.ibm.com/reports/data-breach</td>\n",
              "      <td>2022</td>\n",
              "      <td>-1</td>\n",
              "      <td>[]</td>\n",
              "    </tr>\n",
              "    <tr>\n",
              "      <th>113</th>\n",
              "      <td>113</td>\n",
              "      <td>Violations de données</td>\n",
              "      <td>Le coût des violations de données aux États-Un...</td>\n",
              "      <td>[IBM and Ponemon Institute]</td>\n",
              "      <td>https://www.ibm.com/reports/data-breach</td>\n",
              "      <td>2022</td>\n",
              "      <td>-1</td>\n",
              "      <td>[]</td>\n",
              "    </tr>\n",
              "    <tr>\n",
              "      <th>114</th>\n",
              "      <td>114</td>\n",
              "      <td>Violations de données</td>\n",
              "      <td>L’éducation a été le secteur le plus ciblé par...</td>\n",
              "      <td>[Check Point]</td>\n",
              "      <td>https://blog.checkpoint.com/2022/10/26/third-q...</td>\n",
              "      <td>2022</td>\n",
              "      <td>109</td>\n",
              "      <td>[2022]</td>\n",
              "    </tr>\n",
              "  </tbody>\n",
              "</table>\n",
              "<p>115 rows × 8 columns</p>\n",
              "</div>\n",
              "    <div class=\"colab-df-buttons\">\n",
              "\n",
              "  <div class=\"colab-df-container\">\n",
              "    <button class=\"colab-df-convert\" onclick=\"convertToInteractive('df-6a55278c-bf84-4a6a-8dd9-5f9c9b98a528')\"\n",
              "            title=\"Convert this dataframe to an interactive table.\"\n",
              "            style=\"display:none;\">\n",
              "\n",
              "  <svg xmlns=\"http://www.w3.org/2000/svg\" height=\"24px\" viewBox=\"0 -960 960 960\">\n",
              "    <path d=\"M120-120v-720h720v720H120Zm60-500h600v-160H180v160Zm220 220h160v-160H400v160Zm0 220h160v-160H400v160ZM180-400h160v-160H180v160Zm440 0h160v-160H620v160ZM180-180h160v-160H180v160Zm440 0h160v-160H620v160Z\"/>\n",
              "  </svg>\n",
              "    </button>\n",
              "\n",
              "  <style>\n",
              "    .colab-df-container {\n",
              "      display:flex;\n",
              "      gap: 12px;\n",
              "    }\n",
              "\n",
              "    .colab-df-convert {\n",
              "      background-color: #E8F0FE;\n",
              "      border: none;\n",
              "      border-radius: 50%;\n",
              "      cursor: pointer;\n",
              "      display: none;\n",
              "      fill: #1967D2;\n",
              "      height: 32px;\n",
              "      padding: 0 0 0 0;\n",
              "      width: 32px;\n",
              "    }\n",
              "\n",
              "    .colab-df-convert:hover {\n",
              "      background-color: #E2EBFA;\n",
              "      box-shadow: 0px 1px 2px rgba(60, 64, 67, 0.3), 0px 1px 3px 1px rgba(60, 64, 67, 0.15);\n",
              "      fill: #174EA6;\n",
              "    }\n",
              "\n",
              "    .colab-df-buttons div {\n",
              "      margin-bottom: 4px;\n",
              "    }\n",
              "\n",
              "    [theme=dark] .colab-df-convert {\n",
              "      background-color: #3B4455;\n",
              "      fill: #D2E3FC;\n",
              "    }\n",
              "\n",
              "    [theme=dark] .colab-df-convert:hover {\n",
              "      background-color: #434B5C;\n",
              "      box-shadow: 0px 1px 3px 1px rgba(0, 0, 0, 0.15);\n",
              "      filter: drop-shadow(0px 1px 2px rgba(0, 0, 0, 0.3));\n",
              "      fill: #FFFFFF;\n",
              "    }\n",
              "  </style>\n",
              "\n",
              "    <script>\n",
              "      const buttonEl =\n",
              "        document.querySelector('#df-6a55278c-bf84-4a6a-8dd9-5f9c9b98a528 button.colab-df-convert');\n",
              "      buttonEl.style.display =\n",
              "        google.colab.kernel.accessAllowed ? 'block' : 'none';\n",
              "\n",
              "      async function convertToInteractive(key) {\n",
              "        const element = document.querySelector('#df-6a55278c-bf84-4a6a-8dd9-5f9c9b98a528');\n",
              "        const dataTable =\n",
              "          await google.colab.kernel.invokeFunction('convertToInteractive',\n",
              "                                                    [key], {});\n",
              "        if (!dataTable) return;\n",
              "\n",
              "        const docLinkHtml = 'Like what you see? Visit the ' +\n",
              "          '<a target=\"_blank\" href=https://colab.research.google.com/notebooks/data_table.ipynb>data table notebook</a>'\n",
              "          + ' to learn more about interactive tables.';\n",
              "        element.innerHTML = '';\n",
              "        dataTable['output_type'] = 'display_data';\n",
              "        await google.colab.output.renderOutput(dataTable, element);\n",
              "        const docLink = document.createElement('div');\n",
              "        docLink.innerHTML = docLinkHtml;\n",
              "        element.appendChild(docLink);\n",
              "      }\n",
              "    </script>\n",
              "  </div>\n",
              "\n",
              "\n",
              "<div id=\"df-c617d624-e777-4faa-a127-9261c3cf19b4\">\n",
              "  <button class=\"colab-df-quickchart\" onclick=\"quickchart('df-c617d624-e777-4faa-a127-9261c3cf19b4')\"\n",
              "            title=\"Suggest charts.\"\n",
              "            style=\"display:none;\">\n",
              "\n",
              "<svg xmlns=\"http://www.w3.org/2000/svg\" height=\"24px\"viewBox=\"0 0 24 24\"\n",
              "     width=\"24px\">\n",
              "    <g>\n",
              "        <path d=\"M19 3H5c-1.1 0-2 .9-2 2v14c0 1.1.9 2 2 2h14c1.1 0 2-.9 2-2V5c0-1.1-.9-2-2-2zM9 17H7v-7h2v7zm4 0h-2V7h2v10zm4 0h-2v-4h2v4z\"/>\n",
              "    </g>\n",
              "</svg>\n",
              "  </button>\n",
              "\n",
              "<style>\n",
              "  .colab-df-quickchart {\n",
              "    background-color: #E8F0FE;\n",
              "    border: none;\n",
              "    border-radius: 50%;\n",
              "    cursor: pointer;\n",
              "    display: none;\n",
              "    fill: #1967D2;\n",
              "    height: 32px;\n",
              "    padding: 0 0 0 0;\n",
              "    width: 32px;\n",
              "  }\n",
              "\n",
              "  .colab-df-quickchart:hover {\n",
              "    background-color: #E2EBFA;\n",
              "    box-shadow: 0px 1px 2px rgba(60, 64, 67, 0.3), 0px 1px 3px 1px rgba(60, 64, 67, 0.15);\n",
              "    fill: #174EA6;\n",
              "  }\n",
              "\n",
              "  [theme=dark] .colab-df-quickchart {\n",
              "    background-color: #3B4455;\n",
              "    fill: #D2E3FC;\n",
              "  }\n",
              "\n",
              "  [theme=dark] .colab-df-quickchart:hover {\n",
              "    background-color: #434B5C;\n",
              "    box-shadow: 0px 1px 3px 1px rgba(0, 0, 0, 0.15);\n",
              "    filter: drop-shadow(0px 1px 2px rgba(0, 0, 0, 0.3));\n",
              "    fill: #FFFFFF;\n",
              "  }\n",
              "</style>\n",
              "\n",
              "  <script>\n",
              "    async function quickchart(key) {\n",
              "      const charts = await google.colab.kernel.invokeFunction(\n",
              "          'suggestCharts', [key], {});\n",
              "    }\n",
              "    (() => {\n",
              "      let quickchartButtonEl =\n",
              "        document.querySelector('#df-c617d624-e777-4faa-a127-9261c3cf19b4 button');\n",
              "      quickchartButtonEl.style.display =\n",
              "        google.colab.kernel.accessAllowed ? 'block' : 'none';\n",
              "    })();\n",
              "  </script>\n",
              "</div>\n",
              "    </div>\n",
              "  </div>\n"
            ]
          },
          "metadata": {},
          "execution_count": 256
        }
      ]
    },
    {
      "cell_type": "code",
      "source": [
        "#print(\n",
        "Cybersec_df.iloc[20]"
      ],
      "metadata": {
        "colab": {
          "base_uri": "https://localhost:8080/"
        },
        "id": "JuaBXv8r46oC",
        "outputId": "291809b9-72ce-4123-95fd-3c6b9526dcc3"
      },
      "execution_count": 257,
      "outputs": [
        {
          "output_type": "execute_result",
          "data": {
            "text/plain": [
              "id :                                                         20\n",
              "categorie                                          Supply Chain\n",
              "ligne:        Les attaques sur la supply chain ont augmenté ...\n",
              "nom_source                                           [Symantec]\n",
              "liensrc:      https://symantec-enterprise-blogs.security.com...\n",
              "Annee :                                                     100\n",
              "pourcent                                                     53\n",
              "Nombres                                                   [100]\n",
              "Name: 20, dtype: object"
            ]
          },
          "metadata": {},
          "execution_count": 257
        }
      ]
    },
    {
      "cell_type": "code",
      "source": [
        "print(numbers)"
      ],
      "metadata": {
        "id": "d6Ti3HqAD6pt",
        "colab": {
          "base_uri": "https://localhost:8080/"
        },
        "outputId": "19ad0fa9-023d-490e-d356-da35b1e18545"
      },
      "execution_count": 258,
      "outputs": [
        {
          "output_type": "stream",
          "name": "stdout",
          "text": [
            "[[75, 2020], [2022, 4], [218, 0], [2022, 549], [], [], [84], [10], [], [69], [10], [], [26], [84], [20], [62], [62, 2022], [48], [36, 12], [45, 12], [100], [], [], [8], [51], [67], [60], [50], [], [88], [62, 2022], [48], [43], [2022, 82], [495, 148], [37, 700, 578], [20], [2021, 570, 0], [], [25, 17, 13], [21], [3, 4, 64, 40], [1], [14], [], [2022, 14, 16], [88, 75], [2020, 7], [50], [2021], [13, 2022], [], [], [2021], [], [50, 33], [68], [212], [2021, 15], [20], [50], [50], [50, 10, 0, 1, 43, 250, 0, 999, 999, 7, 250, 0], [18], [10, 100, 0], [150, 0], [], [1, 45, 15], [100, 100, 15], [66], [39], [10], [93], [], [38, 52, 13], [9], [26], [28, 2022], [], [1], [31], [32], [], [50], [93], [40, 8], [83], [95], [90, 2022], [], [20, 2022], [700, 0], [40], [42], [40, 35, 2022], [40, 11, 22, 2021], [82, 2022], [300], [50, 2022], [20], [120, 0], [44], [25, 1], [153, 2021], [36, 2022], [2022], [22, 5], [48], [100, 2021], [], [], [], [], [], [2022]]\n"
          ]
        }
      ]
    },
    {
      "cell_type": "code",
      "source": [],
      "metadata": {
        "id": "eT8pAUfHD6m4"
      },
      "execution_count": 258,
      "outputs": []
    },
    {
      "cell_type": "code",
      "source": [],
      "metadata": {
        "id": "MUhI7ytpD6jw"
      },
      "execution_count": 258,
      "outputs": []
    },
    {
      "cell_type": "code",
      "source": [],
      "metadata": {
        "id": "5QKxLEF4D6g1"
      },
      "execution_count": 258,
      "outputs": []
    },
    {
      "cell_type": "code",
      "source": [],
      "metadata": {
        "id": "_jvPnV6DD6dy"
      },
      "execution_count": 258,
      "outputs": []
    }
  ],
  "metadata": {
    "colab": {
      "provenance": []
    },
    "kernelspec": {
      "display_name": "Python 3",
      "name": "python3"
    },
    "language_info": {
      "name": "python"
    }
  },
  "nbformat": 4,
  "nbformat_minor": 0
}